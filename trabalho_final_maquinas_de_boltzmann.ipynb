{
 "cells": [
  {
   "cell_type": "markdown",
   "metadata": {
    "colab_type": "text",
    "id": "vCf4SaTjFSWq"
   },
   "source": [
    "# Trabalho de Implementação Final - Redes Neurais"
   ]
  },
  {
   "cell_type": "markdown",
   "metadata": {
    "colab_type": "text",
    "id": "W4yjHX7xFZyM"
   },
   "source": [
    "## Tema: Máquinas de Boltzmann\n",
    "## Abordagem: Máquinas de Boltzmann Restritas como sistema de recomendação de filmes."
   ]
  },
  {
   "cell_type": "markdown",
   "metadata": {
    "colab_type": "text",
    "id": "ctBocdUqFE4T"
   },
   "source": [
    "### Nome: Alberto Rodrigues Ferreira \n",
    "#### Matricula: 391278\n",
    "### Nome: Daniel de Amaral da Silva\n",
    "#### Matrícula: 385802"
   ]
  },
  {
   "cell_type": "markdown",
   "metadata": {
    "colab_type": "text",
    "id": "5feJi6QXGFCk"
   },
   "source": [
    "#### *Bibliotecas*"
   ]
  },
  {
   "cell_type": "code",
   "execution_count": 1,
   "metadata": {
    "colab": {
     "base_uri": "https://localhost:8080/",
     "height": 35
    },
    "colab_type": "code",
    "id": "BC0mRJcl-bvF",
    "outputId": "d20024a7-6059-4b97-eae7-7c114de5cfba"
   },
   "outputs": [
    {
     "data": {
      "text/plain": [
       "{'divide': 'warn', 'invalid': 'warn', 'over': 'warn', 'under': 'ignore'}"
      ]
     },
     "execution_count": 1,
     "metadata": {
      "tags": []
     },
     "output_type": "execute_result"
    }
   ],
   "source": [
    "import numpy as np\n",
    "import pandas as pd\n",
    "import matplotlib.pyplot as plt\n",
    "from sklearn.model_selection import train_test_split\n",
    "np.seterr(all = 'ignore') #Silence warnings"
   ]
  },
  {
   "cell_type": "code",
   "execution_count": 2,
   "metadata": {
    "colab": {
     "base_uri": "https://localhost:8080/",
     "height": 129
    },
    "colab_type": "code",
    "id": "4zNBRyHKhZ1P",
    "outputId": "03fa74bc-e96d-4a6b-b4e9-0d488df0bae6"
   },
   "outputs": [
    {
     "name": "stdout",
     "output_type": "stream",
     "text": [
      "Go to this URL in a browser: https://accounts.google.com/o/oauth2/auth?client_id=947318989803-6bn6qk8qdgf4n4g3pfee6491hc0brc4i.apps.googleusercontent.com&redirect_uri=urn%3Aietf%3Awg%3Aoauth%3A2.0%3Aoob&scope=email%20https%3A%2F%2Fwww.googleapis.com%2Fauth%2Fdocs.test%20https%3A%2F%2Fwww.googleapis.com%2Fauth%2Fdrive%20https%3A%2F%2Fwww.googleapis.com%2Fauth%2Fdrive.photos.readonly%20https%3A%2F%2Fwww.googleapis.com%2Fauth%2Fpeopleapi.readonly&response_type=code\n",
      "\n",
      "Enter your authorization code:\n",
      "··········\n",
      "Mounted at /content/drive\n"
     ]
    }
   ],
   "source": [
    "from google.colab import drive\n",
    "drive.mount('/content/drive')"
   ]
  },
  {
   "cell_type": "markdown",
   "metadata": {
    "colab_type": "text",
    "id": "2Cka0jmIGcMN"
   },
   "source": [
    "#### *Importando dados e Definindo o número de usuários e filmes*"
   ]
  },
  {
   "cell_type": "code",
   "execution_count": 0,
   "metadata": {
    "colab": {},
    "colab_type": "code",
    "id": "7CdbYyW_Kr7a"
   },
   "outputs": [],
   "source": [
    "ratings = pd.read_csv('drive/My Drive/TrabalhoFinalRedesNeurais/ratings.csv', sep = ',', header = None,names=[\"User\",\"Movie\",\"Rating\",\"Timestamp\"])"
   ]
  },
  {
   "cell_type": "code",
   "execution_count": 4,
   "metadata": {
    "colab": {
     "base_uri": "https://localhost:8080/",
     "height": 146
    },
    "colab_type": "code",
    "id": "j9PQ60HnEkKW",
    "outputId": "2860b921-af48-4578-8672-2092e31c5fd6"
   },
   "outputs": [
    {
     "name": "stdout",
     "output_type": "stream",
     "text": [
      "   User  Movie  Rating  Timestamp\n",
      "0     1   1193       5  978300760\n",
      "1     1    661       3  978302109\n",
      "2     1    914       3  978301968\n",
      "3     1   3408       4  978300275\n",
      "4     1   2355       5  978824291\n",
      "(1000209, 4)\n"
     ]
    }
   ],
   "source": [
    "print(ratings.head())\n",
    "print(ratings.shape)"
   ]
  },
  {
   "cell_type": "code",
   "execution_count": 0,
   "metadata": {
    "colab": {},
    "colab_type": "code",
    "id": "7wAOPHOKEHUl"
   },
   "outputs": [],
   "source": [
    "size_users=len(np.unique(ratings[\"User\"]))\n",
    "size_movies=max(ratings[\"Movie\"])"
   ]
  },
  {
   "cell_type": "code",
   "execution_count": 6,
   "metadata": {
    "colab": {
     "base_uri": "https://localhost:8080/",
     "height": 35
    },
    "colab_type": "code",
    "id": "SM7hRHRmOkX5",
    "outputId": "7195e86e-eae0-4210-cd18-a40870342cea"
   },
   "outputs": [
    {
     "data": {
      "text/plain": [
       "6040"
      ]
     },
     "execution_count": 6,
     "metadata": {
      "tags": []
     },
     "output_type": "execute_result"
    }
   ],
   "source": [
    "size_users"
   ]
  },
  {
   "cell_type": "code",
   "execution_count": 7,
   "metadata": {
    "colab": {
     "base_uri": "https://localhost:8080/",
     "height": 35
    },
    "colab_type": "code",
    "id": "gHOErx-dOmDi",
    "outputId": "f9e3a482-f772-48a1-d862-0b90b56434dc"
   },
   "outputs": [
    {
     "data": {
      "text/plain": [
       "3952"
      ]
     },
     "execution_count": 7,
     "metadata": {
      "tags": []
     },
     "output_type": "execute_result"
    }
   ],
   "source": [
    "size_movies"
   ]
  },
  {
   "cell_type": "markdown",
   "metadata": {
    "colab_type": "text",
    "id": "dA2e-9Iqhoaf"
   },
   "source": [
    "#### Definindo conjunto de treino, validação e teste."
   ]
  },
  {
   "cell_type": "code",
   "execution_count": 0,
   "metadata": {
    "colab": {},
    "colab_type": "code",
    "id": "So44NbYmL4k5"
   },
   "outputs": [],
   "source": [
    "X_train, X_test, y_train, y_test = train_test_split(ratings[[\"Movie\",\"Rating\",\"Timestamp\"]], \n",
    "                                                    ratings[[\"User\"]], test_size=0.3, \n",
    "                                                    random_state=1, \n",
    "                                                    stratify = ratings[[\"User\"]])\n",
    "\n",
    "X_train, X_val, y_train, y_val = train_test_split(X_train, y_train, \n",
    "                                                   test_size=0.15, random_state=1,\n",
    "                                                   stratify = y_train)"
   ]
  },
  {
   "cell_type": "markdown",
   "metadata": {
    "colab_type": "text",
    "id": "AzG_x2puGrU1"
   },
   "source": [
    "#### *Lendo o Conjunto de Treino e Teste*"
   ]
  },
  {
   "cell_type": "code",
   "execution_count": 9,
   "metadata": {
    "colab": {
     "base_uri": "https://localhost:8080/",
     "height": 146
    },
    "colab_type": "code",
    "id": "3EX--H1M5V31",
    "outputId": "d161f1f9-131d-4233-c940-a5f091db7651"
   },
   "outputs": [
    {
     "name": "stdout",
     "output_type": "stream",
     "text": [
      "[[4053  529    3]\n",
      " [2592 3952    4]\n",
      " [4561 2291    3]\n",
      " ...\n",
      " [2080  904    5]\n",
      " [1835 3386    5]\n",
      " [3272 3735    4]]\n"
     ]
    }
   ],
   "source": [
    "train=np.column_stack((y_train,X_train))[:,:-1]\n",
    "print(train)"
   ]
  },
  {
   "cell_type": "code",
   "execution_count": 10,
   "metadata": {
    "colab": {
     "base_uri": "https://localhost:8080/",
     "height": 146
    },
    "colab_type": "code",
    "id": "wEbSgV1T5fr3",
    "outputId": "8828530b-5f2d-4f3e-cbdb-84d71051cf6c"
   },
   "outputs": [
    {
     "name": "stdout",
     "output_type": "stream",
     "text": [
      "[[4373 2206    4]\n",
      " [2059 1485    2]\n",
      " [1722 2149    3]\n",
      " ...\n",
      " [2453 3868    4]\n",
      " [3471 1129    4]\n",
      " [3031 2141    4]]\n"
     ]
    }
   ],
   "source": [
    "test=np.column_stack((y_test,X_test))[:,:-1]\n",
    "print(test)"
   ]
  },
  {
   "cell_type": "code",
   "execution_count": 11,
   "metadata": {
    "colab": {
     "base_uri": "https://localhost:8080/",
     "height": 146
    },
    "colab_type": "code",
    "id": "3wvGI8Aa5gHM",
    "outputId": "376640d5-7a2f-48bf-82f7-4eaf164fa8db"
   },
   "outputs": [
    {
     "name": "stdout",
     "output_type": "stream",
     "text": [
      "[[ 482 2372    3]\n",
      " [1449 2186    4]\n",
      " [3727 1291    4]\n",
      " ...\n",
      " [2018 2112    3]\n",
      " [2264 1127    4]\n",
      " [5269 1222    3]]\n"
     ]
    }
   ],
   "source": [
    "val=np.column_stack((y_val,X_val))[:,:-1]\n",
    "print(val)"
   ]
  },
  {
   "cell_type": "markdown",
   "metadata": {
    "colab_type": "text",
    "id": "DWa302NfG0X3"
   },
   "source": [
    "#### *Modificando o shape dos dados para o shape do input da RBM*"
   ]
  },
  {
   "cell_type": "code",
   "execution_count": 0,
   "metadata": {
    "colab": {},
    "colab_type": "code",
    "id": "kB9grAdbK1u5"
   },
   "outputs": [],
   "source": [
    "def convert(data):\n",
    "    new_data = []\n",
    "    for id_users in range(1, size_users + 1):\n",
    "        id_movies = data[:,1][data[:,0] == id_users]\n",
    "        rating_values = data[:,2][data[:,0] == id_users]\n",
    "        ratings = -np.ones(size_movies)\n",
    "        ratings[id_movies - 1] = rating_values\n",
    "        new_data.append(list(ratings))\n",
    "    return np.array(new_data)"
   ]
  },
  {
   "cell_type": "code",
   "execution_count": 0,
   "metadata": {
    "colab": {},
    "colab_type": "code",
    "id": "kCWexeuRK4VK"
   },
   "outputs": [],
   "source": [
    "train = convert(train)\n",
    "test= convert(test)\n",
    "val=convert(val)"
   ]
  },
  {
   "cell_type": "markdown",
   "metadata": {
    "colab_type": "text",
    "id": "9dDtvjy7USCK"
   },
   "source": [
    "#### Verificando cada observação do conjunto de treino e teste."
   ]
  },
  {
   "cell_type": "code",
   "execution_count": 14,
   "metadata": {
    "colab": {
     "base_uri": "https://localhost:8080/",
     "height": 146
    },
    "colab_type": "code",
    "id": "HVbBGNNYWT3W",
    "outputId": "cecb9ced-b927-4f1c-faad-5cdd2febbe37"
   },
   "outputs": [
    {
     "data": {
      "text/plain": [
       "array([[ 5., -1., -1., ..., -1., -1., -1.],\n",
       "       [-1., -1., -1., ..., -1., -1., -1.],\n",
       "       [-1., -1., -1., ..., -1., -1., -1.],\n",
       "       ...,\n",
       "       [-1., -1., -1., ..., -1., -1., -1.],\n",
       "       [-1., -1., -1., ..., -1., -1., -1.],\n",
       "       [-1., -1., -1., ..., -1., -1., -1.]])"
      ]
     },
     "execution_count": 14,
     "metadata": {
      "tags": []
     },
     "output_type": "execute_result"
    }
   ],
   "source": [
    "train"
   ]
  },
  {
   "cell_type": "code",
   "execution_count": 15,
   "metadata": {
    "colab": {
     "base_uri": "https://localhost:8080/",
     "height": 146
    },
    "colab_type": "code",
    "id": "09S6e8PBWUfX",
    "outputId": "7097f549-d728-4d01-c6a9-9df2e6db3545"
   },
   "outputs": [
    {
     "data": {
      "text/plain": [
       "array([[-1., -1., -1., ..., -1., -1., -1.],\n",
       "       [-1., -1., -1., ..., -1., -1., -1.],\n",
       "       [-1., -1., -1., ..., -1., -1., -1.],\n",
       "       ...,\n",
       "       [-1., -1., -1., ..., -1., -1., -1.],\n",
       "       [-1., -1., -1., ..., -1., -1., -1.],\n",
       "       [ 3., -1., -1., ..., -1., -1., -1.]])"
      ]
     },
     "execution_count": 15,
     "metadata": {
      "tags": []
     },
     "output_type": "execute_result"
    }
   ],
   "source": [
    "test"
   ]
  },
  {
   "cell_type": "code",
   "execution_count": 16,
   "metadata": {
    "colab": {
     "base_uri": "https://localhost:8080/",
     "height": 146
    },
    "colab_type": "code",
    "id": "JCZCPs8-6hdD",
    "outputId": "d2e969f9-2634-4189-94a2-5187431cc661"
   },
   "outputs": [
    {
     "data": {
      "text/plain": [
       "array([[-1., -1., -1., ..., -1., -1., -1.],\n",
       "       [-1., -1., -1., ..., -1., -1., -1.],\n",
       "       [-1., -1., -1., ..., -1., -1., -1.],\n",
       "       ...,\n",
       "       [-1., -1., -1., ..., -1., -1., -1.],\n",
       "       [-1., -1., -1., ..., -1., -1., -1.],\n",
       "       [-1., -1., -1., ..., -1., -1., -1.]])"
      ]
     },
     "execution_count": 16,
     "metadata": {
      "tags": []
     },
     "output_type": "execute_result"
    }
   ],
   "source": [
    "val"
   ]
  },
  {
   "cell_type": "code",
   "execution_count": 17,
   "metadata": {
    "colab": {
     "base_uri": "https://localhost:8080/",
     "height": 72
    },
    "colab_type": "code",
    "id": "wBgF4IljWaLd",
    "outputId": "57abf9c9-6fd6-4eed-f1a8-3a5e36d1194b"
   },
   "outputs": [
    {
     "name": "stdout",
     "output_type": "stream",
     "text": [
      "(6040, 3952)\n",
      "(6040, 3952)\n",
      "(6040, 3952)\n"
     ]
    }
   ],
   "source": [
    "print(train.shape)\n",
    "print(test.shape)\n",
    "print(val.shape)"
   ]
  },
  {
   "cell_type": "code",
   "execution_count": 18,
   "metadata": {
    "colab": {
     "base_uri": "https://localhost:8080/",
     "height": 35
    },
    "colab_type": "code",
    "id": "lld7xrSXT5ur",
    "outputId": "169c0475-01fe-4b87-b8dc-6d9b0a121ffd"
   },
   "outputs": [
    {
     "data": {
      "text/plain": [
       "(array([-1.,  3.,  4.,  5.]), array([3921,    4,   18,    9]))"
      ]
     },
     "execution_count": 18,
     "metadata": {
      "tags": []
     },
     "output_type": "execute_result"
    }
   ],
   "source": [
    "np.unique(train[0],return_counts=True)"
   ]
  },
  {
   "cell_type": "code",
   "execution_count": 19,
   "metadata": {
    "colab": {
     "base_uri": "https://localhost:8080/",
     "height": 35
    },
    "colab_type": "code",
    "id": "y_SGHkWy6vwQ",
    "outputId": "54a4dc60-cf1d-433d-e349-2d1877608bcc"
   },
   "outputs": [
    {
     "data": {
      "text/plain": [
       "(array([-1.,  3.,  4.,  5.]), array([3946,    1,    3,    2]))"
      ]
     },
     "execution_count": 19,
     "metadata": {
      "tags": []
     },
     "output_type": "execute_result"
    }
   ],
   "source": [
    "np.unique(val[0],return_counts=True)"
   ]
  },
  {
   "cell_type": "code",
   "execution_count": 20,
   "metadata": {
    "colab": {
     "base_uri": "https://localhost:8080/",
     "height": 35
    },
    "colab_type": "code",
    "id": "uCD6g-cQUkZk",
    "outputId": "a2526043-19f9-423e-8337-b0b461225f6e"
   },
   "outputs": [
    {
     "data": {
      "text/plain": [
       "(array([-1.,  3.,  4.,  5.]), array([3936,    3,    6,    7]))"
      ]
     },
     "execution_count": 20,
     "metadata": {
      "tags": []
     },
     "output_type": "execute_result"
    }
   ],
   "source": [
    "np.unique(test[0],return_counts=True)"
   ]
  },
  {
   "cell_type": "markdown",
   "metadata": {
    "colab_type": "text",
    "id": "MODawStbHYzT"
   },
   "source": [
    "#### *Transformando em binário, a classificação do filme*"
   ]
  },
  {
   "cell_type": "code",
   "execution_count": 0,
   "metadata": {
    "colab": {},
    "colab_type": "code",
    "id": "r-IiTJ4iK7o6"
   },
   "outputs": [],
   "source": [
    "def binarize(dados, k = 3):\n",
    "    for i in range(dados.shape[0]):\n",
    "        for j in range(1,6):\n",
    "            if j >= k:\n",
    "                dados[i][dados[i] == j] = 1\n",
    "            else:\n",
    "                dados[i][dados[i] == j] = 0\n",
    "    return dados"
   ]
  },
  {
   "cell_type": "code",
   "execution_count": 0,
   "metadata": {
    "colab": {},
    "colab_type": "code",
    "id": "AQYQv6qzK_5E"
   },
   "outputs": [],
   "source": [
    "train = binarize(train)\n",
    "test = binarize(test)\n",
    "val = binarize(val)"
   ]
  },
  {
   "cell_type": "code",
   "execution_count": 23,
   "metadata": {
    "colab": {
     "base_uri": "https://localhost:8080/",
     "height": 72
    },
    "colab_type": "code",
    "id": "H0XC06rCYY8z",
    "outputId": "9e827c46-8dde-4bd3-dfcb-4d09a802f896"
   },
   "outputs": [
    {
     "name": "stdout",
     "output_type": "stream",
     "text": [
      "(array([-1.,  0.,  1.]), array([3834,   33,   85]))\n",
      "(array([-1.,  0.,  1.]), array([3893,   17,   42]))\n",
      "(array([-1.,  0.,  1.]), array([3931,    5,   16]))\n"
     ]
    }
   ],
   "source": [
    "print(np.unique(train[4,:],return_counts=True))\n",
    "print(np.unique(test[4,:],return_counts=True))\n",
    "print(np.unique(val[4,:],return_counts=True))"
   ]
  },
  {
   "cell_type": "markdown",
   "metadata": {
    "colab_type": "text",
    "id": "IpAuaV84HnwI"
   },
   "source": [
    "#### *Classe do Algoritmo RBM*"
   ]
  },
  {
   "cell_type": "code",
   "execution_count": 0,
   "metadata": {
    "colab": {},
    "colab_type": "code",
    "id": "wxUsUIvbLNPr"
   },
   "outputs": [],
   "source": [
    "class RBM():\n",
    "    def __init__(self, nv, nh, k = 1, nb_epoch = 20, batch_size = 200):\n",
    "        self.W = np.random.normal(scale = 0.0001, size = (nv, nh))\n",
    "        self.a = np.zeros(shape = (1, nv))\n",
    "        self.b = np.zeros(shape = (1, nh))\n",
    "        self.params_vec = []\n",
    "        self.size_users = 6040\n",
    "        self.nb_epoch = nb_epoch\n",
    "        self.batch_size = batch_size\n",
    "        self.k2 = k\n",
    "        \n",
    "    def sigmoid(self,x):\n",
    "        return 1 / (1 + np.exp(-x))\n",
    "    \n",
    "    def sample_h(self, x):\n",
    "        xw = x.dot(self.W)\n",
    "        activation = xw + np.sum(self.a)\n",
    "        p_h_given_v = self.sigmoid(activation)\n",
    "        return p_h_given_v, np.random.binomial(1, p = p_h_given_v)\n",
    "      \n",
    "    def sample_v(self, y):\n",
    "        yw = y.dot(self.W.T)\n",
    "        activation = yw + np.sum(self.b)\n",
    "        p_v_given_h = self.sigmoid(activation)\n",
    "        return p_v_given_h, np.random.binomial(1, p = p_v_given_h)\n",
    "      \n",
    "    def update(self, v0, vk, ph0, phk):\n",
    "        self.W += v0.T.dot(ph0) - vk.T.dot(phk)\n",
    "        self.a += np.sum(v0 - vk, axis = 0)        \n",
    "        self.b += np.sum(ph0 - phk, axis = 0)\n",
    "        \n",
    "    def fit(self, train, val, plot_loss = False):\n",
    "      self.train = train\n",
    "      self.val = val\n",
    "      tr_loss = []\n",
    "      vs_loss = []\n",
    "      for epoch in range(1, self.nb_epoch + 1):\n",
    "          train_loss = 0\n",
    "          s = 0\n",
    "          for id_user in range(0, self.size_users, self.batch_size):\n",
    "              vk = train[id_user:id_user+self.batch_size,:]\n",
    "              v0 = train[id_user:id_user+self.batch_size,:]\n",
    "              ph0, h0 = self.sample_h(v0)\n",
    "              v1, _ = self.sample_v(h0)\n",
    "              ph1, _ = self.sample_h(v1)\n",
    "              for k in range(self.k2):\n",
    "                  hk = self.sample_h(vk)[1]\n",
    "                  vk = self.sample_v(hk)[1]\n",
    "                  vk[v0<0] = v0[v0<0]\n",
    "              phk = self.sample_h(vk)[0]\n",
    "              self.update(v0, vk, ph0, phk)\n",
    "              train_loss += np.mean(np.abs(v0[v0>=0] - vk[v0>=0]))\n",
    "              s += 1\n",
    "          # Validating\n",
    "          val_loss = 0\n",
    "          for id_user in range(self.size_users):\n",
    "              v = self.train[id_user:id_user+1,:]\n",
    "              vt = val[id_user:id_user+1,:]\n",
    "              if len(vt[vt>=0]) > 0:\n",
    "                  for k in range(self.k2):\n",
    "                    h = self.sample_h(v)[1]\n",
    "                    v = self.sample_v(h)[1]\n",
    "                  val_loss += np.mean(np.abs(vt[vt>=0] - v[vt>=0]))      \n",
    "          vs_loss.append(val_loss/self.size_users)\n",
    "          tr_loss.append(train_loss/s)\n",
    "          print('epoch: '+str(epoch)+' train_loss: '+str(train_loss/s) + ' val_loss: '+str(val_loss/self.size_users)+'\\n')\n",
    "          self.params_vec.append([self.W, self.a, self.b])\n",
    "      self.W, self.a, self.b = self.params_vec[np.argmin(vs_loss)]\n",
    "      if plot_loss == True:\n",
    "        plt.plot(range(1, self.nb_epoch + 1), tr_loss, label='Treinamento')\n",
    "        plt.plot(range(1, self.nb_epoch + 1), vs_loss, label='Validação')\n",
    "        plt.xlabel(\"Épocas\")\n",
    "        plt.ylabel(\"Erro\")\n",
    "        plt.ylim((0.12,0.3))\n",
    "        plt.legend(loc=\"upper right\")\n",
    "        plt.show()\n",
    "        \n",
    "    def test(self, test):\n",
    "      test_loss = 0\n",
    "      ts_loss = []\n",
    "      for id_user in range(self.size_users):\n",
    "          v = self.train[id_user:id_user+1,:]\n",
    "          vt = test[id_user:id_user+1,:]\n",
    "          if len(vt[vt>=0]) > 0:\n",
    "              for k in range(self.k2):\n",
    "                h = rbm.sample_h(v)[1]\n",
    "                prob, v = rbm.sample_v(h)\n",
    "              test_loss += np.mean(np.abs(vt[vt>=0] - v[vt>=0]))      \n",
    "      ts_loss.append(test_loss/size_users)\n",
    "      print('test_loss: '+str(test_loss/size_users))"
   ]
  },
  {
   "cell_type": "markdown",
   "metadata": {
    "colab_type": "text",
    "id": "jmNGW5ozHxMw"
   },
   "source": [
    "#### *Hiper-parâmetros*"
   ]
  },
  {
   "cell_type": "code",
   "execution_count": 0,
   "metadata": {
    "colab": {},
    "colab_type": "code",
    "id": "Plmk8jqagrbe"
   },
   "outputs": [],
   "source": [
    "k2=3"
   ]
  },
  {
   "cell_type": "markdown",
   "metadata": {
    "colab_type": "text",
    "id": "Ndb7lvmcH9mC"
   },
   "source": [
    "#### *Criação do objeto RBM*"
   ]
  },
  {
   "cell_type": "code",
   "execution_count": 0,
   "metadata": {
    "colab": {},
    "colab_type": "code",
    "id": "B0S8P1aIH3_B"
   },
   "outputs": [],
   "source": [
    "rbm = RBM(nv=size_movies, nh=100, batch_size=200, k = k2, nb_epoch=30)"
   ]
  },
  {
   "cell_type": "markdown",
   "metadata": {
    "colab_type": "text",
    "id": "w49ilnVCH64z"
   },
   "source": [
    "#### *Treinamento da Rede*"
   ]
  },
  {
   "cell_type": "code",
   "execution_count": 27,
   "metadata": {
    "colab": {
     "base_uri": "https://localhost:8080/",
     "height": 1394
    },
    "colab_type": "code",
    "id": "uI9m-WSAHRxY",
    "outputId": "48a89f79-1c97-4988-b93a-e0c947e24b18"
   },
   "outputs": [
    {
     "name": "stdout",
     "output_type": "stream",
     "text": [
      "epoch: 1 train_loss: 0.24443650776483927 val_loss: 0.1780769964325002\n",
      "\n",
      "epoch: 2 train_loss: 0.22951234900468326 val_loss: 0.17437814229474285\n",
      "\n",
      "epoch: 3 train_loss: 0.229308221290388 val_loss: 0.18237739213035786\n",
      "\n",
      "epoch: 4 train_loss: 0.2295390910543983 val_loss: 0.17351473153155997\n",
      "\n",
      "epoch: 5 train_loss: 0.22907591115671164 val_loss: 0.17699066782357742\n",
      "\n",
      "epoch: 6 train_loss: 0.22956288976191427 val_loss: 0.17636218155302605\n",
      "\n",
      "epoch: 7 train_loss: 0.22927116709186732 val_loss: 0.18430006419227274\n",
      "\n",
      "epoch: 8 train_loss: 0.23033130660294343 val_loss: 0.17802909960289634\n",
      "\n",
      "epoch: 9 train_loss: 0.22919354592501817 val_loss: 0.17756457518985785\n",
      "\n",
      "epoch: 10 train_loss: 0.23015818330920682 val_loss: 0.1782883216020959\n",
      "\n",
      "epoch: 11 train_loss: 0.2296609016400695 val_loss: 0.1784320068841577\n",
      "\n",
      "epoch: 12 train_loss: 0.22916223514444745 val_loss: 0.1772115132538763\n",
      "\n",
      "epoch: 13 train_loss: 0.22923757725921992 val_loss: 0.17539432900855445\n",
      "\n",
      "epoch: 14 train_loss: 0.22999839406078645 val_loss: 0.1747494919241518\n",
      "\n",
      "epoch: 15 train_loss: 0.2289706812575796 val_loss: 0.18502799845703133\n",
      "\n",
      "epoch: 16 train_loss: 0.23045344764373854 val_loss: 0.17538273766592583\n",
      "\n",
      "epoch: 17 train_loss: 0.2291841352288895 val_loss: 0.17662125165530035\n",
      "\n",
      "epoch: 18 train_loss: 0.22971074961026142 val_loss: 0.1780577376801025\n",
      "\n",
      "epoch: 19 train_loss: 0.22930334071022945 val_loss: 0.17965136585703265\n",
      "\n",
      "epoch: 20 train_loss: 0.23028332946284072 val_loss: 0.17476956802309032\n",
      "\n",
      "epoch: 21 train_loss: 0.22982501904285513 val_loss: 0.17735370060533678\n",
      "\n",
      "epoch: 22 train_loss: 0.2292623101060399 val_loss: 0.1755073031079534\n",
      "\n",
      "epoch: 23 train_loss: 0.22951758845911335 val_loss: 0.1748554745505775\n",
      "\n",
      "epoch: 24 train_loss: 0.22923935251290783 val_loss: 0.17458221803100948\n",
      "\n",
      "epoch: 25 train_loss: 0.22905012071944336 val_loss: 0.17882953330374213\n",
      "\n",
      "epoch: 26 train_loss: 0.22982464957404303 val_loss: 0.1742600394028032\n",
      "\n",
      "epoch: 27 train_loss: 0.22863601454131924 val_loss: 0.1849367028580547\n",
      "\n",
      "epoch: 28 train_loss: 0.2301937154726373 val_loss: 0.1773763113418658\n",
      "\n",
      "epoch: 29 train_loss: 0.22913360753951964 val_loss: 0.17655184385102407\n",
      "\n",
      "epoch: 30 train_loss: 0.2293472030724464 val_loss: 0.17214767302294876\n",
      "\n"
     ]
    },
    {
     "data": {
      "image/png": "[encoded data removed]",
      "text/plain": [
       "<Figure size 432x288 with 1 Axes>"
      ]
     },
     "metadata": {
      "tags": []
     },
     "output_type": "display_data"
    }
   ],
   "source": [
    "rbm.fit(train, val, plot_loss=True)"
   ]
  },
  {
   "cell_type": "code",
   "execution_count": 28,
   "metadata": {
    "colab": {
     "base_uri": "https://localhost:8080/",
     "height": 35
    },
    "colab_type": "code",
    "id": "lmG9lfPGOlKL",
    "outputId": "9f0fe301-a7bc-4449-c408-d87c7ec9bc39"
   },
   "outputs": [
    {
     "name": "stdout",
     "output_type": "stream",
     "text": [
      "test_loss: 0.17015152466061667\n"
     ]
    }
   ],
   "source": [
    "rbm.test(test)"
   ]
  },
  {
   "cell_type": "markdown",
   "metadata": {
    "colab_type": "text",
    "id": "2G0_I_nwIPNG"
   },
   "source": [
    "#### *Contextualizando*"
   ]
  },
  {
   "cell_type": "markdown",
   "metadata": {
    "colab_type": "text",
    "id": "shnt-Qfb0UTj"
   },
   "source": [
    "#### *Recomendação para um determinado array de filmes*"
   ]
  },
  {
   "cell_type": "code",
   "execution_count": 0,
   "metadata": {
    "colab": {},
    "colab_type": "code",
    "id": "pfx13srNWLCR"
   },
   "outputs": [],
   "source": [
    "movies = pd.read_csv('drive/My Drive/Boltzmann_Machines/ml-1m/movies.dat', sep = '::', header = None, engine = 'python', encoding = 'latin-1',names=[\"ID\",\"name_movie\",\"type\"])"
   ]
  },
  {
   "cell_type": "code",
   "execution_count": 30,
   "metadata": {
    "colab": {
     "base_uri": "https://localhost:8080/",
     "height": 238
    },
    "colab_type": "code",
    "id": "5W_FzrFoxEGt",
    "outputId": "9271024e-0aca-42ae-9111-9e125fa03b98"
   },
   "outputs": [
    {
     "data": {
      "text/html": [
       "<div>\n",
       "<style scoped>\n",
       "    .dataframe tbody tr th:only-of-type {\n",
       "        vertical-align: middle;\n",
       "    }\n",
       "\n",
       "    .dataframe tbody tr th {\n",
       "        vertical-align: top;\n",
       "    }\n",
       "\n",
       "    .dataframe thead th {\n",
       "        text-align: right;\n",
       "    }\n",
       "</style>\n",
       "<table border=\"1\" class=\"dataframe\">\n",
       "  <thead>\n",
       "    <tr style=\"text-align: right;\">\n",
       "      <th></th>\n",
       "      <th>name_movie</th>\n",
       "      <th>type</th>\n",
       "    </tr>\n",
       "    <tr>\n",
       "      <th>ID</th>\n",
       "      <th></th>\n",
       "      <th></th>\n",
       "    </tr>\n",
       "  </thead>\n",
       "  <tbody>\n",
       "    <tr>\n",
       "      <th>1</th>\n",
       "      <td>Toy Story (1995)</td>\n",
       "      <td>Animation|Children's|Comedy</td>\n",
       "    </tr>\n",
       "    <tr>\n",
       "      <th>2</th>\n",
       "      <td>Jumanji (1995)</td>\n",
       "      <td>Adventure|Children's|Fantasy</td>\n",
       "    </tr>\n",
       "    <tr>\n",
       "      <th>3</th>\n",
       "      <td>Grumpier Old Men (1995)</td>\n",
       "      <td>Comedy|Romance</td>\n",
       "    </tr>\n",
       "    <tr>\n",
       "      <th>4</th>\n",
       "      <td>Waiting to Exhale (1995)</td>\n",
       "      <td>Comedy|Drama</td>\n",
       "    </tr>\n",
       "    <tr>\n",
       "      <th>5</th>\n",
       "      <td>Father of the Bride Part II (1995)</td>\n",
       "      <td>Comedy</td>\n",
       "    </tr>\n",
       "  </tbody>\n",
       "</table>\n",
       "</div>"
      ],
      "text/plain": [
       "                            name_movie                          type\n",
       "ID                                                                  \n",
       "1                     Toy Story (1995)   Animation|Children's|Comedy\n",
       "2                       Jumanji (1995)  Adventure|Children's|Fantasy\n",
       "3              Grumpier Old Men (1995)                Comedy|Romance\n",
       "4             Waiting to Exhale (1995)                  Comedy|Drama\n",
       "5   Father of the Bride Part II (1995)                        Comedy"
      ]
     },
     "execution_count": 30,
     "metadata": {
      "tags": []
     },
     "output_type": "execute_result"
    }
   ],
   "source": [
    "movies=movies.set_index(\"ID\")\n",
    "movies.head()"
   ]
  },
  {
   "cell_type": "code",
   "execution_count": 31,
   "metadata": {
    "colab": {
     "base_uri": "https://localhost:8080/",
     "height": 8981
    },
    "colab_type": "code",
    "id": "irtaGhA8QAxm",
    "outputId": "7947630c-9e3a-47ba-dafd-7c09bd37c9ce"
   },
   "outputs": [
    {
     "name": "stdout",
     "output_type": "stream",
     "text": [
      "1 Usuário\n",
      " Filmes Recomendados: \n",
      " Quantidade de Filmes Assistidos: 53 Quantidades de Filmes Recomendados:  5 Quantidade De Filmes Total: 3952 \n",
      "                              name_movie             type\n",
      "ID                                                      \n",
      "1347  Nightmare on Elm Street, A (1984)           Horror\n",
      "1677               Critical Care (1997)           Comedy\n",
      "2160             Rosemary's Baby (1968)  Horror|Thriller\n",
      "2329          American History X (1998)            Drama\n",
      "2928           Razor's Edge, The (1984)            Drama \n",
      "\n",
      "2 Usuário\n",
      " Filmes Recomendados: \n",
      " Quantidade de Filmes Assistidos: 129 Quantidades de Filmes Recomendados:  5 Quantidade De Filmes Total: 3952 \n",
      "                                  name_movie                  type\n",
      "ID                                                               \n",
      "279                        My Family (1995)                 Drama\n",
      "709                 Oliver & Company (1988)  Animation|Children's\n",
      "1927  All Quiet on the Western Front (1930)                   War\n",
      "2626               Edge of Seventeen (1998)  Comedy|Drama|Romance\n",
      "3942      Sorority House Massacre II (1990)                Horror \n",
      "\n",
      "3 Usuário\n",
      " Filmes Recomendados: \n",
      " Quantidade de Filmes Assistidos: 51 Quantidades de Filmes Recomendados:  5 Quantidade De Filmes Total: 3952 \n",
      "                             name_movie              type\n",
      "ID                                                      \n",
      "804               She's the One (1996)    Comedy|Romance\n",
      "1184               Mediterraneo (1991)        Comedy|War\n",
      "2133  Adventures in Babysitting (1987)  Adventure|Comedy\n",
      "2291        Edward Scissorhands (1990)     Drama|Romance\n",
      "3028   Taming of the Shrew, The (1967)            Comedy \n",
      "\n",
      "4 Usuário\n",
      " Filmes Recomendados: \n",
      " Quantidade de Filmes Assistidos: 21 Quantidades de Filmes Recomendados:  5 Quantidade De Filmes Total: 3952 \n",
      "                             name_movie                              type\n",
      "ID                                                                      \n",
      "164       Devil in a Blue Dress (1995)  Crime|Film-Noir|Mystery|Thriller\n",
      "277      Miracle on 34th Street (1994)                             Drama\n",
      "1088              Dirty Dancing (1987)                   Musical|Romance\n",
      "2369  Desperately Seeking Susan (1985)                    Comedy|Romance\n",
      "3230           Odessa File, The (1974)                          Thriller \n",
      "\n",
      "5 Usuário\n",
      " Filmes Recomendados: \n",
      " Quantidade de Filmes Assistidos: 198 Quantidades de Filmes Recomendados:  5 Quantidade De Filmes Total: 3952 \n",
      "                                   name_movie           type\n",
      "ID                                                         \n",
      "690   Promise, The (Versprechen, Das) (1994)        Romance\n",
      "964              Angel and the Badman (1947)        Western\n",
      "2034                  Black Hole, The (1979)         Sci-Fi\n",
      "3065                        Ten Benny (1997)          Drama\n",
      "3103                   Stanley & Iris (1990)  Drama|Romance \n",
      "\n",
      "6 Usuário\n",
      " Filmes Recomendados: \n",
      " Quantidade de Filmes Assistidos: 71 Quantidades de Filmes Recomendados:  4 Quantidade De Filmes Total: 3952 \n",
      "                           name_movie                      type\n",
      "ID                                                            \n",
      "1504              Hollow Reed (1996)                     Drama\n",
      "1654  FairyTale: A True Story (1997)  Children's|Drama|Fantasy\n",
      "2922            Hang 'em High (1967)                   Western\n",
      "3267             Mariachi, El (1992)           Action|Thriller \n",
      "\n",
      "7 Usuário\n",
      " Filmes Recomendados: \n",
      " Quantidade de Filmes Assistidos: 31 Quantidades de Filmes Recomendados:  5 Quantidade De Filmes Total: 3952 \n",
      "                               name_movie            type\n",
      "ID                                                      \n",
      "1292                  Being There (1979)          Comedy\n",
      "2578  Sticky Fingers of Time, The (1997)          Sci-Fi\n",
      "2661     It Came from Outer Space (1953)          Sci-Fi\n",
      "3613                Things Change (1988)          Comedy\n",
      "3671              Blazing Saddles (1974)  Comedy|Western \n",
      "\n",
      "8 Usuário\n",
      " Filmes Recomendados: \n",
      " Quantidade de Filmes Assistidos: 139 Quantidades de Filmes Recomendados:  4 Quantidade De Filmes Total: 3952 \n",
      "                        name_movie                     type\n",
      "ID                                                        \n",
      "3263  White Men Can't Jump (1992)                   Comedy\n",
      "3290     Soft Toilet Seats (1999)                   Comedy\n",
      "3322             3 Strikes (2000)                   Comedy\n",
      "3834          Bronco Billy (1980)  Adventure|Drama|Romance \n",
      "\n",
      "9 Usuário\n",
      " Filmes Recomendados: \n",
      " Quantidade de Filmes Assistidos: 106 Quantidades de Filmes Recomendados:  4 Quantidade De Filmes Total: 3952 \n",
      "                            name_movie            type\n",
      "ID                                                   \n",
      "968   Night of the Living Dead (1968)   Horror|Sci-Fi\n",
      "1154                     T-Men (1947)       Film-Noir\n",
      "2946                     Help! (1965)  Comedy|Musical\n",
      "3196                 Stalag 17 (1953)       Drama|War \n",
      "\n",
      "10 Usuário\n",
      " Filmes Recomendados: \n",
      " Quantidade de Filmes Assistidos: 401 Quantidades de Filmes Recomendados:  3 Quantidade De Filmes Total: 3952 \n",
      "                      name_movie            type\n",
      "ID                                             \n",
      "296         Pulp Fiction (1994)     Crime|Drama\n",
      "908   North by Northwest (1959)  Drama|Thriller\n",
      "3785         Scary Movie (2000)   Comedy|Horror \n",
      "\n",
      "11 Usuário\n",
      " Filmes Recomendados: \n",
      " Quantidade de Filmes Assistidos: 137 Quantidades de Filmes Recomendados:  5 Quantidade De Filmes Total: 3952 \n",
      "                                              name_movie                            type\n",
      "ID                                                                                     \n",
      "1580                                Men in Black (1997)  Action|Adventure|Comedy|Sci-Fi\n",
      "1695                                   Artemisia (1997)                           Drama\n",
      "2023                    Godfather: Part III, The (1990)              Action|Crime|Drama\n",
      "2176                                        Rope (1948)                        Thriller\n",
      "2673  Eternity and a Day (Mia eoniotita ke mia mera ...                           Drama \n",
      "\n",
      "12 Usuário\n",
      " Filmes Recomendados: \n",
      " Quantidade de Filmes Assistidos: 23 Quantidades de Filmes Recomendados:  5 Quantidade De Filmes Total: 3952 \n",
      "                              name_movie                           type\n",
      "ID                                                                    \n",
      "359          I Like It Like That (1994)           Comedy|Drama|Romance\n",
      "924        2001: A Space Odyssey (1968)  Drama|Mystery|Sci-Fi|Thriller\n",
      "1031    Bedknobs and Broomsticks (1971)   Adventure|Children's|Musical\n",
      "2811  With Friends Like These... (1998)                         Comedy\n",
      "2977            Crazy in Alabama (1999)                   Comedy|Drama \n",
      "\n",
      "13 Usuário\n",
      " Filmes Recomendados: \n",
      " Quantidade de Filmes Assistidos: 108 Quantidades de Filmes Recomendados:  5 Quantidade De Filmes Total: 3952 \n",
      "                                   name_movie         type\n",
      "ID                                                       \n",
      "162                             Crumb (1994)  Documentary\n",
      "1136  Monty Python and the Holy Grail (1974)       Comedy\n",
      "1465                         Rosewood (1997)        Drama\n",
      "1596                     Career Girls (1997)        Drama\n",
      "2663     It Came from Beneath the Sea (1955)       Sci-Fi \n",
      "\n",
      "14 Usuário\n",
      " Filmes Recomendados: \n",
      " Quantidade de Filmes Assistidos: 25 Quantidades de Filmes Recomendados:  5 Quantidade De Filmes Total: 3952 \n",
      "                        name_movie                                 type\n",
      "ID                                                                    \n",
      "1635        Ice Storm, The (1997)                                Drama\n",
      "1750              Star Kid (1997)  Adventure|Children's|Fantasy|Sci-Fi\n",
      "2679         Finding North (1999)                        Drama|Romance\n",
      "2912            Limey, The (1999)                   Action|Crime|Drama\n",
      "3719  Love's Labour's Lost (2000)                       Comedy|Romance \n",
      "\n",
      "15 Usuário\n",
      " Filmes Recomendados: \n",
      " Quantidade de Filmes Assistidos: 201 Quantidades de Filmes Recomendados:  5 Quantidade De Filmes Total: 3952 \n",
      "                                          name_movie                     type\n",
      "ID                                                                          \n",
      "222                        Circle of Friends (1995)            Drama|Romance\n",
      "1372  Star Trek VI: The Undiscovered Country (1991)  Action|Adventure|Sci-Fi\n",
      "2438                           Outside Ozona (1998)           Drama|Thriller\n",
      "2806                    Teaching Mrs. Tingle (1999)          Comedy|Thriller\n",
      "3508                 Outlaw Josey Wales, The (1976)                  Western \n",
      "\n",
      "16 Usuário\n",
      " Filmes Recomendados: \n",
      " Quantidade de Filmes Assistidos: 35 Quantidades de Filmes Recomendados:  5 Quantidade De Filmes Total: 3952 \n",
      "                               name_movie                      type\n",
      "ID                                                                \n",
      "5     Father of the Bride Part II (1995)                    Comedy\n",
      "188                 Prophecy, The (1995)                    Horror\n",
      "964          Angel and the Badman (1947)                   Western\n",
      "2088                       Popeye (1980)  Adventure|Comedy|Musical\n",
      "2922                Hang 'em High (1967)                   Western \n",
      "\n",
      "17 Usuário\n",
      " Filmes Recomendados: \n",
      " Quantidade de Filmes Assistidos: 211 Quantidades de Filmes Recomendados:  5 Quantidade De Filmes Total: 3952 \n",
      "                                            name_movie    type\n",
      "ID                                                           \n",
      "548                          Terminal Velocity (1994)  Action\n",
      "1693                                   Amistad (1997)   Drama\n",
      "2236                               Simon Birch (1998)   Drama\n",
      "2923  Citizen's Band (a.k.a. Handle with Care) (1977)  Comedy\n",
      "3288                               Cotton Mary (1999)   Drama \n",
      "\n",
      "18 Usuário\n",
      " Filmes Recomendados: \n",
      " Quantidade de Filmes Assistidos: 305 Quantidades de Filmes Recomendados:  5 Quantidade De Filmes Total: 3952 \n",
      "                                   name_movie           type\n",
      "ID                                                         \n",
      "49              When Night Is Falling (1995)  Drama|Romance\n",
      "1401            Ghosts of Mississippi (1996)          Drama\n",
      "1442                      Prefontaine (1997)          Drama\n",
      "2664   Invasion of the Body Snatchers (1956)  Horror|Sci-Fi\n",
      "3657  Pandora and the Flying Dutchman (1951)          Drama \n",
      "\n",
      "19 Usuário\n",
      " Filmes Recomendados: \n",
      " Quantidade de Filmes Assistidos: 255 Quantidades de Filmes Recomendados:  5 Quantidade De Filmes Total: 3952 \n",
      "                                              name_movie              type\n",
      "ID                                                                       \n",
      "531                           Secret Garden, The (1993)  Children's|Drama\n",
      "941                           Mark of Zorro, The (1940)         Adventure\n",
      "1384                      Substance of Fire, The (1996)             Drama\n",
      "2673  Eternity and a Day (Mia eoniotita ke mia mera ...             Drama\n",
      "3712                                    Soapdish (1991)            Comedy \n",
      "\n",
      "20 Usuário\n",
      " Filmes Recomendados: \n",
      " Quantidade de Filmes Assistidos: 24 Quantidades de Filmes Recomendados:  5 Quantidade De Filmes Total: 3952 \n",
      "                                           name_movie                 type\n",
      "ID                                                                       \n",
      "81    Things to Do in Denver when You're Dead (1995)  Crime|Drama|Romance\n",
      "2759                                     Dick (1999)               Comedy\n",
      "2955                          Penitentiary II (1982)                Drama\n",
      "2977                         Crazy in Alabama (1999)         Comedy|Drama\n",
      "3477                           Empire Records (1995)         Comedy|Drama \n",
      "\n",
      "21 Usuário\n",
      " Filmes Recomendados: \n",
      " Quantidade de Filmes Assistidos: 22 Quantidades de Filmes Recomendados:  5 Quantidade De Filmes Total: 3952 \n",
      "                        name_movie           type\n",
      "ID                                              \n",
      "1079  Fish Called Wanda, A (1988)         Comedy\n",
      "1639           Chasing Amy (1997)  Drama|Romance\n",
      "1922              Whatever (1998)          Drama\n",
      "2520               Airport (1970)          Drama\n",
      "2577             Metroland (1997)   Comedy|Drama \n",
      "\n",
      "22 Usuário\n",
      " Filmes Recomendados: \n",
      " Quantidade de Filmes Assistidos: 297 Quantidades de Filmes Recomendados:  5 Quantidade De Filmes Total: 3952 \n",
      "                        name_movie            type\n",
      "ID                                               \n",
      "3405  Night to Remember, A (1958)    Action|Drama\n",
      "3507       Odd Couple, The (1968)          Comedy\n",
      "3616                 Loser (2000)  Comedy|Romance\n",
      "3789       Pawnbroker, The (1965)           Drama\n",
      "3935                Kronos (1973)          Horror \n",
      "\n",
      "23 Usuário\n",
      " Filmes Recomendados: \n",
      " Quantidade de Filmes Assistidos: 304 Quantidades de Filmes Recomendados:  4 Quantidade De Filmes Total: 3952 \n",
      "                         name_movie               type\n",
      "ID                                                   \n",
      "569       Little Big League (1994)  Children's|Comedy\n",
      "2976  Bringing Out the Dead (1999)       Drama|Horror\n",
      "3403      Raise the Titanic (1980)     Drama|Thriller\n",
      "3735                Serpico (1973)        Crime|Drama \n",
      "\n",
      "24 Usuário\n",
      " Filmes Recomendados: \n",
      " Quantidade de Filmes Assistidos: 136 Quantidades de Filmes Recomendados:  5 Quantidade De Filmes Total: 3952 \n",
      "                                              name_movie                                      type\n",
      "ID                                                                                               \n",
      "165                   Die Hard: With a Vengeance (1995)                           Action|Thriller\n",
      "610                                  Heavy Metal (1981)  Action|Adventure|Animation|Horror|Sci-Fi\n",
      "842   Tales from the Crypt Presents: Bordello of Blo...                                    Horror\n",
      "2659                      It Came from Hollywood (1982)                        Comedy|Documentary\n",
      "3070  Adventures of Buckaroo Bonzai Across the 8th D...                   Adventure|Comedy|Sci-Fi \n",
      "\n",
      "25 Usuário\n",
      " Filmes Recomendados: \n",
      " Quantidade de Filmes Assistidos: 85 Quantidades de Filmes Recomendados:  5 Quantidade De Filmes Total: 3952 \n",
      "                         name_movie                  type\n",
      "ID                                                      \n",
      "394             Coldblooded (1995)                Action\n",
      "1244              Manhattan (1979)  Comedy|Drama|Romance\n",
      "1413  Whole Wide World, The (1996)                 Drama\n",
      "1466          Donnie Brasco (1997)           Crime|Drama\n",
      "2943              Indochine (1992)         Drama|Romance \n",
      "\n",
      "26 Usuário\n",
      " Filmes Recomendados: \n",
      " Quantidade de Filmes Assistidos: 400 Quantidades de Filmes Recomendados:  4 Quantidade De Filmes Total: 3952 \n",
      "                 name_movie                  type\n",
      "ID                                              \n",
      "838            Emma (1996)  Comedy|Drama|Romance\n",
      "1609            187 (1997)                 Drama\n",
      "1686     Red Corner (1997)        Crime|Thriller\n",
      "3521  Mystery Train (1989)    Comedy|Crime|Drama \n",
      "\n",
      "27 Usuário\n",
      " Filmes Recomendados: \n",
      " Quantidade de Filmes Assistidos: 70 Quantidades de Filmes Recomendados:  5 Quantidade De Filmes Total: 3952 \n",
      "                                             name_movie         type\n",
      "ID                                                                 \n",
      "681               Clean Slate (Coup de Torchon) (1981)        Crime\n",
      "953                       It's a Wonderful Life (1946)        Drama\n",
      "1192                           Paris Is Burning (1990)  Documentary\n",
      "2382  Police Academy 5: Assignment: Miami Beach (1988)       Comedy\n",
      "2562                                    Bandits (1997)        Drama \n",
      "\n",
      "28 Usuário\n",
      " Filmes Recomendados: \n",
      " Quantidade de Filmes Assistidos: 107 Quantidades de Filmes Recomendados:  5 Quantidade De Filmes Total: 3952 \n",
      "                               name_movie           type\n",
      "ID                                                     \n",
      "103                 Unforgettable (1996)       Thriller\n",
      "223                        Clerks (1994)         Comedy\n",
      "529   Searching for Bobby Fischer (1993)          Drama\n",
      "1286            Somewhere in Time (1980)  Drama|Romance\n",
      "3788                       Blowup (1966)  Drama|Mystery \n",
      "\n",
      "29 Usuário\n",
      " Filmes Recomendados: \n",
      " Quantidade de Filmes Assistidos: 108 Quantidades de Filmes Recomendados:  5 Quantidade De Filmes Total: 3952 \n",
      "                      name_movie             type\n",
      "ID                                              \n",
      "935      Band Wagon, The (1953)   Comedy|Musical\n",
      "1678  Joy Luck Club, The (1993)            Drama\n",
      "1696                Bent (1997)        Drama|War\n",
      "2785     Tales of Terror (1962)           Horror\n",
      "3863           Cell, The (2000)  Sci-Fi|Thriller \n",
      "\n",
      "30 Usuário\n",
      " Filmes Recomendados: \n",
      " Quantidade de Filmes Assistidos: 43 Quantidades de Filmes Recomendados:  5 Quantidade De Filmes Total: 3952 \n",
      "                    name_movie                       type\n",
      "ID                                                      \n",
      "315    Specialist, The (1994)                     Action\n",
      "342   Muriel's Wedding (1994)             Comedy|Romance\n",
      "1028      Mary Poppins (1964)  Children's|Comedy|Musical\n",
      "2349         Mona Lisa (1986)            Comedy|Thriller\n",
      "2780        Raven, The (1963)              Comedy|Horror \n",
      "\n",
      "31 Usuário\n",
      " Filmes Recomendados: \n",
      " Quantidade de Filmes Assistidos: 119 Quantidades de Filmes Recomendados:  5 Quantidade De Filmes Total: 3952 \n",
      "                                              name_movie                  type\n",
      "ID                                                                           \n",
      "177                            Lord of Illusions (1995)                Horror\n",
      "276                                   Milk Money (1994)        Comedy|Romance\n",
      "596                                    Pinocchio (1940)  Animation|Children's\n",
      "1017                       Swiss Family Robinson (1960)  Adventure|Children's\n",
      "2776  Marcello Mastroianni: I Remember Yes, I Rememb...           Documentary \n",
      "\n",
      "32 Usuário\n",
      " Filmes Recomendados: \n",
      " Quantidade de Filmes Assistidos: 48 Quantidades de Filmes Recomendados:  5 Quantidade De Filmes Total: 3952 \n",
      "                             name_movie                       type\n",
      "ID                                                               \n",
      "778               Trainspotting (1996)                      Drama\n",
      "980       In the Line of Duty 2 (1987)                     Action\n",
      "2398     Miracle on 34th Street (1947)                      Drama\n",
      "3612  Slipper and the Rose, The (1976)  Adventure|Musical|Romance\n",
      "3814             Love and Death (1975)                     Comedy \n",
      "\n",
      "33 Usuário\n",
      " Filmes Recomendados: \n",
      " Quantidade de Filmes Assistidos: 391 Quantidades de Filmes Recomendados:  4 Quantidade De Filmes Total: 3952 \n",
      "                      name_movie              type\n",
      "ID                                               \n",
      "494   Executive Decision (1996)   Action|Thriller\n",
      "2669      Pork Chop Hill (1959)               War\n",
      "3163         Topsy-Turvy (1999)             Drama\n",
      "3429   Creature Comforts (1990)  Animation|Comedy \n",
      "\n",
      "34 Usuário\n",
      " Filmes Recomendados: \n",
      " Quantidade de Filmes Assistidos: 164 Quantidades de Filmes Recomendados:  5 Quantidade De Filmes Total: 3952 \n",
      "                                 name_movie                  type\n",
      "ID                                                              \n",
      "200             Tie That Binds, The (1995)              Thriller\n",
      "1583                 Simple Wish, A (1997)    Children's|Fantasy\n",
      "2077     Journey of Natty Gann, The (1985)  Adventure|Children's\n",
      "2660  Thing From Another World, The (1951)                Sci-Fi\n",
      "3164                Alley Cats, The (1968)                 Drama \n",
      "\n",
      "35 Usuário\n",
      " Filmes Recomendados: \n",
      " Quantidade de Filmes Assistidos: 198 Quantidades de Filmes Recomendados:  5 Quantidade De Filmes Total: 3952 \n",
      "                     name_movie               type\n",
      "ID                                               \n",
      "837             Matilda (1996)  Children's|Comedy\n",
      "944        Lost Horizon (1937)              Drama\n",
      "2739  Color Purple, The (1985)              Drama\n",
      "2982      Guardian, The (1990)    Horror|Thriller\n",
      "3127         Holy Smoke (1999)              Drama \n",
      "\n",
      "36 Usuário\n",
      " Filmes Recomendados: \n",
      " Quantidade de Filmes Assistidos: 351 Quantidades de Filmes Recomendados:  5 Quantidade De Filmes Total: 3952 \n",
      "                                              name_movie                            type\n",
      "ID                                                                                     \n",
      "971                        Cat on a Hot Tin Roof (1958)                           Drama\n",
      "1261                 Evil Dead II (Dead By Dawn) (1987)  Action|Adventure|Comedy|Horror\n",
      "1974                             Friday the 13th (1980)                          Horror\n",
      "2842                             Best Laid Plans (1999)                     Crime|Drama\n",
      "3812  Everything You Always Wanted to Know About Sex...                          Comedy \n",
      "\n",
      "37 Usuário\n",
      " Filmes Recomendados: \n",
      " Quantidade de Filmes Assistidos: 53 Quantidades de Filmes Recomendados:  5 Quantidade De Filmes Total: 3952 \n",
      "                                              name_movie              type\n",
      "ID                                                                       \n",
      "185                                     Net, The (1995)   Sci-Fi|Thriller\n",
      "910                             Some Like It Hot (1959)      Comedy|Crime\n",
      "1330                            April Fool's Day (1986)     Comedy|Horror\n",
      "1586                                   G.I. Jane (1997)  Action|Drama|War\n",
      "2239  Swept Away (Travolti da un insolito destino ne...      Comedy|Drama \n",
      "\n",
      "38 Usuário\n",
      " Filmes Recomendados: \n",
      " Quantidade de Filmes Assistidos: 100 Quantidades de Filmes Recomendados:  4 Quantidade De Filmes Total: 3952 \n",
      "                                              name_movie                       type\n",
      "ID                                                                                \n",
      "349                     Clear and Present Danger (1994)  Action|Adventure|Thriller\n",
      "715   Horseman on the Roof, The (Hussard sur le toit...                      Drama\n",
      "1058                Bitter Sugar (Azucar Amargo) (1996)                      Drama\n",
      "3183                          Third Miracle, The (1999)                      Drama \n",
      "\n",
      "39 Usuário\n",
      " Filmes Recomendados: \n",
      " Quantidade de Filmes Assistidos: 62 Quantidades de Filmes Recomendados:  5 Quantidade De Filmes Total: 3952 \n",
      "                                           name_movie                          type\n",
      "ID                                                                                \n",
      "801                           Harriet the Spy (1996)             Children's|Comedy\n",
      "2351  Nights of Cabiria (Le Notti di Cabiria) (1957)                         Drama\n",
      "2648                             Frankenstein (1931)                        Horror\n",
      "2689                                Get Bruce (1999)                   Documentary\n",
      "2872                                Excalibur (1981)  Action|Drama|Fantasy|Romance \n",
      "\n",
      "40 Usuário\n",
      " Filmes Recomendados: \n",
      " Quantidade de Filmes Assistidos: 96 Quantidades de Filmes Recomendados:  5 Quantidade De Filmes Total: 3952 \n",
      "                                name_movie                 type\n",
      "ID                                                            \n",
      "390   Faster Pussycat! Kill! Kill! (1965)  Action|Comedy|Drama\n",
      "600                 Love and a .45 (1994)             Thriller\n",
      "2572    10 Things I Hate About You (1999)       Comedy|Romance\n",
      "3410                    Soft Fruit (1999)         Comedy|Drama\n",
      "3510                     Frequency (2000)       Drama|Thriller \n",
      "\n",
      "41 Usuário\n",
      " Filmes Recomendados: \n",
      " Quantidade de Filmes Assistidos: 25 Quantidades de Filmes Recomendados:  5 Quantidade De Filmes Total: 3952 \n",
      "                                      name_movie           type\n",
      "ID                                                            \n",
      "1973  Freddy's Dead: The Final Nightmare (1991)         Horror\n",
      "2745                        Mission, The (1986)          Drama\n",
      "3174                     Man on the Moon (1999)   Comedy|Drama\n",
      "3405                Night to Remember, A (1958)   Action|Drama\n",
      "3585         Great Locomotive Chase, The (1956)  Adventure|War \n",
      "\n",
      "42 Usuário\n",
      " Filmes Recomendados: \n",
      " Quantidade de Filmes Assistidos: 231 Quantidades de Filmes Recomendados:  4 Quantidade De Filmes Total: 3952 \n",
      "                              name_movie                    type\n",
      "ID                                                             \n",
      "2421    Karate Kid, Part II, The (1986)  Action|Adventure|Drama\n",
      "3520  How to Stuff a Wild Bikini (1965)                  Comedy\n",
      "3683                Blood Simple (1984)         Drama|Film-Noir\n",
      "3905               Specials, The (2000)                  Comedy \n",
      "\n",
      "43 Usuário\n",
      " Filmes Recomendados: \n",
      " Quantidade de Filmes Assistidos: 24 Quantidades de Filmes Recomendados:  5 Quantidade De Filmes Total: 3952 \n",
      "                                       name_movie                     type\n",
      "ID                                                                       \n",
      "55                                Georgia (1995)                    Drama\n",
      "1374         Star Trek: The Wrath of Khan (1982)  Action|Adventure|Sci-Fi\n",
      "2736               Brighton Beach Memoirs (1986)                   Comedy\n",
      "3323                       Chain of Fools (2000)             Comedy|Crime\n",
      "3930  Creature From the Black Lagoon, The (1954)                   Horror \n",
      "\n",
      "44 Usuário\n",
      " Filmes Recomendados: \n",
      " Quantidade de Filmes Assistidos: 193 Quantidades de Filmes Recomendados:  5 Quantidade De Filmes Total: 3952 \n",
      "                                              name_movie              type\n",
      "ID                                                                       \n",
      "690              Promise, The (Versprechen, Das) (1994)           Romance\n",
      "1658                       Life Less Ordinary, A (1997)  Romance|Thriller\n",
      "2730                                Barry Lyndon (1975)             Drama\n",
      "2913  Mating Habits of the Earthbound Human, The (1998)            Comedy\n",
      "3645            Cleo From 5 to 7 (Cléo de 5 à 7) (1962)             Drama \n",
      "\n",
      "45 Usuário\n",
      " Filmes Recomendados: \n",
      " Quantidade de Filmes Assistidos: 297 Quantidades de Filmes Recomendados:  5 Quantidade De Filmes Total: 3952 \n",
      "                      name_movie     type\n",
      "ID                                      \n",
      "307   Three Colors: Blue (1993)    Drama\n",
      "1840         He Got Game (1998)    Drama\n",
      "2313   Elephant Man, The (1980)    Drama\n",
      "2971       All That Jazz (1979)  Musical\n",
      "3734  Prince of the City (1981)    Drama \n",
      "\n"
     ]
    }
   ],
   "source": [
    "for id_user in range(45):\n",
    "    v = train[id_user:id_user+1,:]\n",
    "    vv=val[id_user:id_user+1,:]\n",
    "    vt = test[id_user:id_user+1,:]\n",
    "    index_movies_possible_recommended=np.intersect1d(np.intersect1d(np.where(v==-1)[1],np.where(vt==-1)[1]),np.where(vv==-1)[1])\n",
    "    size_watched_movies=len(np.where(v>=0)[1])+len(np.where(vt>=0)[1])+len(np.where(vv>=0)[1])\n",
    "\n",
    "    if len(index_movies_possible_recommended)>0:\n",
    "        for k in range(k2):\n",
    "          if k==0:\n",
    "            h = rbm.sample_h(v)[1]\n",
    "            v = rbm.sample_v(h)\n",
    "            a=v[0]\n",
    "            b=v[1]\n",
    "          else:\n",
    "            h = rbm.sample_h(b)[1]\n",
    "            v = rbm.sample_v(h)\n",
    "            a=v[0]\n",
    "            b=v[1]\n",
    "        a=np.where(a[0]==1)[0]\n",
    "        np.random.shuffle(a)       \n",
    "        print(id_user+1,\"Usuário\\n\",\"Filmes Recomendados:\",\"\\n\",\"Quantidade de Filmes Assistidos:\",\n",
    "              size_watched_movies,\"Quantidades de Filmes Recomendados: \",len(np.intersect1d(np.intersect1d(index_movies_possible_recommended,np.where(b==1)),a[-5:])),\"Quantidade De Filmes Total:\",size_movies,\"\\n\"\n",
    "              ,movies.loc[np.intersect1d(np.intersect1d(index_movies_possible_recommended,np.where(b==1)),a[-5:])+1,:],\"\\n\")"
   ]
  }
 ],
 "metadata": {
  "colab": {
   "collapsed_sections": [],
   "name": "Trabalho Finalissimo! - RBM.ipynb",
   "provenance": [],
   "version": "0.3.2"
  },
  "kernelspec": {
   "display_name": "Python 3",
   "language": "python",
   "name": "python3"
  },
  "language_info": {
   "codemirror_mode": {
    "name": "ipython",
    "version": 3
   },
   "file_extension": ".py",
   "mimetype": "text/x-python",
   "name": "python",
   "nbconvert_exporter": "python",
   "pygments_lexer": "ipython3",
   "version": "3.7.1"
  }
 },
 "nbformat": 4,
 "nbformat_minor": 1
}
