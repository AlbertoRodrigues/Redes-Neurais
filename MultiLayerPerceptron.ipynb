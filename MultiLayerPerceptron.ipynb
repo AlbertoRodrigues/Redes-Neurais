{
 "cells": [
  {
   "cell_type": "code",
   "execution_count": 32,
   "metadata": {},
   "outputs": [],
   "source": [
    "import pandas as pd\n",
    "import numpy as np\n",
    "from sklearn.preprocessing import OneHotEncoder\n",
    "from sklearn.model_selection import train_test_split"
   ]
  },
  {
   "cell_type": "code",
   "execution_count": 33,
   "metadata": {},
   "outputs": [],
   "source": [
    "dados=pd.read_csv(\"DadosDeCancer.csv\")"
   ]
  },
  {
   "cell_type": "code",
   "execution_count": 34,
   "metadata": {},
   "outputs": [],
   "source": [
    "dados2=pd.DataFrame(np.copy(dados),columns=dados.columns)"
   ]
  },
  {
   "cell_type": "code",
   "execution_count": 35,
   "metadata": {},
   "outputs": [
    {
     "data": {
      "text/html": [
       "<div>\n",
       "<style scoped>\n",
       "    .dataframe tbody tr th:only-of-type {\n",
       "        vertical-align: middle;\n",
       "    }\n",
       "\n",
       "    .dataframe tbody tr th {\n",
       "        vertical-align: top;\n",
       "    }\n",
       "\n",
       "    .dataframe thead th {\n",
       "        text-align: right;\n",
       "    }\n",
       "</style>\n",
       "<table border=\"1\" class=\"dataframe\">\n",
       "  <thead>\n",
       "    <tr style=\"text-align: right;\">\n",
       "      <th></th>\n",
       "      <th>class</th>\n",
       "      <th>age</th>\n",
       "      <th>menopause</th>\n",
       "      <th>tumor-size</th>\n",
       "      <th>inv-nodes</th>\n",
       "      <th>node-caps</th>\n",
       "      <th>deg-malig</th>\n",
       "      <th>breast</th>\n",
       "      <th>irradiat</th>\n",
       "    </tr>\n",
       "  </thead>\n",
       "  <tbody>\n",
       "    <tr>\n",
       "      <th>0</th>\n",
       "      <td>no-recurrence-events</td>\n",
       "      <td>30-39</td>\n",
       "      <td>premeno</td>\n",
       "      <td>30-34</td>\n",
       "      <td>0-2</td>\n",
       "      <td>no</td>\n",
       "      <td>3</td>\n",
       "      <td>left</td>\n",
       "      <td>no</td>\n",
       "    </tr>\n",
       "    <tr>\n",
       "      <th>1</th>\n",
       "      <td>no-recurrence-events</td>\n",
       "      <td>40-49</td>\n",
       "      <td>premeno</td>\n",
       "      <td>20-24</td>\n",
       "      <td>0-2</td>\n",
       "      <td>no</td>\n",
       "      <td>2</td>\n",
       "      <td>right</td>\n",
       "      <td>no</td>\n",
       "    </tr>\n",
       "    <tr>\n",
       "      <th>2</th>\n",
       "      <td>no-recurrence-events</td>\n",
       "      <td>40-49</td>\n",
       "      <td>premeno</td>\n",
       "      <td>20-24</td>\n",
       "      <td>0-2</td>\n",
       "      <td>no</td>\n",
       "      <td>2</td>\n",
       "      <td>left</td>\n",
       "      <td>no</td>\n",
       "    </tr>\n",
       "    <tr>\n",
       "      <th>3</th>\n",
       "      <td>no-recurrence-events</td>\n",
       "      <td>60-69</td>\n",
       "      <td>ge40</td>\n",
       "      <td>15-19</td>\n",
       "      <td>0-2</td>\n",
       "      <td>no</td>\n",
       "      <td>2</td>\n",
       "      <td>right</td>\n",
       "      <td>no</td>\n",
       "    </tr>\n",
       "    <tr>\n",
       "      <th>4</th>\n",
       "      <td>no-recurrence-events</td>\n",
       "      <td>40-49</td>\n",
       "      <td>premeno</td>\n",
       "      <td>0-4</td>\n",
       "      <td>0-2</td>\n",
       "      <td>no</td>\n",
       "      <td>2</td>\n",
       "      <td>right</td>\n",
       "      <td>no</td>\n",
       "    </tr>\n",
       "  </tbody>\n",
       "</table>\n",
       "</div>"
      ],
      "text/plain": [
       "                  class    age menopause tumor-size inv-nodes node-caps  \\\n",
       "0  no-recurrence-events  30-39   premeno      30-34       0-2        no   \n",
       "1  no-recurrence-events  40-49   premeno      20-24       0-2        no   \n",
       "2  no-recurrence-events  40-49   premeno      20-24       0-2        no   \n",
       "3  no-recurrence-events  60-69      ge40      15-19       0-2        no   \n",
       "4  no-recurrence-events  40-49   premeno        0-4       0-2        no   \n",
       "\n",
       "  deg-malig breast irradiat  \n",
       "0         3   left       no  \n",
       "1         2  right       no  \n",
       "2         2   left       no  \n",
       "3         2  right       no  \n",
       "4         2  right       no  "
      ]
     },
     "execution_count": 35,
     "metadata": {},
     "output_type": "execute_result"
    }
   ],
   "source": [
    "dados2.head()"
   ]
  },
  {
   "cell_type": "markdown",
   "metadata": {},
   "source": [
    "# A única variável que é numérica está com o seu tipo alterado pois veio de um array numpy, irei consertar em seguida."
   ]
  },
  {
   "cell_type": "code",
   "execution_count": 36,
   "metadata": {},
   "outputs": [
    {
     "name": "stdout",
     "output_type": "stream",
     "text": [
      "<class 'pandas.core.frame.DataFrame'>\n",
      "RangeIndex: 286 entries, 0 to 285\n",
      "Data columns (total 9 columns):\n",
      "class         286 non-null object\n",
      "age           286 non-null object\n",
      "menopause     286 non-null object\n",
      "tumor-size    286 non-null object\n",
      "inv-nodes     286 non-null object\n",
      "node-caps     286 non-null object\n",
      "deg-malig     286 non-null object\n",
      "breast        286 non-null object\n",
      "irradiat      286 non-null object\n",
      "dtypes: object(9)\n",
      "memory usage: 20.2+ KB\n"
     ]
    }
   ],
   "source": [
    "dados2.info()"
   ]
  },
  {
   "cell_type": "code",
   "execution_count": 37,
   "metadata": {},
   "outputs": [],
   "source": [
    "#Ajeitando o tipo da variável deg-malig\n",
    "dados2[\"deg-malig\"]=np.array([int(i) for i in dados2[\"deg-malig\"]])"
   ]
  },
  {
   "cell_type": "code",
   "execution_count": 38,
   "metadata": {},
   "outputs": [
    {
     "name": "stdout",
     "output_type": "stream",
     "text": [
      "<class 'pandas.core.frame.DataFrame'>\n",
      "RangeIndex: 286 entries, 0 to 285\n",
      "Data columns (total 9 columns):\n",
      "class         286 non-null object\n",
      "age           286 non-null object\n",
      "menopause     286 non-null object\n",
      "tumor-size    286 non-null object\n",
      "inv-nodes     286 non-null object\n",
      "node-caps     286 non-null object\n",
      "deg-malig     286 non-null int32\n",
      "breast        286 non-null object\n",
      "irradiat      286 non-null object\n",
      "dtypes: int32(1), object(8)\n",
      "memory usage: 19.1+ KB\n"
     ]
    }
   ],
   "source": [
    "dados2.info()"
   ]
  },
  {
   "cell_type": "markdown",
   "metadata": {},
   "source": [
    "# Mudando as classes para 0 e 1."
   ]
  },
  {
   "cell_type": "code",
   "execution_count": 39,
   "metadata": {},
   "outputs": [],
   "source": [
    "dados2[\"Classe\"]=np.array([1 if i==\"no-recurrence-events\" else 0 for i in dados2[\"class\"]])"
   ]
  },
  {
   "cell_type": "code",
   "execution_count": 40,
   "metadata": {},
   "outputs": [
    {
     "data": {
      "text/plain": [
       "0      1\n",
       "1      1\n",
       "2      1\n",
       "3      1\n",
       "4      1\n",
       "5      1\n",
       "6      1\n",
       "7      1\n",
       "8      1\n",
       "9      1\n",
       "10     1\n",
       "11     1\n",
       "12     1\n",
       "13     1\n",
       "14     1\n",
       "15     1\n",
       "16     1\n",
       "17     1\n",
       "18     1\n",
       "19     1\n",
       "20     1\n",
       "21     1\n",
       "22     1\n",
       "23     1\n",
       "24     1\n",
       "25     1\n",
       "26     1\n",
       "27     1\n",
       "28     1\n",
       "29     1\n",
       "      ..\n",
       "256    0\n",
       "257    0\n",
       "258    0\n",
       "259    0\n",
       "260    0\n",
       "261    0\n",
       "262    0\n",
       "263    0\n",
       "264    0\n",
       "265    0\n",
       "266    0\n",
       "267    0\n",
       "268    0\n",
       "269    0\n",
       "270    0\n",
       "271    0\n",
       "272    0\n",
       "273    0\n",
       "274    0\n",
       "275    0\n",
       "276    0\n",
       "277    0\n",
       "278    0\n",
       "279    0\n",
       "280    0\n",
       "281    0\n",
       "282    0\n",
       "283    0\n",
       "284    0\n",
       "285    0\n",
       "Name: Classe, Length: 286, dtype: int32"
      ]
     },
     "execution_count": 40,
     "metadata": {},
     "output_type": "execute_result"
    }
   ],
   "source": [
    "dados2[\"Classe\"]"
   ]
  },
  {
   "cell_type": "markdown",
   "metadata": {},
   "source": [
    "# Usando a transformação OneHotEncoder para mudar as variáveis categóricas em numéricas, se baseia que em cada tipo único de cada variável fazer uma coluna de zeros e uns, 1 se o tipo único acontecer ou 0 caso contrário."
   ]
  },
  {
   "cell_type": "code",
   "execution_count": 41,
   "metadata": {},
   "outputs": [],
   "source": [
    "transformacao=OneHotEncoder(sparse=False)"
   ]
  },
  {
   "cell_type": "markdown",
   "metadata": {},
   "source": [
    "# Organizando os dados necessários para o Perceptron, em que a primeira coluna é o peso do bias."
   ]
  },
  {
   "cell_type": "code",
   "execution_count": 42,
   "metadata": {},
   "outputs": [],
   "source": [
    "dados2=np.column_stack((np.full(dados2.shape[0],-1),transformacao\n",
    ".fit_transform(dados2.loc[:,[\"age\",\"menopause\",\"tumor-size\",\"inv-nodes\"\n",
    ",\"node-caps\",\"breast\",\"irradiat\"]]),dados2[\"deg-malig\"],dados2[\"Classe\"]))"
   ]
  },
  {
   "cell_type": "code",
   "execution_count": 43,
   "metadata": {},
   "outputs": [
    {
     "data": {
      "text/plain": [
       "array([[-1.,  0.,  1., ...,  0.,  3.,  1.],\n",
       "       [-1.,  0.,  0., ...,  0.,  2.,  1.],\n",
       "       [-1.,  0.,  0., ...,  0.,  2.,  1.],\n",
       "       ...,\n",
       "       [-1.,  0.,  0., ...,  0.,  1.,  0.],\n",
       "       [-1.,  0.,  0., ...,  0.,  3.,  0.],\n",
       "       [-1.,  0.,  0., ...,  0.,  3.,  0.]])"
      ]
     },
     "execution_count": 43,
     "metadata": {},
     "output_type": "execute_result"
    }
   ],
   "source": [
    "dados2"
   ]
  },
  {
   "cell_type": "markdown",
   "metadata": {},
   "source": [
    "# Algoritmo MultiLayerPerceptron"
   ]
  },
  {
   "cell_type": "code",
   "execution_count": 44,
   "metadata": {},
   "outputs": [],
   "source": [
    "class MultiLayerPerceptron:\n",
    "    #O número de camadas e a quantidade de neurônios por camada é parâmetrizado na seguinte forma,\n",
    "    #neuronios_por_camada é um array numpy com as quantidades de neurônios em cada camada, consequentemente\n",
    "    #o tamanho desse vetor é a quantidade de camadas, e necessariamente precisa ter uma única camada de saída.\n",
    "    def __init__(self,neuronios_por_camada):\n",
    "        self.neuronios_por_camada=neuronios_por_camada\n",
    "    \n",
    "    def fit(self,xtreino,ytreino):\n",
    "\n",
    "        quantidade_de_pesos=np.concatenate((xtreino.shape[1],self.neuronios_por_camada)\n",
    "        ,axis=None) \n",
    "        #booleano criado até que a acurácia do conjunto de treinamento ultrapasse 73%\n",
    "        flag=True\n",
    "        while flag==True:\n",
    "            # Aqui seto aleatoriamente todos os pesos das passagens de todas as camadas.\n",
    "            self.pesos=np.array([np.random.normal(size=(i,j)) for i,j in np.column_stack((\n",
    "                    quantidade_de_pesos[:-1],quantidade_de_pesos[1:]))])\n",
    "            #Aqui eu adiciono o bias nas camadas ocultas.\n",
    "            self.pesos=np.array([np.row_stack((self.pesos[i],np.repeat(\n",
    "                    -np.random.normal(size=1),repeats=self.pesos[i].shape[1])))\n",
    "                if i!=0 else self.pesos[i] for i in range(self.pesos.shape[0])])\n",
    "            \n",
    "            previsoes=[]\n",
    "            #Percorrendo os indices de treinamento.\n",
    "            for j in range(xtreino.shape[0]):\n",
    "                #Indices das camadas ocultas e da saída.\n",
    "                for i in range(self.neuronios_por_camada.shape[0]):\n",
    "                    #Na camida de entrada fiz o produto matricial e depois apliquei a função sigmoide \n",
    "                    #que irá retornar a entrada da camada seguinte.\n",
    "                    if i==0:\n",
    "                        entrada=MultiLayerPerceptron.Sigmoide(np.concatenate((np.array([xtreino[j,:].dot(self.pesos[i])]),1),axis=None))\n",
    "                    #Fazendo todas as entradas das camadas ocultas até a saída   \n",
    "                    elif i!=0 and i!=self.neuronios_por_camada.shape[0]-1:\n",
    "                        entrada=MultiLayerPerceptron.Sigmoide(np.concatenate((entrada.dot(self.pesos[i]),1),axis=None))\n",
    "                    #Camada de saída resultando 1 se o somatório das saídas multiplicada pelos pesos\n",
    "                    #for maior que zero, e 0 caso contrário.\n",
    "                    else:\n",
    "                        if entrada.dot(self.pesos[i])>0:\n",
    "                            previsoes.append(1)\n",
    "                        else:\n",
    "                            previsoes.append(0)\n",
    "            \n",
    "            if MultiLayerPerceptron(self.neuronios_por_camada).acuracia(np.array(\n",
    "                    previsoes),ytreino)>=0.72:\n",
    "                flag=False\n",
    "            else:\n",
    "                continue\n",
    "    def predict(self,xteste):\n",
    "        previsoes=[]\n",
    "        for j in range(xteste.shape[0]):\n",
    "            for i in range(self.neuronios_por_camada.shape[0]):\n",
    "                if i==0:\n",
    "                    entrada=MultiLayerPerceptron.Sigmoide(np.concatenate((np.array([xteste[j,:].dot(self.pesos[i])]),1),axis=None))\n",
    "                \n",
    "                elif i!=0 and i!=self.neuronios_por_camada.shape[0]-1:\n",
    "                    entrada=MultiLayerPerceptron.Sigmoide(np.concatenate((entrada.dot(self.pesos[i]),1),axis=None))\n",
    "                else:\n",
    "                    if entrada.dot(self.pesos[i])>0:\n",
    "                        previsoes.append(1)\n",
    "                    else:\n",
    "                        previsoes.append(0)\n",
    "        return(np.array(previsoes))\n",
    "        \n",
    "    def acuracia(self,a,b):\n",
    "        cont=0\n",
    "        for i in range(len(b)):\n",
    "            if a[i]==b[i]:\n",
    "                cont+=1\n",
    "        return(np.array([np.round(cont/len(b),3)])[0])\n",
    "    def matriz_de_confusao(self,real,predito):\n",
    "        print(pd.crosstab(real,predito,rownames=[\"Classe real\"]\n",
    ",colnames=[\"Classe predita\"],margins=True))\n",
    "    def ReLU(w):\n",
    "        return w if all(i>=0 for i in w) else 0\n",
    "    def Sigmoide(u):\n",
    "        return(1/(1+np.exp(-u)))"
   ]
  },
  {
   "cell_type": "code",
   "execution_count": 45,
   "metadata": {},
   "outputs": [],
   "source": [
    "x=dados2[:,:-1]\n",
    "y=dados2[:,-1]"
   ]
  },
  {
   "cell_type": "markdown",
   "metadata": {},
   "source": [
    "# Separação do conjunto de  treino e teste estratificada."
   ]
  },
  {
   "cell_type": "code",
   "execution_count": 46,
   "metadata": {},
   "outputs": [],
   "source": [
    "xtreino,xteste,ytreino,yteste=train_test_split(x,y,test_size=0.3,stratify=y)        "
   ]
  },
  {
   "cell_type": "markdown",
   "metadata": {},
   "source": [
    "# Exemplos de modelos"
   ]
  },
  {
   "cell_type": "code",
   "execution_count": 52,
   "metadata": {},
   "outputs": [],
   "source": [
    "#2 camadas ocultas, cada uma com 2 neurônios.\n",
    "modelo=MultiLayerPerceptron(np.array([2,2,1]))        "
   ]
  },
  {
   "cell_type": "code",
   "execution_count": 64,
   "metadata": {},
   "outputs": [],
   "source": [
    "modelo.fit(xtreino,ytreino)        "
   ]
  },
  {
   "cell_type": "code",
   "execution_count": 65,
   "metadata": {},
   "outputs": [
    {
     "data": {
      "text/plain": [
       "array([1, 1, 1, 0, 1, 0, 1, 1, 1, 0, 1, 1, 1, 1, 1, 1, 1, 1, 1, 1, 0, 0,\n",
       "       1, 1, 1, 1, 1, 1, 1, 1, 1, 1, 1, 1, 1, 1, 1, 1, 1, 1, 1, 1, 1, 1,\n",
       "       1, 0, 1, 1, 1, 1, 1, 1, 1, 1, 1, 1, 1, 1, 1, 1, 1, 1, 1, 1, 1, 1,\n",
       "       1, 1, 1, 1, 1, 1, 1, 1, 1, 1, 1, 1, 1, 1, 1, 1, 1, 1, 1, 1])"
      ]
     },
     "execution_count": 65,
     "metadata": {},
     "output_type": "execute_result"
    }
   ],
   "source": [
    "modelo.predict(xteste)"
   ]
  },
  {
   "cell_type": "code",
   "execution_count": 66,
   "metadata": {},
   "outputs": [
    {
     "data": {
      "text/plain": [
       "0.721"
      ]
     },
     "execution_count": 66,
     "metadata": {},
     "output_type": "execute_result"
    }
   ],
   "source": [
    "modelo.acuracia(yteste,modelo.predict(xteste))"
   ]
  },
  {
   "cell_type": "code",
   "execution_count": 67,
   "metadata": {},
   "outputs": [
    {
     "name": "stdout",
     "output_type": "stream",
     "text": [
      "Classe predita  0   1  All\n",
      "Classe real               \n",
      "0.0             4  22   26\n",
      "1.0             2  58   60\n",
      "All             6  80   86\n"
     ]
    }
   ],
   "source": [
    "modelo.matriz_de_confusao(yteste,modelo.predict(xteste))"
   ]
  },
  {
   "cell_type": "code",
   "execution_count": 68,
   "metadata": {},
   "outputs": [],
   "source": [
    "#Uma camada oculta com 2 neurônios.\n",
    "modelo=MultiLayerPerceptron(np.array([2,1]))        "
   ]
  },
  {
   "cell_type": "code",
   "execution_count": 69,
   "metadata": {},
   "outputs": [],
   "source": [
    "modelo.fit(xtreino,ytreino)        "
   ]
  },
  {
   "cell_type": "code",
   "execution_count": 70,
   "metadata": {},
   "outputs": [
    {
     "data": {
      "text/plain": [
       "array([1, 1, 1, 0, 1, 0, 1, 1, 1, 0, 1, 1, 1, 1, 1, 1, 1, 1, 1, 1, 0, 1,\n",
       "       1, 1, 1, 1, 1, 1, 1, 1, 1, 1, 1, 1, 1, 1, 1, 1, 1, 1, 1, 1, 1, 1,\n",
       "       1, 0, 1, 1, 0, 1, 1, 1, 1, 1, 1, 1, 1, 1, 1, 1, 1, 1, 1, 1, 1, 1,\n",
       "       1, 1, 1, 1, 1, 1, 1, 1, 1, 1, 1, 1, 1, 1, 1, 1, 1, 1, 1, 1])"
      ]
     },
     "execution_count": 70,
     "metadata": {},
     "output_type": "execute_result"
    }
   ],
   "source": [
    "modelo.predict(xteste)"
   ]
  },
  {
   "cell_type": "code",
   "execution_count": 71,
   "metadata": {},
   "outputs": [
    {
     "data": {
      "text/plain": [
       "0.744"
      ]
     },
     "execution_count": 71,
     "metadata": {},
     "output_type": "execute_result"
    }
   ],
   "source": [
    "modelo.acuracia(yteste,modelo.predict(xteste))"
   ]
  },
  {
   "cell_type": "code",
   "execution_count": 72,
   "metadata": {},
   "outputs": [
    {
     "name": "stdout",
     "output_type": "stream",
     "text": [
      "Classe predita  0   1  All\n",
      "Classe real               \n",
      "0.0             5  21   26\n",
      "1.0             1  59   60\n",
      "All             6  80   86\n"
     ]
    }
   ],
   "source": [
    "modelo.matriz_de_confusao(yteste,modelo.predict(xteste))              "
   ]
  },
  {
   "cell_type": "code",
   "execution_count": 73,
   "metadata": {},
   "outputs": [],
   "source": [
    "#3 camadas ocultas, a primeira com 3 neurônios, a segunda com 4 e a terceira com duas.\n",
    "modelo=MultiLayerPerceptron(np.array([3,4,2,1]))"
   ]
  },
  {
   "cell_type": "code",
   "execution_count": 87,
   "metadata": {},
   "outputs": [],
   "source": [
    "modelo.fit(xtreino,ytreino)"
   ]
  },
  {
   "cell_type": "code",
   "execution_count": 88,
   "metadata": {},
   "outputs": [
    {
     "data": {
      "text/plain": [
       "array([1, 1, 1, 1, 1, 1, 1, 1, 1, 1, 1, 1, 1, 0, 1, 1, 1, 0, 1, 1, 1, 1,\n",
       "       1, 1, 1, 0, 1, 0, 1, 1, 1, 0, 1, 1, 1, 1, 1, 1, 1, 1, 0, 1, 1, 1,\n",
       "       1, 0, 1, 1, 1, 1, 1, 1, 1, 1, 1, 1, 1, 1, 1, 1, 1, 1, 1, 1, 1, 1,\n",
       "       1, 1, 1, 1, 1, 1, 1, 1, 1, 1, 1, 1, 1, 1, 0, 1, 1, 1, 1, 1])"
      ]
     },
     "execution_count": 88,
     "metadata": {},
     "output_type": "execute_result"
    }
   ],
   "source": [
    "modelo.predict(xteste)"
   ]
  },
  {
   "cell_type": "code",
   "execution_count": 89,
   "metadata": {},
   "outputs": [
    {
     "data": {
      "text/plain": [
       "0.721"
      ]
     },
     "execution_count": 89,
     "metadata": {},
     "output_type": "execute_result"
    }
   ],
   "source": [
    "modelo.acuracia(yteste,modelo.predict(xteste))"
   ]
  },
  {
   "cell_type": "code",
   "execution_count": 90,
   "metadata": {},
   "outputs": [
    {
     "name": "stdout",
     "output_type": "stream",
     "text": [
      "Classe predita  0   1  All\n",
      "Classe real               \n",
      "0.0             5  21   26\n",
      "1.0             3  57   60\n",
      "All             8  78   86\n"
     ]
    }
   ],
   "source": [
    "modelo.matriz_de_confusao(yteste,modelo.predict(xteste))"
   ]
  }
 ],
 "metadata": {
  "kernelspec": {
   "display_name": "Python 3",
   "language": "python",
   "name": "python3"
  },
  "language_info": {
   "codemirror_mode": {
    "name": "ipython",
    "version": 3
   },
   "file_extension": ".py",
   "mimetype": "text/x-python",
   "name": "python",
   "nbconvert_exporter": "python",
   "pygments_lexer": "ipython3",
   "version": "3.7.1"
  }
 },
 "nbformat": 4,
 "nbformat_minor": 2
}
