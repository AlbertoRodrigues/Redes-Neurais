{
 "cells": [
  {
   "cell_type": "markdown",
   "metadata": {},
   "source": [
    "# Nome: Alberto Rodrigues Ferreira\n",
    "# Matrícula: 391278"
   ]
  },
  {
   "cell_type": "code",
   "execution_count": 0,
   "metadata": {
    "colab": {},
    "colab_type": "code",
    "id": "ZZh4QbtP6ECv"
   },
   "outputs": [],
   "source": [
    "import tensorflow as tf\n",
    "import numpy as np\n",
    "import pandas as pd\n",
    "from sklearn.model_selection import train_test_split\n",
    "import seaborn as sea"
   ]
  },
  {
   "cell_type": "code",
   "execution_count": 51,
   "metadata": {
    "colab": {
     "base_uri": "https://localhost:8080/",
     "height": 35
    },
    "colab_type": "code",
    "id": "N5AB-0IMDfN-",
    "outputId": "69bac775-934d-47cb-ef68-b4bd48486d74"
   },
   "outputs": [
    {
     "name": "stdout",
     "output_type": "stream",
     "text": [
      "Drive already mounted at /content/gdrive; to attempt to forcibly remount, call drive.mount(\"/content/gdrive\", force_remount=True).\n"
     ]
    }
   ],
   "source": [
    "from google.colab import drive \n",
    "drive.mount('/content/gdrive')"
   ]
  },
  {
   "cell_type": "code",
   "execution_count": 0,
   "metadata": {
    "colab": {},
    "colab_type": "code",
    "id": "g5_XXna9IIWx"
   },
   "outputs": [],
   "source": [
    "dados=pd.read_csv('gdrive/My Drive/DadosDeCarros2.csv')"
   ]
  },
  {
   "cell_type": "code",
   "execution_count": 53,
   "metadata": {
    "colab": {
     "base_uri": "https://localhost:8080/",
     "height": 206
    },
    "colab_type": "code",
    "id": "ZSvqQYRRIku1",
    "outputId": "28008dc4-b012-4cfc-d135-0f35f3b3b00e"
   },
   "outputs": [
    {
     "data": {
      "text/html": [
       "<div>\n",
       "<style scoped>\n",
       "    .dataframe tbody tr th:only-of-type {\n",
       "        vertical-align: middle;\n",
       "    }\n",
       "\n",
       "    .dataframe tbody tr th {\n",
       "        vertical-align: top;\n",
       "    }\n",
       "\n",
       "    .dataframe thead th {\n",
       "        text-align: right;\n",
       "    }\n",
       "</style>\n",
       "<table border=\"1\" class=\"dataframe\">\n",
       "  <thead>\n",
       "    <tr style=\"text-align: right;\">\n",
       "      <th></th>\n",
       "      <th>price</th>\n",
       "      <th>engine-size</th>\n",
       "    </tr>\n",
       "  </thead>\n",
       "  <tbody>\n",
       "    <tr>\n",
       "      <th>0</th>\n",
       "      <td>13495</td>\n",
       "      <td>130</td>\n",
       "    </tr>\n",
       "    <tr>\n",
       "      <th>1</th>\n",
       "      <td>16500</td>\n",
       "      <td>130</td>\n",
       "    </tr>\n",
       "    <tr>\n",
       "      <th>2</th>\n",
       "      <td>16500</td>\n",
       "      <td>152</td>\n",
       "    </tr>\n",
       "    <tr>\n",
       "      <th>3</th>\n",
       "      <td>13950</td>\n",
       "      <td>109</td>\n",
       "    </tr>\n",
       "    <tr>\n",
       "      <th>4</th>\n",
       "      <td>17450</td>\n",
       "      <td>136</td>\n",
       "    </tr>\n",
       "  </tbody>\n",
       "</table>\n",
       "</div>"
      ],
      "text/plain": [
       "   price  engine-size\n",
       "0  13495          130\n",
       "1  16500          130\n",
       "2  16500          152\n",
       "3  13950          109\n",
       "4  17450          136"
      ]
     },
     "execution_count": 53,
     "metadata": {
      "tags": []
     },
     "output_type": "execute_result"
    }
   ],
   "source": [
    "dados.head()"
   ]
  },
  {
   "cell_type": "code",
   "execution_count": 54,
   "metadata": {
    "colab": {
     "base_uri": "https://localhost:8080/",
     "height": 300
    },
    "colab_type": "code",
    "id": "BCgBsLFfFNWm",
    "outputId": "f1816198-b5ab-4db3-8218-f81d71ac7a3d"
   },
   "outputs": [
    {
     "data": {
      "text/html": [
       "<div>\n",
       "<style scoped>\n",
       "    .dataframe tbody tr th:only-of-type {\n",
       "        vertical-align: middle;\n",
       "    }\n",
       "\n",
       "    .dataframe tbody tr th {\n",
       "        vertical-align: top;\n",
       "    }\n",
       "\n",
       "    .dataframe thead th {\n",
       "        text-align: right;\n",
       "    }\n",
       "</style>\n",
       "<table border=\"1\" class=\"dataframe\">\n",
       "  <thead>\n",
       "    <tr style=\"text-align: right;\">\n",
       "      <th></th>\n",
       "      <th>price</th>\n",
       "      <th>engine-size</th>\n",
       "    </tr>\n",
       "  </thead>\n",
       "  <tbody>\n",
       "    <tr>\n",
       "      <th>count</th>\n",
       "      <td>201.000000</td>\n",
       "      <td>201.000000</td>\n",
       "    </tr>\n",
       "    <tr>\n",
       "      <th>mean</th>\n",
       "      <td>13207.129353</td>\n",
       "      <td>126.875622</td>\n",
       "    </tr>\n",
       "    <tr>\n",
       "      <th>std</th>\n",
       "      <td>7947.066342</td>\n",
       "      <td>41.546834</td>\n",
       "    </tr>\n",
       "    <tr>\n",
       "      <th>min</th>\n",
       "      <td>5118.000000</td>\n",
       "      <td>61.000000</td>\n",
       "    </tr>\n",
       "    <tr>\n",
       "      <th>25%</th>\n",
       "      <td>7775.000000</td>\n",
       "      <td>98.000000</td>\n",
       "    </tr>\n",
       "    <tr>\n",
       "      <th>50%</th>\n",
       "      <td>10295.000000</td>\n",
       "      <td>120.000000</td>\n",
       "    </tr>\n",
       "    <tr>\n",
       "      <th>75%</th>\n",
       "      <td>16500.000000</td>\n",
       "      <td>141.000000</td>\n",
       "    </tr>\n",
       "    <tr>\n",
       "      <th>max</th>\n",
       "      <td>45400.000000</td>\n",
       "      <td>326.000000</td>\n",
       "    </tr>\n",
       "  </tbody>\n",
       "</table>\n",
       "</div>"
      ],
      "text/plain": [
       "              price  engine-size\n",
       "count    201.000000   201.000000\n",
       "mean   13207.129353   126.875622\n",
       "std     7947.066342    41.546834\n",
       "min     5118.000000    61.000000\n",
       "25%     7775.000000    98.000000\n",
       "50%    10295.000000   120.000000\n",
       "75%    16500.000000   141.000000\n",
       "max    45400.000000   326.000000"
      ]
     },
     "execution_count": 54,
     "metadata": {
      "tags": []
     },
     "output_type": "execute_result"
    }
   ],
   "source": [
    "dados.describe()"
   ]
  },
  {
   "cell_type": "code",
   "execution_count": 55,
   "metadata": {
    "colab": {
     "base_uri": "https://localhost:8080/",
     "height": 416
    },
    "colab_type": "code",
    "id": "IYMOuOzTFrpj",
    "outputId": "050a6ffd-7982-4aaa-dc37-48eba743643b"
   },
   "outputs": [
    {
     "name": "stderr",
     "output_type": "stream",
     "text": [
      "/usr/local/lib/python3.6/dist-packages/seaborn/categorical.py:454: FutureWarning: remove_na is deprecated and is a private function. Do not use.\n",
      "  box_data = remove_na(group_data)\n"
     ]
    },
    {
     "data": {
      "text/plain": [
       "<matplotlib.axes._subplots.AxesSubplot at 0x7f867c186400>"
      ]
     },
     "execution_count": 55,
     "metadata": {
      "tags": []
     },
     "output_type": "execute_result"
    },
    {
     "data": {
      "image/png": "[encoded data removed]",
      "text/plain": [
       "<Figure size 576x396 with 1 Axes>"
      ]
     },
     "metadata": {
      "tags": []
     },
     "output_type": "display_data"
    }
   ],
   "source": [
    "sea.boxplot(dados[\"engine-size\"])"
   ]
  },
  {
   "cell_type": "code",
   "execution_count": 56,
   "metadata": {
    "colab": {
     "base_uri": "https://localhost:8080/",
     "height": 416
    },
    "colab_type": "code",
    "id": "pBI_9jJNGAqw",
    "outputId": "044d8814-86f3-4e4b-e850-4f8a3c2fd7d3"
   },
   "outputs": [
    {
     "name": "stderr",
     "output_type": "stream",
     "text": [
      "/usr/local/lib/python3.6/dist-packages/seaborn/categorical.py:454: FutureWarning: remove_na is deprecated and is a private function. Do not use.\n",
      "  box_data = remove_na(group_data)\n"
     ]
    },
    {
     "data": {
      "text/plain": [
       "<matplotlib.axes._subplots.AxesSubplot at 0x7f867c0d5fd0>"
      ]
     },
     "execution_count": 56,
     "metadata": {
      "tags": []
     },
     "output_type": "execute_result"
    },
    {
     "data": {
      "image/png": "[encoded data removed]",
      "text/plain": [
       "<Figure size 576x396 with 1 Axes>"
      ]
     },
     "metadata": {
      "tags": []
     },
     "output_type": "display_data"
    }
   ],
   "source": [
    "sea.boxplot(dados[\"price\"])"
   ]
  },
  {
   "cell_type": "code",
   "execution_count": 0,
   "metadata": {
    "colab": {},
    "colab_type": "code",
    "id": "zlUKVG6KIzDG"
   },
   "outputs": [],
   "source": [
    "X=np.column_stack((np.ones(dados.shape[0]),(dados[\"engine-size\"].values)))"
   ]
  },
  {
   "cell_type": "code",
   "execution_count": 0,
   "metadata": {
    "colab": {},
    "colab_type": "code",
    "id": "VcDPtPwZbOfD"
   },
   "outputs": [],
   "source": [
    "Y=dados[\"price\"].values.astype(\"float\")"
   ]
  },
  {
   "cell_type": "code",
   "execution_count": 59,
   "metadata": {
    "colab": {
     "base_uri": "https://localhost:8080/",
     "height": 54
    },
    "colab_type": "code",
    "id": "Dn7XZPGUTzOD",
    "outputId": "f8e204eb-071b-4dc0-f866-9ffb4402b358"
   },
   "outputs": [
    {
     "name": "stdout",
     "output_type": "stream",
     "text": [
      "-3.755978391766699e-17\n",
      "1.0\n"
     ]
    }
   ],
   "source": [
    "from sklearn.preprocessing import scale\n",
    "X[:,1]=scale(X[:,1]) \n",
    "print(np.mean(X[:,1]))\n",
    "print(np.std(X[:,1]))"
   ]
  },
  {
   "cell_type": "code",
   "execution_count": 0,
   "metadata": {
    "colab": {},
    "colab_type": "code",
    "id": "vT30B6tTdSlm"
   },
   "outputs": [],
   "source": [
    "xtreino,xteste,ytreino,yteste=train_test_split(X,Y,test_size=0.3)\n",
    "ytreino=ytreino.reshape(-1,1)\n",
    "yteste=yteste.reshape(-1,1)"
   ]
  },
  {
   "cell_type": "code",
   "execution_count": 0,
   "metadata": {
    "colab": {},
    "colab_type": "code",
    "id": "7b-nMIj3PdEq"
   },
   "outputs": [],
   "source": [
    "#Beta = tf.Variable(np.random.randn(),dtype=tf.float32)\n",
    "#Ajeitar taxa e Epocas\n",
    "Taxa=0.05\n",
    "Epocas=2000\n",
    "display_step=100"
   ]
  },
  {
   "cell_type": "code",
   "execution_count": 0,
   "metadata": {
    "colab": {},
    "colab_type": "code",
    "id": "bQXYN_XubcHl"
   },
   "outputs": [],
   "source": [
    "x = tf.placeholder(tf.float32)\n",
    "y = tf.placeholder(tf.float32)\n",
    " \n",
    "# Pesos e bias do modelo\n",
    "Beta = tf.Variable(np.random.randn(xtreino.shape[1],1),dtype=tf.float32)"
   ]
  },
  {
   "cell_type": "code",
   "execution_count": 0,
   "metadata": {
    "colab": {},
    "colab_type": "code",
    "id": "DU0DRQnDPdG8"
   },
   "outputs": [],
   "source": [
    "# Construindo o modelo linear\n",
    "Modelo = tf.matmul(x,Beta)\n",
    " \n",
    "# Mean squared error (erro quadrado médio)\n",
    "Custo = tf.reduce_sum(tf.square(Modelo - y) / (2*dados.shape[0]))\n",
    " \n",
    "# Otimização com Gradient descent\n",
    "Treino = tf.train.GradientDescentOptimizer(Taxa).minimize(Custo)"
   ]
  },
  {
   "cell_type": "code",
   "execution_count": 64,
   "metadata": {
    "colab": {
     "base_uri": "https://localhost:8080/",
     "height": 807
    },
    "colab_type": "code",
    "id": "fGAs9t8EPc9r",
    "outputId": "a0e07989-5d5d-4ec2-9f45-45fb877a6145"
   },
   "outputs": [
    {
     "name": "stdout",
     "output_type": "stream",
     "text": [
      "100 5021459.5 [[12836.769 ]\n",
      " [ 6806.5728]]\n",
      "200 4973620.5 [[13184.229 ]\n",
      " [ 6885.0874]]\n",
      "300 4973585.0 [[13194.068]\n",
      " [ 6885.171]]\n",
      "400 4973584.5 [[13194.352 ]\n",
      " [ 6885.1353]]\n",
      "500 4973584.5 [[13194.352 ]\n",
      " [ 6885.1353]]\n",
      "600 4973584.5 [[13194.352 ]\n",
      " [ 6885.1353]]\n",
      "700 4973584.5 [[13194.352 ]\n",
      " [ 6885.1353]]\n",
      "800 4973584.5 [[13194.352 ]\n",
      " [ 6885.1353]]\n",
      "900 4973584.5 [[13194.352 ]\n",
      " [ 6885.1353]]\n",
      "1000 4973584.5 [[13194.352 ]\n",
      " [ 6885.1353]]\n",
      "1100 4973584.5 [[13194.352 ]\n",
      " [ 6885.1353]]\n",
      "1200 4973584.5 [[13194.352 ]\n",
      " [ 6885.1353]]\n",
      "1300 4973584.5 [[13194.352 ]\n",
      " [ 6885.1353]]\n",
      "1400 4973584.5 [[13194.352 ]\n",
      " [ 6885.1353]]\n",
      "1500 4973584.5 [[13194.352 ]\n",
      " [ 6885.1353]]\n",
      "1600 4973584.5 [[13194.352 ]\n",
      " [ 6885.1353]]\n",
      "1700 4973584.5 [[13194.352 ]\n",
      " [ 6885.1353]]\n",
      "1800 4973584.5 [[13194.352 ]\n",
      " [ 6885.1353]]\n",
      "1900 4973584.5 [[13194.352 ]\n",
      " [ 6885.1353]]\n",
      "2000 4973584.5 [[13194.352 ]\n",
      " [ 6885.1353]]\n",
      "Custo Final de Treinamento: 4973584.5  Parâmetros: [[13194.352 ]\n",
      " [ 6885.1353]]\n",
      "Custo Final em Teste: 8361314.0\n"
     ]
    }
   ],
   "source": [
    "init = tf.global_variables_initializer()\n",
    " \n",
    "# Iniciando a sessão\n",
    "with tf.Session() as sess:\n",
    "    # Iniciando as variáveis\n",
    "    sess.run(init)\n",
    "    # Treinamento do modelo\n",
    "    for epoch in range(Epocas):\n",
    "        sess.run(Treino, feed_dict={x: xtreino, y: ytreino})\n",
    "         \n",
    "        # Display de cada epoch\n",
    "        if (epoch+1) % display_step == 0:\n",
    "            c = sess.run(Custo, feed_dict={x: xtreino, y: ytreino})\n",
    "            print(epoch+1, c, sess.run(Beta))\n",
    "\n",
    "    # Imprimindo os parâmetros finais do modelo\n",
    "    custo_treino = sess.run(Custo, feed_dict={x: xtreino, y: ytreino})\n",
    "    print(\"Custo Final de Treinamento:\", custo_treino, \" Parâmetros:\", sess.run(Beta))\n",
    "    # Testando o modelo\n",
    "    custo_teste = sess.run(tf.reduce_sum(tf.square(Modelo - y)) / (2 * xteste.shape[0]), feed_dict={x: xteste, y: yteste})\n",
    "     \n",
    "    print(\"Custo Final em Teste:\", custo_teste)\n",
    "    ypredito=sess.run(tf.matmul(xteste.astype(\"float32\"),Beta) )"
   ]
  },
  {
   "cell_type": "code",
   "execution_count": 0,
   "metadata": {
    "colab": {},
    "colab_type": "code",
    "id": "19WlKaEvPdLB"
   },
   "outputs": [],
   "source": [
    "from sklearn.metrics import r2_score"
   ]
  },
  {
   "cell_type": "code",
   "execution_count": 0,
   "metadata": {
    "colab": {},
    "colab_type": "code",
    "id": "tucaIZM1Pc00"
   },
   "outputs": [],
   "source": [
    "r2=r2_score(yteste,ypredito)"
   ]
  },
  {
   "cell_type": "code",
   "execution_count": 67,
   "metadata": {
    "colab": {
     "base_uri": "https://localhost:8080/",
     "height": 35
    },
    "colab_type": "code",
    "id": "9DJNtk6JPc39",
    "outputId": "66408dc3-ac6a-4afe-9df5-fd5a24adc8a9"
   },
   "outputs": [
    {
     "data": {
      "text/plain": [
       "0.6806357235055648"
      ]
     },
     "execution_count": 67,
     "metadata": {
      "tags": []
     },
     "output_type": "execute_result"
    }
   ],
   "source": [
    "r2"
   ]
  },
  {
   "cell_type": "code",
   "execution_count": 68,
   "metadata": {
    "colab": {
     "base_uri": "https://localhost:8080/",
     "height": 1137
    },
    "colab_type": "code",
    "id": "aC6Ly3Z5PdRI",
    "outputId": "63aa0fe2-2ac7-45b2-a2cc-809bdb78f574"
   },
   "outputs": [
    {
     "data": {
      "text/plain": [
       "array([[ 7198.        ,  8397.13964844],\n",
       "       [ 7995.        ,  8231.00585938],\n",
       "       [ 8249.        ,  8231.00585938],\n",
       "       [ 8949.        , 12052.07910156],\n",
       "       [15580.        , 12052.07910156],\n",
       "       [ 9495.        ,  8231.00585938],\n",
       "       [ 6295.        ,  7068.07080078],\n",
       "       [ 7295.        ,  7400.33740234],\n",
       "       [10945.        ,  3745.39770508],\n",
       "       [ 9988.        , 12384.34667969],\n",
       "       [ 6989.        , 12384.34667969],\n",
       "       [18280.        , 15374.75195312],\n",
       "       [35056.        , 30991.31445312],\n",
       "       [ 5389.        ,  7400.33740234],\n",
       "       [17669.        , 16371.55371094],\n",
       "       [ 7126.        , 10058.47558594],\n",
       "       [ 7775.        ,  8231.00585938],\n",
       "       [18620.        , 12218.21289062],\n",
       "       [13645.        ,  3745.39770508],\n",
       "       [20970.        , 19361.95898438],\n",
       "       [13499.        , 22186.23242188],\n",
       "       [ 6669.        ,  7400.33740234],\n",
       "       [ 9989.        , 16371.55371094],\n",
       "       [ 7799.        ,  8231.00585938],\n",
       "       [ 8499.        , 12384.34667969],\n",
       "       [ 8921.        , 12384.34667969],\n",
       "       [13845.        ,  8231.00585938],\n",
       "       [ 5572.        ,  7068.07080078],\n",
       "       [ 5151.        ,  2250.19458008],\n",
       "       [ 9549.        , 12052.07910156],\n",
       "       [ 7999.        ,  8231.00585938],\n",
       "       [11048.        , 11885.94628906],\n",
       "       [ 6229.        ,  7068.07080078],\n",
       "       [18399.        , 22186.23242188],\n",
       "       [ 6692.        ,  7068.07080078],\n",
       "       [14399.        , 22186.23242188],\n",
       "       [ 7788.        , 10390.74316406],\n",
       "       [ 6095.        ,  7234.20410156],\n",
       "       [19699.        , 22186.23242188],\n",
       "       [22625.        , 15540.88574219],\n",
       "       [ 6488.        ,  7400.33740234],\n",
       "       [ 5195.        ,  7234.20410156],\n",
       "       [13415.        , 15540.88574219],\n",
       "       [24565.        , 19361.95898438],\n",
       "       [ 8358.        ,  8397.13964844],\n",
       "       [15040.        , 12218.21289062],\n",
       "       [ 7603.        , 10058.47558594],\n",
       "       [18344.        , 14377.95019531],\n",
       "       [ 8921.        , 12384.34667969],\n",
       "       [ 7738.        ,  8397.13964844],\n",
       "       [11245.        , 12384.34667969],\n",
       "       [41315.        , 26837.97265625],\n",
       "       [16500.        , 17368.35546875],\n",
       "       [ 9279.        , 10390.74316406],\n",
       "       [28248.        , 22518.49804688],\n",
       "       [ 7053.        , 10058.47558594],\n",
       "       [13295.        , 14710.21777344],\n",
       "       [17710.        , 14710.21777344],\n",
       "       [17199.        , 22186.23242188],\n",
       "       [ 7499.        ,  8231.00585938],\n",
       "       [22018.        , 17202.22265625]])"
      ]
     },
     "execution_count": 68,
     "metadata": {
      "tags": []
     },
     "output_type": "execute_result"
    }
   ],
   "source": [
    "np.column_stack((yteste,ypredito))"
   ]
  },
  {
   "cell_type": "code",
   "execution_count": 69,
   "metadata": {
    "colab": {
     "base_uri": "https://localhost:8080/",
     "height": 35
    },
    "colab_type": "code",
    "id": "qOP49rp5PdBY",
    "outputId": "5c4637fe-c251-4a09-d0c6-3554c008b84c"
   },
   "outputs": [
    {
     "data": {
      "text/plain": [
       "16722629.024372457"
      ]
     },
     "execution_count": 69,
     "metadata": {
      "tags": []
     },
     "output_type": "execute_result"
    }
   ],
   "source": [
    "np.mean((ypredito-yteste)**2)"
   ]
  }
 ],
 "metadata": {
  "colab": {
   "collapsed_sections": [],
   "name": "RegressaoSimplesLista1RedesNeurais.ipynb",
   "provenance": [],
   "version": "0.3.2"
  },
  "kernelspec": {
   "display_name": "Python 3",
   "language": "python",
   "name": "python3"
  },
  "language_info": {
   "codemirror_mode": {
    "name": "ipython",
    "version": 3
   },
   "file_extension": ".py",
   "mimetype": "text/x-python",
   "name": "python",
   "nbconvert_exporter": "python",
   "pygments_lexer": "ipython3",
   "version": "3.7.1"
  }
 },
 "nbformat": 4,
 "nbformat_minor": 1
}
