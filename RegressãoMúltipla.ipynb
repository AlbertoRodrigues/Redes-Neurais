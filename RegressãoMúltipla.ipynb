{
 "cells": [
  {
   "cell_type": "markdown",
   "metadata": {},
   "source": [
    "# Nome : Alberto Rodrigues Ferreia\n",
    "# Matrícula : 391278"
   ]
  },
  {
   "cell_type": "markdown",
   "metadata": {},
   "source": [
    "# Implementação sem a biblioteca Scikit-Learn"
   ]
  },
  {
   "cell_type": "code",
   "execution_count": 1,
   "metadata": {},
   "outputs": [],
   "source": [
    "import pandas as pd\n",
    "import numpy as np"
   ]
  },
  {
   "cell_type": "markdown",
   "metadata": {},
   "source": [
    "# Importando dados já pré-processados pelo R, sem nenhum valor faltante."
   ]
  },
  {
   "cell_type": "code",
   "execution_count": 2,
   "metadata": {},
   "outputs": [],
   "source": [
    "dados=pd.read_csv(\"C://Users//Alberto//Desktop//Trabalhos//DadosDeCarrosRedesNeurais.csv\")"
   ]
  },
  {
   "cell_type": "code",
   "execution_count": 3,
   "metadata": {},
   "outputs": [
    {
     "data": {
      "text/html": [
       "<div>\n",
       "<style scoped>\n",
       "    .dataframe tbody tr th:only-of-type {\n",
       "        vertical-align: middle;\n",
       "    }\n",
       "\n",
       "    .dataframe tbody tr th {\n",
       "        vertical-align: top;\n",
       "    }\n",
       "\n",
       "    .dataframe thead th {\n",
       "        text-align: right;\n",
       "    }\n",
       "</style>\n",
       "<table border=\"1\" class=\"dataframe\">\n",
       "  <thead>\n",
       "    <tr style=\"text-align: right;\">\n",
       "      <th></th>\n",
       "      <th>make</th>\n",
       "      <th>fuel-type</th>\n",
       "      <th>aspiration</th>\n",
       "      <th>body-style</th>\n",
       "      <th>engine-location</th>\n",
       "      <th>wheel-base</th>\n",
       "      <th>length</th>\n",
       "      <th>width</th>\n",
       "      <th>height</th>\n",
       "      <th>curb-weight</th>\n",
       "      <th>engine-type</th>\n",
       "      <th>engine-size</th>\n",
       "      <th>fuel-system</th>\n",
       "      <th>bore</th>\n",
       "      <th>stroke</th>\n",
       "      <th>compression-ratio</th>\n",
       "      <th>peak-rpm</th>\n",
       "      <th>highway-mpg</th>\n",
       "      <th>price</th>\n",
       "    </tr>\n",
       "  </thead>\n",
       "  <tbody>\n",
       "    <tr>\n",
       "      <th>0</th>\n",
       "      <td>alfa-romero</td>\n",
       "      <td>gas</td>\n",
       "      <td>std</td>\n",
       "      <td>convertible</td>\n",
       "      <td>front</td>\n",
       "      <td>88.6</td>\n",
       "      <td>168.8</td>\n",
       "      <td>64.1</td>\n",
       "      <td>48.8</td>\n",
       "      <td>2548</td>\n",
       "      <td>dohc or dohcv or l or ohc</td>\n",
       "      <td>130</td>\n",
       "      <td>mfi or mpfi or spdi or spfi</td>\n",
       "      <td>3.47</td>\n",
       "      <td>2.68</td>\n",
       "      <td>9.0</td>\n",
       "      <td>5000.0</td>\n",
       "      <td>27</td>\n",
       "      <td>13495</td>\n",
       "    </tr>\n",
       "    <tr>\n",
       "      <th>1</th>\n",
       "      <td>alfa-romero</td>\n",
       "      <td>gas</td>\n",
       "      <td>std</td>\n",
       "      <td>convertible</td>\n",
       "      <td>front</td>\n",
       "      <td>88.6</td>\n",
       "      <td>168.8</td>\n",
       "      <td>64.1</td>\n",
       "      <td>48.8</td>\n",
       "      <td>2548</td>\n",
       "      <td>dohc or dohcv or l or ohc</td>\n",
       "      <td>130</td>\n",
       "      <td>mfi or mpfi or spdi or spfi</td>\n",
       "      <td>3.47</td>\n",
       "      <td>2.68</td>\n",
       "      <td>9.0</td>\n",
       "      <td>5000.0</td>\n",
       "      <td>27</td>\n",
       "      <td>16500</td>\n",
       "    </tr>\n",
       "    <tr>\n",
       "      <th>2</th>\n",
       "      <td>alfa-romero</td>\n",
       "      <td>gas</td>\n",
       "      <td>std</td>\n",
       "      <td>hatchback</td>\n",
       "      <td>front</td>\n",
       "      <td>94.5</td>\n",
       "      <td>171.2</td>\n",
       "      <td>65.5</td>\n",
       "      <td>52.4</td>\n",
       "      <td>2823</td>\n",
       "      <td>ohcf or ohcv or rotor</td>\n",
       "      <td>152</td>\n",
       "      <td>mfi or mpfi or spdi or spfi</td>\n",
       "      <td>2.68</td>\n",
       "      <td>3.47</td>\n",
       "      <td>9.0</td>\n",
       "      <td>5000.0</td>\n",
       "      <td>26</td>\n",
       "      <td>16500</td>\n",
       "    </tr>\n",
       "    <tr>\n",
       "      <th>3</th>\n",
       "      <td>audi</td>\n",
       "      <td>gas</td>\n",
       "      <td>std</td>\n",
       "      <td>sedan</td>\n",
       "      <td>front</td>\n",
       "      <td>99.8</td>\n",
       "      <td>176.6</td>\n",
       "      <td>66.2</td>\n",
       "      <td>54.3</td>\n",
       "      <td>2337</td>\n",
       "      <td>dohc or dohcv or l or ohc</td>\n",
       "      <td>109</td>\n",
       "      <td>mfi or mpfi or spdi or spfi</td>\n",
       "      <td>3.19</td>\n",
       "      <td>3.40</td>\n",
       "      <td>10.0</td>\n",
       "      <td>5500.0</td>\n",
       "      <td>30</td>\n",
       "      <td>13950</td>\n",
       "    </tr>\n",
       "    <tr>\n",
       "      <th>4</th>\n",
       "      <td>audi</td>\n",
       "      <td>gas</td>\n",
       "      <td>std</td>\n",
       "      <td>sedan</td>\n",
       "      <td>front</td>\n",
       "      <td>99.4</td>\n",
       "      <td>176.6</td>\n",
       "      <td>66.4</td>\n",
       "      <td>54.3</td>\n",
       "      <td>2824</td>\n",
       "      <td>dohc or dohcv or l or ohc</td>\n",
       "      <td>136</td>\n",
       "      <td>mfi or mpfi or spdi or spfi</td>\n",
       "      <td>3.19</td>\n",
       "      <td>3.40</td>\n",
       "      <td>8.0</td>\n",
       "      <td>5500.0</td>\n",
       "      <td>22</td>\n",
       "      <td>17450</td>\n",
       "    </tr>\n",
       "  </tbody>\n",
       "</table>\n",
       "</div>"
      ],
      "text/plain": [
       "          make fuel-type aspiration   body-style engine-location  wheel-base  \\\n",
       "0  alfa-romero       gas        std  convertible           front        88.6   \n",
       "1  alfa-romero       gas        std  convertible           front        88.6   \n",
       "2  alfa-romero       gas        std    hatchback           front        94.5   \n",
       "3         audi       gas        std        sedan           front        99.8   \n",
       "4         audi       gas        std        sedan           front        99.4   \n",
       "\n",
       "   length   width  height  curb-weight                engine-type  \\\n",
       "0   168.8    64.1    48.8         2548  dohc or dohcv or l or ohc   \n",
       "1   168.8    64.1    48.8         2548  dohc or dohcv or l or ohc   \n",
       "2   171.2    65.5    52.4         2823      ohcf or ohcv or rotor   \n",
       "3   176.6    66.2    54.3         2337  dohc or dohcv or l or ohc   \n",
       "4   176.6    66.4    54.3         2824  dohc or dohcv or l or ohc   \n",
       "\n",
       "   engine-size                  fuel-system  bore  stroke  compression-ratio  \\\n",
       "0          130  mfi or mpfi or spdi or spfi  3.47    2.68                9.0   \n",
       "1          130  mfi or mpfi or spdi or spfi  3.47    2.68                9.0   \n",
       "2          152  mfi or mpfi or spdi or spfi  2.68    3.47                9.0   \n",
       "3          109  mfi or mpfi or spdi or spfi  3.19    3.40               10.0   \n",
       "4          136  mfi or mpfi or spdi or spfi  3.19    3.40                8.0   \n",
       "\n",
       "   peak-rpm  highway-mpg  price  \n",
       "0    5000.0           27  13495  \n",
       "1    5000.0           27  16500  \n",
       "2    5000.0           26  16500  \n",
       "3    5500.0           30  13950  \n",
       "4    5500.0           22  17450  "
      ]
     },
     "execution_count": 3,
     "metadata": {},
     "output_type": "execute_result"
    }
   ],
   "source": [
    "dados.head()"
   ]
  },
  {
   "cell_type": "markdown",
   "metadata": {},
   "source": [
    "# Função para as variáveis explicativas que são categóricas com o objetivo de usá-las como variáveis dummy com o método de Regressão Casela de Referência."
   ]
  },
  {
   "cell_type": "code",
   "execution_count": 4,
   "metadata": {},
   "outputs": [],
   "source": [
    "#Essa função irá fazer parte da matriz X para cada variável categórica, ela irá percorrer todas as observações dessa variável\n",
    "# e dizer 1 se ela for de um tipo específico e 0 se não for, e faz por coluna.\n",
    "def CaselaDeReferencia(x):\n",
    "    #Criando matriz para cada variável categórica com o número de linhas igual ao número de observações e o número de colunas\n",
    "    #igual ao número de categorias únicas - 1.\n",
    "    matriz=np.empty(shape=(len(x),len(np.unique(x))-1),dtype=int)\n",
    "    #Andando pelas indices das colunas.\n",
    "    for i in range(matriz.shape[1]):\n",
    "        #Andando pelo indice das linhas (observações).\n",
    "        for j in range(len(x)):\n",
    "            #Se o valor for\n",
    "            if x[j]==np.unique(x)[1:][i]:\n",
    "                matriz[j,i]=1\n",
    "            else:\n",
    "                matriz[j,i]=0\n",
    "    return matriz"
   ]
  },
  {
   "cell_type": "code",
   "execution_count": 5,
   "metadata": {},
   "outputs": [
    {
     "data": {
      "text/plain": [
       "Index(['make', 'fuel-type', 'aspiration', 'body-style', 'engine-location',\n",
       "       'wheel-base', 'length', ' width', 'height', 'curb-weight',\n",
       "       'engine-type', 'engine-size', 'fuel-system', 'bore', 'stroke',\n",
       "       'compression-ratio', 'peak-rpm', 'highway-mpg', 'price'],\n",
       "      dtype='object')"
      ]
     },
     "execution_count": 5,
     "metadata": {},
     "output_type": "execute_result"
    }
   ],
   "source": [
    "#Nome das variáveis\n",
    "dados.columns"
   ]
  },
  {
   "cell_type": "markdown",
   "metadata": {},
   "source": [
    "# Irei fazer pelo método dos mínimos quadrados ordinários, pois possuem excelentes propriedades sobre os estimadores de Regressão Linear, essa é a função dos estimadores."
   ]
  },
  {
   "cell_type": "code",
   "execution_count": 6,
   "metadata": {},
   "outputs": [],
   "source": [
    "#A função recebe dois parâmetros, x e y para estimar os parâmetros.\n",
    "def Beta(x,y):\n",
    "    return(np.linalg.inv((x.T).dot(x)).dot(x.T).dot(y))"
   ]
  },
  {
   "cell_type": "code",
   "execution_count": 7,
   "metadata": {},
   "outputs": [],
   "source": [
    "#Pegando as variáveis que são numéricas.\n",
    "DadosNumericos=(dados[['wheel-base', 'length', ' width', 'height','curb-weight','engine-size','bore'\n",
    ", 'stroke','compression-ratio', 'peak-rpm', 'highway-mpg']].values)"
   ]
  },
  {
   "cell_type": "markdown",
   "metadata": {},
   "source": [
    "# Ocorreram alguns problemas com as variáveis categóricas e algumas delas serão retiradas e será explicado o motivo."
   ]
  },
  {
   "cell_type": "markdown",
   "metadata": {},
   "source": [
    "# A variável make como mostrado abaixo possui várias categórias e algumas dessas categórias existe uma frequência muita baixa dessa categoria e esse é o problema pois na matriz X, utilizando o método de validação cruzada 10-folds pode acontecer de que todas as observações de um certo tipo de categoria esteja toda no conjunto de teste, em algum fold específico, e nos outros 9 folds não tenha nenhuma observação no conjunto de treinamento com aquela tipo e com o método de regressão linear Casela de Referência isso ocassionaria uma coluna de zeros na matrix (X^T*X) e assim não existiria inversa pelo método usual e não teríamos como estimar os parâmetros nesse caso.\n"
   ]
  },
  {
   "cell_type": "code",
   "execution_count": 8,
   "metadata": {},
   "outputs": [
    {
     "data": {
      "text/plain": [
       "(array(['alfa-romero', 'audi', 'bmw', 'chevrolet', 'dodge', 'honda',\n",
       "        'isuzu', 'jaguar', 'mazda', 'mercedes-benz', 'mercury',\n",
       "        'mitsubishi', 'nissan', 'peugot', 'plymouth', 'porsche', 'renault',\n",
       "        'saab', 'subaru', 'toyota', 'volkswagen', 'volvo'], dtype=object),\n",
       " array([ 3,  6,  8,  3,  9, 13,  2,  3, 17,  8,  1, 13, 18, 11,  7,  4,  2,\n",
       "         6, 12, 32, 12, 11], dtype=int64))"
      ]
     },
     "execution_count": 8,
     "metadata": {},
     "output_type": "execute_result"
    }
   ],
   "source": [
    "np.unique(dados[\"make\"],return_counts=True)"
   ]
  },
  {
   "cell_type": "markdown",
   "metadata": {},
   "source": [
    "# A variável enfine-location ocorre do mesmo problema tendo o tipo rear com apenas 3 observações e por esse motivo será retirado do modelo."
   ]
  },
  {
   "cell_type": "code",
   "execution_count": 9,
   "metadata": {},
   "outputs": [
    {
     "data": {
      "text/plain": [
       "(array(['front', 'rear'], dtype=object), array([198,   3], dtype=int64))"
      ]
     },
     "execution_count": 9,
     "metadata": {},
     "output_type": "execute_result"
    }
   ],
   "source": [
    "np.unique(dados[\"engine-location\"],return_counts=True)"
   ]
  },
  {
   "cell_type": "code",
   "execution_count": 10,
   "metadata": {},
   "outputs": [],
   "source": [
    "#Matriz X e Variável y.\n",
    "x=(np.column_stack((np.ones(dados.shape[0]),DadosNumericos,\n",
    "                    CaselaDeReferencia(dados[\"fuel-type\"]),\n",
    "                    CaselaDeReferencia(dados[\"aspiration\"]),\n",
    "                    CaselaDeReferencia(dados[\"body-style\"]),\n",
    "                    CaselaDeReferencia(dados[\"engine-type\"]),\n",
    "                    CaselaDeReferencia(dados[\"fuel-system\"]))))\n",
    "y=dados[\"price\"].values"
   ]
  },
  {
   "cell_type": "markdown",
   "metadata": {},
   "source": [
    "# Estimação dos parâmetros."
   ]
  },
  {
   "cell_type": "code",
   "execution_count": 11,
   "metadata": {},
   "outputs": [],
   "source": [
    "while True:\n",
    "    #Vetor de teste para se ocassionalmente, o que têm poucas chances de ocorrer, pode ser que ainda ainda ocorra o problema\n",
    "    #de não existir inversa única para a matriz X^T*X com alguma variável categórica, esse vetor será usado para resolver\n",
    "    #esse problema.\n",
    "    Teste=[]\n",
    "    #Vetor de indices dos dados\n",
    "    a=np.arange(dados.shape[0])\n",
    "    #Embaralhando o array a aleatoriamente\n",
    "    np.random.shuffle(a)\n",
    "    #10-folds da validação cruzada, repartindo em 10 partes iguais tirando a último índice do vetor a que será adicionado \n",
    "    #posteriormente.\n",
    "    Partes=np.hsplit(a[:-1],10)\n",
    "    s=list(Partes[0])\n",
    "    #Adicionando o indice da observação que faltava.\n",
    "    s.append(a[-1])\n",
    "    Partes[0]=np.array(s)\n",
    "    #Vetor de medidas para cada fold de treino, será utilizada a medida de erro absoluto médio.\n",
    "    Metricas=[]\n",
    "    #Laço para testar em cada um dos dez folds.\n",
    "    for i in range(len(Partes)):\n",
    "        #Condição para o problema da variável categórica já explicado anteriormente, se isso acontecer\n",
    "        #o vetor Teste será acrescentado o conjunto de treino que ocorreu o problema.\n",
    "        if np.linalg.det((x[np.setdiff1d(a,Partes[i]),:].T).dot(x[np.setdiff1d(a,Partes[i]),:]))==0:\n",
    "            Teste.append(x[np.setdiff1d(a,Partes[i]),:])\n",
    "        #Se tudo ocorrer certo ele passará por aqui e estimará os parâmetros.\n",
    "        else:\n",
    "            #Beta é a função que criei para estimar os parâmetros, a parte dos parâmetros é o seguinte:\n",
    "            # o comando np.setdiff1d(a,Partes[i]) significa que vou pegar o conjunto de indices de treinamento, ou seja\n",
    "            # estou pegando a diferença de conjuntos, a possui todos os indices e Partes[i] possue o conjunto de indices\n",
    "            #de de treino na i-ésima iteração.\n",
    "            beta=Beta(x[np.setdiff1d(a,Partes[i]),:],y[np.setdiff1d(a,Partes[i])])\n",
    "            #Os y's estimados são calculados abaixo.\n",
    "            ValoresPreditos=x[Partes[i],:].dot(beta)\n",
    "            #A cada iteração eu ponho a métrica erro absoluto médio na minha lista, para que no final eu tire uma média\n",
    "            #de todas as métricas de todos os folds.\n",
    "            Metricas.append(np.mean(np.abs(y[Partes[i]]-ValoresPreditos)))\n",
    "    #Aqui é consertado o problema de não inversibilidade da matriz X^T*X, pois se haver, haverá uma nova repartição dos folds,\n",
    "    # e é exatamente por esse motivo que soluciona o problema, novas repartições em cada fold para que não haja um tipo\n",
    "    #de uma variável categórica que estejam todas as observações no conjunto de teste.\n",
    "    if len(Teste)==0:\n",
    "        break\n",
    "    #Aqui se o problema ocorrer ele fará todo o processo de repartições novamente, até que todo dê certo.\n",
    "    else:\n",
    "        continue"
   ]
  },
  {
   "cell_type": "code",
   "execution_count": 12,
   "metadata": {},
   "outputs": [
    {
     "data": {
      "text/plain": [
       "[3077.0515306898305,\n",
       " 1874.4309234957614,\n",
       " 1810.2197956694934,\n",
       " 1682.1860061419866,\n",
       " 2079.5916220183162,\n",
       " 2377.709955110954,\n",
       " 2373.2277754019788,\n",
       " 3551.648427427967,\n",
       " 2696.4618709871634,\n",
       " 2542.3474740373995]"
      ]
     },
     "execution_count": 12,
     "metadata": {},
     "output_type": "execute_result"
    }
   ],
   "source": [
    "#Métrica em cada um dos dez folds.\n",
    "Metricas"
   ]
  },
  {
   "cell_type": "code",
   "execution_count": 13,
   "metadata": {},
   "outputs": [
    {
     "data": {
      "text/plain": [
       "2406.4875380980857"
      ]
     },
     "execution_count": 13,
     "metadata": {},
     "output_type": "execute_result"
    }
   ],
   "source": [
    "#Avaliação do modelo sem usar a biblioteca Scikit-Learn.\n",
    "np.mean(Metricas)"
   ]
  },
  {
   "cell_type": "markdown",
   "metadata": {},
   "source": [
    "# Implementação com a biblioteca Scikit-Learn"
   ]
  },
  {
   "cell_type": "code",
   "execution_count": 14,
   "metadata": {},
   "outputs": [],
   "source": [
    "from sklearn.linear_model import LinearRegression\n",
    "from sklearn.model_selection import KFold"
   ]
  },
  {
   "cell_type": "code",
   "execution_count": 15,
   "metadata": {},
   "outputs": [
    {
     "name": "stdout",
     "output_type": "stream",
     "text": [
      "Treino: [  0   1   2   3   4   6   7   8   9  10  11  12  13  14  15  16  17  18\n",
      "  20  21  22  23  24  25  26  27  28  29  30  32  33  34  36  37  38  40\n",
      "  41  42  44  46  47  48  49  51  52  54  56  57  58  59  60  61  62  63\n",
      "  64  65  66  67  68  69  70  72  73  74  75  76  77  78  79  80  81  82\n",
      "  83  84  85  86  87  88  89  90  91  92  93  94  95  96  97  98  99 100\n",
      " 101 102 103 104 105 106 107 108 109 110 111 112 113 114 115 116 117 118\n",
      " 119 120 121 122 124 125 127 128 129 130 131 132 133 134 135 136 137 138\n",
      " 139 140 141 143 144 145 146 147 148 149 150 152 153 154 155 156 158 159\n",
      " 160 161 162 163 165 166 169 171 172 173 174 176 177 178 179 180 181 182\n",
      " 183 184 185 186 187 188 189 190 191 192 193 194 195 196 197 198 199 200] Teste: [  5  19  31  35  39  43  45  50  53  55  71 123 126 142 151 157 164 167\n",
      " 168 170 175] \n",
      "\n",
      "Treino: [  0   1   2   3   4   5   7   8  10  11  12  13  14  15  16  19  20  21\n",
      "  22  23  24  26  27  28  29  31  33  34  35  36  37  38  39  40  41  42\n",
      "  43  44  45  46  47  48  49  50  51  52  53  54  55  57  58  59  60  61\n",
      "  62  63  64  66  67  68  69  70  71  72  73  74  75  76  77  78  79  80\n",
      "  81  82  83  84  85  86  87  88  89  90  91  92  93  94  95  96  97  98\n",
      " 100 101 102 103 104 105 106 107 108 109 110 112 113 114 115 117 118 119\n",
      " 120 121 122 123 124 125 126 128 129 130 131 132 133 134 135 136 137 138\n",
      " 139 140 141 142 143 144 146 147 148 149 150 151 152 153 155 156 157 158\n",
      " 159 160 163 164 165 166 167 168 169 170 171 172 173 174 175 178 179 180\n",
      " 182 183 184 185 186 187 188 189 190 191 192 193 194 195 196 197 198 199\n",
      " 200] Teste: [  6   9  17  18  25  30  32  56  65  99 111 116 127 145 154 161 162 176\n",
      " 177 181] \n",
      "\n",
      "Treino: [  0   1   2   3   4   5   6   7   9  11  13  14  15  16  17  18  19  20\n",
      "  21  22  23  24  25  26  27  28  29  30  31  32  33  34  35  36  37  38\n",
      "  39  40  41  42  43  44  45  46  47  48  49  50  51  52  53  54  55  56\n",
      "  57  58  60  61  62  63  64  65  66  67  68  69  70  71  72  74  75  76\n",
      "  77  78  79  80  81  82  83  84  86  87  89  91  92  93  94  95  96  97\n",
      "  99 101 102 103 106 107 108 109 110 111 113 114 116 117 118 119 120 121\n",
      " 122 123 124 125 126 127 129 130 132 133 134 135 136 137 138 139 141 142\n",
      " 143 144 145 146 147 148 149 150 151 152 153 154 156 157 158 159 160 161\n",
      " 162 163 164 165 166 167 168 169 170 171 172 173 174 175 176 177 178 179\n",
      " 180 181 182 183 184 186 187 188 189 191 192 193 194 195 196 197 198 199\n",
      " 200] Teste: [  8  10  12  59  73  85  88  90  98 100 104 105 112 115 128 131 140 155\n",
      " 185 190] \n",
      "\n",
      "Treino: [  1   3   4   5   6   7   8   9  10  11  12  13  14  15  16  17  18  19\n",
      "  20  21  22  23  24  25  26  27  28  29  30  31  32  33  34  35  37  38\n",
      "  39  40  41  42  43  44  45  46  47  48  49  50  51  52  53  54  55  56\n",
      "  57  58  59  61  62  63  64  65  66  67  68  70  71  73  75  76  77  78\n",
      "  79  80  81  82  83  84  85  86  87  88  89  90  91  92  93  94  96  97\n",
      "  98  99 100 102 103 104 105 106 107 108 109 110 111 112 114 115 116 117\n",
      " 118 120 121 122 123 126 127 128 129 130 131 132 133 134 135 136 137 139\n",
      " 140 141 142 143 145 146 147 149 150 151 152 153 154 155 157 158 159 160\n",
      " 161 162 163 164 165 166 167 168 169 170 171 172 173 174 175 176 177 178\n",
      " 179 180 181 182 183 185 187 189 190 191 192 193 194 195 196 197 198 199\n",
      " 200] Teste: [  0   2  36  60  69  72  74  95 101 113 119 124 125 138 144 148 156 184\n",
      " 186 188] \n",
      "\n",
      "Treino: [  0   2   3   4   5   6   7   8   9  10  11  12  14  15  16  17  18  19\n",
      "  20  21  22  23  25  27  28  29  30  31  32  33  34  35  36  37  38  39\n",
      "  40  41  43  44  45  47  48  49  50  52  53  54  55  56  57  58  59  60\n",
      "  61  62  63  64  65  67  68  69  70  71  72  73  74  75  76  77  78  80\n",
      "  81  82  83  84  85  86  88  89  90  91  92  93  94  95  96  97  98  99\n",
      " 100 101 103 104 105 106 107 108 109 110 111 112 113 114 115 116 117 118\n",
      " 119 121 122 123 124 125 126 127 128 129 130 131 132 133 134 135 137 138\n",
      " 139 140 142 143 144 145 147 148 149 151 152 153 154 155 156 157 158 159\n",
      " 160 161 162 163 164 165 167 168 169 170 171 172 173 174 175 176 177 180\n",
      " 181 182 183 184 185 186 187 188 189 190 191 192 193 195 196 197 198 199\n",
      " 200] Teste: [  1  13  24  26  42  46  51  66  79  87 102 120 136 141 146 150 166 178\n",
      " 179 194] \n",
      "\n",
      "Treino: [  0   1   2   3   5   6   7   8   9  10  12  13  14  16  17  18  19  20\n",
      "  21  22  23  24  25  26  27  28  29  30  31  32  33  34  35  36  37  38\n",
      "  39  40  41  42  43  45  46  47  48  49  50  51  52  53  55  56  59  60\n",
      "  61  63  64  65  66  67  68  69  70  71  72  73  74  76  77  79  81  82\n",
      "  83  84  85  86  87  88  89  90  91  92  94  95  96  97  98  99 100 101\n",
      " 102 103 104 105 106 107 109 110 111 112 113 114 115 116 117 118 119 120\n",
      " 121 123 124 125 126 127 128 129 130 131 132 133 136 137 138 140 141 142\n",
      " 143 144 145 146 147 148 149 150 151 152 154 155 156 157 158 159 160 161\n",
      " 162 163 164 165 166 167 168 169 170 171 172 173 174 175 176 177 178 179\n",
      " 181 182 183 184 185 186 187 188 189 190 191 192 194 195 196 197 198 199\n",
      " 200] Teste: [  4  11  15  44  54  57  58  62  75  78  80  93 108 122 134 135 139 153\n",
      " 180 193] \n",
      "\n",
      "Treino: [  0   1   2   4   5   6   7   8   9  10  11  12  13  14  15  16  17  18\n",
      "  19  20  21  23  24  25  26  27  28  29  30  31  32  34  35  36  37  39\n",
      "  41  42  43  44  45  46  48  49  50  51  52  53  54  55  56  57  58  59\n",
      "  60  61  62  63  64  65  66  68  69  70  71  72  73  74  75  76  78  79\n",
      "  80  81  83  84  85  86  87  88  89  90  91  92  93  94  95  96  98  99\n",
      " 100 101 102 103 104 105 106 107 108 110 111 112 113 114 115 116 118 119\n",
      " 120 121 122 123 124 125 126 127 128 129 130 131 132 133 134 135 136 138\n",
      " 139 140 141 142 143 144 145 146 147 148 149 150 151 152 153 154 155 156\n",
      " 157 158 159 160 161 162 164 166 167 168 169 170 171 173 174 175 176 177\n",
      " 178 179 180 181 182 184 185 186 188 189 190 192 193 194 195 196 197 199\n",
      " 200] Teste: [  3  22  33  38  40  47  67  77  82  97 109 117 137 163 165 172 183 187\n",
      " 191 198] \n",
      "\n",
      "Treino: [  0   1   2   3   4   5   6   7   8   9  10  11  12  13  14  15  16  17\n",
      "  18  19  20  22  23  24  25  26  27  28  29  30  31  32  33  34  35  36\n",
      "  37  38  39  40  42  43  44  45  46  47  48  50  51  52  53  54  55  56\n",
      "  57  58  59  60  62  63  65  66  67  69  70  71  72  73  74  75  76  77\n",
      "  78  79  80  81  82  85  86  87  88  89  90  92  93  94  95  96  97  98\n",
      "  99 100 101 102 103 104 105 107 108 109 111 112 113 114 115 116 117 118\n",
      " 119 120 121 122 123 124 125 126 127 128 129 130 131 132 134 135 136 137\n",
      " 138 139 140 141 142 143 144 145 146 148 150 151 153 154 155 156 157 160\n",
      " 161 162 163 164 165 166 167 168 169 170 171 172 173 174 175 176 177 178\n",
      " 179 180 181 183 184 185 186 187 188 190 191 192 193 194 195 196 198 199\n",
      " 200] Teste: [ 21  41  49  61  64  68  83  84  91 106 110 133 147 149 152 158 159 182\n",
      " 189 197] \n",
      "\n",
      "Treino: [  0   1   2   3   4   5   6   7   8   9  10  11  12  13  14  15  17  18\n",
      "  19  21  22  23  24  25  26  29  30  31  32  33  35  36  38  39  40  41\n",
      "  42  43  44  45  46  47  49  50  51  53  54  55  56  57  58  59  60  61\n",
      "  62  64  65  66  67  68  69  70  71  72  73  74  75  77  78  79  80  82\n",
      "  83  84  85  87  88  90  91  92  93  94  95  96  97  98  99 100 101 102\n",
      " 104 105 106 108 109 110 111 112 113 114 115 116 117 118 119 120 122 123\n",
      " 124 125 126 127 128 130 131 132 133 134 135 136 137 138 139 140 141 142\n",
      " 144 145 146 147 148 149 150 151 152 153 154 155 156 157 158 159 161 162\n",
      " 163 164 165 166 167 168 169 170 171 172 173 174 175 176 177 178 179 180\n",
      " 181 182 183 184 185 186 187 188 189 190 191 192 193 194 195 196 197 198\n",
      " 199] Teste: [ 16  20  27  28  34  37  48  52  63  76  81  86  89 103 107 121 129 143\n",
      " 160 200] \n",
      "\n",
      "Treino: [  0   1   2   3   4   5   6   8   9  10  11  12  13  15  16  17  18  19\n",
      "  20  21  22  24  25  26  27  28  30  31  32  33  34  35  36  37  38  39\n",
      "  40  41  42  43  44  45  46  47  48  49  50  51  52  53  54  55  56  57\n",
      "  58  59  60  61  62  63  64  65  66  67  68  69  71  72  73  74  75  76\n",
      "  77  78  79  80  81  82  83  84  85  86  87  88  89  90  91  93  95  97\n",
      "  98  99 100 101 102 103 104 105 106 107 108 109 110 111 112 113 115 116\n",
      " 117 119 120 121 122 123 124 125 126 127 128 129 131 133 134 135 136 137\n",
      " 138 139 140 141 142 143 144 145 146 147 148 149 150 151 152 153 154 155\n",
      " 156 157 158 159 160 161 162 163 164 165 166 167 168 170 172 175 176 177\n",
      " 178 179 180 181 182 183 184 185 186 187 188 189 190 191 193 194 197 198\n",
      " 200] Teste: [  7  14  23  29  70  92  94  96 114 118 130 132 169 171 173 174 192 195\n",
      " 196 199] \n",
      "\n"
     ]
    }
   ],
   "source": [
    "while True:\n",
    "    #Validação cruzada com 10 folds, e o parâmetro shuffle sorteia os indices aleatoriamente para cada fold.\n",
    "    k=KFold(10,shuffle=True)\n",
    "    #Vetor de teste para se ocassionalmente, o que têm poucas chances de ocorrer, pode ser que ainda ainda ocorra o problema\n",
    "    #de não existir inversa única para a matriz X^T*X com alguma variável categórica, esse vetor será usado para resolver\n",
    "    #esse problema.\n",
    "    Teste=[]\n",
    "    #Vetor de metricas para cada fold de teste.\n",
    "    Metricas2=[]\n",
    "    for IndiceTreino,IndiceTeste in k.split(x):\n",
    "        #Classe para o modelo de Regressão Linear.\n",
    "        modelo=LinearRegression()\n",
    "        #Condição para o problema da variável categórica já explicado anteriormente, se isso acontecer\n",
    "        #o vetor Teste será acrescentado o conjunto de treino que ocorreu o problema.\n",
    "        if np.linalg.det((x[IndiceTreino,:].T).dot(x[IndiceTreino,:]))==0:\n",
    "            Teste.append(x[IndiceTreino,:])\n",
    "        #Se tudo ocorrer certo ele passará por aqui e estimará os parâmetros.\n",
    "        else:\n",
    "            #Fazendo a repartição do conjunto de treino em nove folds e o conjunto de teste para um fold.\n",
    "            print(\"Treino:\", IndiceTreino, \"Teste:\", IndiceTeste,\"\\n\")\n",
    "            xtreino, xteste= x[IndiceTreino,:], x[IndiceTeste,:]\n",
    "            ytreino, yteste= y[IndiceTreino], y[IndiceTeste]\n",
    "            #Treinando o modelo.\n",
    "            modelo.fit(xtreino,ytreino)\n",
    "            #Pondo na lista a métrica de um conjunto de teste específico do fold.\n",
    "            Metricas2.append(np.mean(np.abs(yteste-modelo.predict(xteste))))\n",
    "    #Aqui é consertado o problema de não inversibilidade da matriz X^T*X, pois se haver, haverá uma nova repartição dos folds,\n",
    "    # e é exatamente por esse motivo que pode solucionar o problema, novas repartições em cada fold para que não haja um tipo\n",
    "    #de uma variável categórica que estejam todas as observações no conjunto de teste.\n",
    "    if len(Teste)==0:\n",
    "        break\n",
    "    #Aqui se o problema ocorrer ele fará todo o processo de repartições novamente, até que todo dê certo.\n",
    "    else:\n",
    "        continue"
   ]
  },
  {
   "cell_type": "code",
   "execution_count": 16,
   "metadata": {},
   "outputs": [
    {
     "data": {
      "text/plain": [
       "[2366.130211833871,\n",
       " 2584.1573787836746,\n",
       " 3388.973958519211,\n",
       " 2364.8814069201117,\n",
       " 2207.809274835298,\n",
       " 2834.8344872300167,\n",
       " 2418.201377418179,\n",
       " 1217.8698326509486,\n",
       " 2386.4588283592225,\n",
       " 2432.995100098678]"
      ]
     },
     "execution_count": 16,
     "metadata": {},
     "output_type": "execute_result"
    }
   ],
   "source": [
    "Metricas2"
   ]
  },
  {
   "cell_type": "code",
   "execution_count": 17,
   "metadata": {},
   "outputs": [
    {
     "data": {
      "text/plain": [
       "2420.231185664921"
      ]
     },
     "execution_count": 17,
     "metadata": {},
     "output_type": "execute_result"
    }
   ],
   "source": [
    "np.mean(Metricas2)"
   ]
  }
 ],
 "metadata": {
  "kernelspec": {
   "display_name": "Python 3",
   "language": "python",
   "name": "python3"
  },
  "language_info": {
   "codemirror_mode": {
    "name": "ipython",
    "version": 3
   },
   "file_extension": ".py",
   "mimetype": "text/x-python",
   "name": "python",
   "nbconvert_exporter": "python",
   "pygments_lexer": "ipython3",
   "version": "3.7.1"
  }
 },
 "nbformat": 4,
 "nbformat_minor": 2
}
