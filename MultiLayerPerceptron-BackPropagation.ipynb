{
 "cells": [
  {
   "cell_type": "code",
   "execution_count": 1,
   "metadata": {},
   "outputs": [],
   "source": [
    "import pandas as pd\n",
    "import numpy as np\n",
    "from sklearn.preprocessing import OneHotEncoder\n",
    "from sklearn.model_selection import train_test_split"
   ]
  },
  {
   "cell_type": "code",
   "execution_count": 2,
   "metadata": {},
   "outputs": [],
   "source": [
    "dados=pd.read_csv(\"DadosDeCancer.csv\")"
   ]
  },
  {
   "cell_type": "code",
   "execution_count": 3,
   "metadata": {},
   "outputs": [],
   "source": [
    "dados2=pd.DataFrame(np.copy(dados),columns=dados.columns)"
   ]
  },
  {
   "cell_type": "code",
   "execution_count": 4,
   "metadata": {},
   "outputs": [
    {
     "data": {
      "text/html": [
       "<div>\n",
       "<style scoped>\n",
       "    .dataframe tbody tr th:only-of-type {\n",
       "        vertical-align: middle;\n",
       "    }\n",
       "\n",
       "    .dataframe tbody tr th {\n",
       "        vertical-align: top;\n",
       "    }\n",
       "\n",
       "    .dataframe thead th {\n",
       "        text-align: right;\n",
       "    }\n",
       "</style>\n",
       "<table border=\"1\" class=\"dataframe\">\n",
       "  <thead>\n",
       "    <tr style=\"text-align: right;\">\n",
       "      <th></th>\n",
       "      <th>class</th>\n",
       "      <th>age</th>\n",
       "      <th>menopause</th>\n",
       "      <th>tumor-size</th>\n",
       "      <th>inv-nodes</th>\n",
       "      <th>node-caps</th>\n",
       "      <th>deg-malig</th>\n",
       "      <th>breast</th>\n",
       "      <th>irradiat</th>\n",
       "    </tr>\n",
       "  </thead>\n",
       "  <tbody>\n",
       "    <tr>\n",
       "      <th>0</th>\n",
       "      <td>no-recurrence-events</td>\n",
       "      <td>30-39</td>\n",
       "      <td>premeno</td>\n",
       "      <td>30-34</td>\n",
       "      <td>0-2</td>\n",
       "      <td>no</td>\n",
       "      <td>3</td>\n",
       "      <td>left</td>\n",
       "      <td>no</td>\n",
       "    </tr>\n",
       "    <tr>\n",
       "      <th>1</th>\n",
       "      <td>no-recurrence-events</td>\n",
       "      <td>40-49</td>\n",
       "      <td>premeno</td>\n",
       "      <td>20-24</td>\n",
       "      <td>0-2</td>\n",
       "      <td>no</td>\n",
       "      <td>2</td>\n",
       "      <td>right</td>\n",
       "      <td>no</td>\n",
       "    </tr>\n",
       "    <tr>\n",
       "      <th>2</th>\n",
       "      <td>no-recurrence-events</td>\n",
       "      <td>40-49</td>\n",
       "      <td>premeno</td>\n",
       "      <td>20-24</td>\n",
       "      <td>0-2</td>\n",
       "      <td>no</td>\n",
       "      <td>2</td>\n",
       "      <td>left</td>\n",
       "      <td>no</td>\n",
       "    </tr>\n",
       "    <tr>\n",
       "      <th>3</th>\n",
       "      <td>no-recurrence-events</td>\n",
       "      <td>60-69</td>\n",
       "      <td>ge40</td>\n",
       "      <td>15-19</td>\n",
       "      <td>0-2</td>\n",
       "      <td>no</td>\n",
       "      <td>2</td>\n",
       "      <td>right</td>\n",
       "      <td>no</td>\n",
       "    </tr>\n",
       "    <tr>\n",
       "      <th>4</th>\n",
       "      <td>no-recurrence-events</td>\n",
       "      <td>40-49</td>\n",
       "      <td>premeno</td>\n",
       "      <td>0-4</td>\n",
       "      <td>0-2</td>\n",
       "      <td>no</td>\n",
       "      <td>2</td>\n",
       "      <td>right</td>\n",
       "      <td>no</td>\n",
       "    </tr>\n",
       "  </tbody>\n",
       "</table>\n",
       "</div>"
      ],
      "text/plain": [
       "                  class    age menopause tumor-size inv-nodes node-caps  \\\n",
       "0  no-recurrence-events  30-39   premeno      30-34       0-2        no   \n",
       "1  no-recurrence-events  40-49   premeno      20-24       0-2        no   \n",
       "2  no-recurrence-events  40-49   premeno      20-24       0-2        no   \n",
       "3  no-recurrence-events  60-69      ge40      15-19       0-2        no   \n",
       "4  no-recurrence-events  40-49   premeno        0-4       0-2        no   \n",
       "\n",
       "  deg-malig breast irradiat  \n",
       "0         3   left       no  \n",
       "1         2  right       no  \n",
       "2         2   left       no  \n",
       "3         2  right       no  \n",
       "4         2  right       no  "
      ]
     },
     "execution_count": 4,
     "metadata": {},
     "output_type": "execute_result"
    }
   ],
   "source": [
    "dados2.head()"
   ]
  },
  {
   "cell_type": "markdown",
   "metadata": {},
   "source": [
    "# A única variável que é numérica está com o seu tipo alterado pois veio de um array numpy, irei consertar em seguida."
   ]
  },
  {
   "cell_type": "code",
   "execution_count": 5,
   "metadata": {},
   "outputs": [
    {
     "name": "stdout",
     "output_type": "stream",
     "text": [
      "<class 'pandas.core.frame.DataFrame'>\n",
      "RangeIndex: 286 entries, 0 to 285\n",
      "Data columns (total 9 columns):\n",
      "class         286 non-null object\n",
      "age           286 non-null object\n",
      "menopause     286 non-null object\n",
      "tumor-size    286 non-null object\n",
      "inv-nodes     286 non-null object\n",
      "node-caps     286 non-null object\n",
      "deg-malig     286 non-null object\n",
      "breast        286 non-null object\n",
      "irradiat      286 non-null object\n",
      "dtypes: object(9)\n",
      "memory usage: 20.2+ KB\n"
     ]
    }
   ],
   "source": [
    "dados2.info()"
   ]
  },
  {
   "cell_type": "code",
   "execution_count": 6,
   "metadata": {},
   "outputs": [],
   "source": [
    "#Ajeitando o tipo da variável deg-malig\n",
    "dados2[\"deg-malig\"]=np.array([int(i) for i in dados2[\"deg-malig\"]])"
   ]
  },
  {
   "cell_type": "code",
   "execution_count": 7,
   "metadata": {},
   "outputs": [
    {
     "name": "stdout",
     "output_type": "stream",
     "text": [
      "<class 'pandas.core.frame.DataFrame'>\n",
      "RangeIndex: 286 entries, 0 to 285\n",
      "Data columns (total 9 columns):\n",
      "class         286 non-null object\n",
      "age           286 non-null object\n",
      "menopause     286 non-null object\n",
      "tumor-size    286 non-null object\n",
      "inv-nodes     286 non-null object\n",
      "node-caps     286 non-null object\n",
      "deg-malig     286 non-null int32\n",
      "breast        286 non-null object\n",
      "irradiat      286 non-null object\n",
      "dtypes: int32(1), object(8)\n",
      "memory usage: 19.1+ KB\n"
     ]
    }
   ],
   "source": [
    "dados2.info()"
   ]
  },
  {
   "cell_type": "markdown",
   "metadata": {},
   "source": [
    "# Mudando as classes para 0 e 1."
   ]
  },
  {
   "cell_type": "code",
   "execution_count": 8,
   "metadata": {},
   "outputs": [],
   "source": [
    "dados2[\"Classe\"]=np.array([1 if i==\"no-recurrence-events\" else 0 for i in dados2[\"class\"]])"
   ]
  },
  {
   "cell_type": "markdown",
   "metadata": {},
   "source": [
    "# Usando a transformação OneHotEncoder para mudar as variáveis categóricas em numéricas, se baseia que em cada tipo único de cada variável fazer uma coluna de zeros e uns, 1 se o tipo único acontecer ou 0 caso contrário."
   ]
  },
  {
   "cell_type": "code",
   "execution_count": 9,
   "metadata": {},
   "outputs": [],
   "source": [
    "transformacao=OneHotEncoder(sparse=False)"
   ]
  },
  {
   "cell_type": "markdown",
   "metadata": {},
   "source": [
    "# Organizando os dados necessários para o Perceptron, em que a primeira coluna é o peso do bias."
   ]
  },
  {
   "cell_type": "code",
   "execution_count": 10,
   "metadata": {},
   "outputs": [],
   "source": [
    "dados2=np.column_stack((np.full(dados2.shape[0],-1),transformacao\n",
    ".fit_transform(dados2.loc[:,[\"age\",\"menopause\",\"tumor-size\",\"inv-nodes\"\n",
    ",\"node-caps\",\"breast\",\"irradiat\"]]),dados2[\"deg-malig\"],dados2[\"Classe\"]))"
   ]
  },
  {
   "cell_type": "code",
   "execution_count": 11,
   "metadata": {},
   "outputs": [],
   "source": [
    "x=dados2[:,:-1]\n",
    "y=dados2[:,-1]"
   ]
  },
  {
   "cell_type": "code",
   "execution_count": 25,
   "metadata": {},
   "outputs": [],
   "source": [
    "class MultiLayerPerceptronBackPropagation():\n",
    "    def __init__(self,epocas,alpha,neuronios_por_camada):\n",
    "        #Número de épocas\n",
    "        self.epocas=epocas\n",
    "        #Taxa de aprendizagem\n",
    "        self.alpha=alpha\n",
    "        #Array da quantidade de neuronios por camada\n",
    "        self.neuronios_por_camada=neuronios_por_camada\n",
    "    \n",
    "    def fit(self,xtreino,ytreino):\n",
    "        quantidade_de_pesos=np.concatenate((xtreino.shape[1],self.neuronios_por_camada)\n",
    "        ,axis=None)  \n",
    "        #Inicialização dos pesos aleatoriamente\n",
    "        self.pesos=np.array([np.random.normal(size=(i,j)) for i,j in np.column_stack((\n",
    "                            quantidade_de_pesos[:-1],quantidade_de_pesos[1:]))])\n",
    "        #Pondo o bias corretamente em todas camada oculta.\n",
    "        self.pesos=np.array([np.row_stack((self.pesos[i],np.repeat(\n",
    "        -np.random.normal(size=1),repeats=self.pesos[i].shape[1])))\n",
    "        if i!=0 else self.pesos[i] for i in range(self.pesos.shape[0])])\n",
    "        for e in range(self.epocas):\n",
    "            previsoes=[]\n",
    "            for j in range(xtreino.shape[0]):\n",
    "                            for i in range(self.neuronios_por_camada.shape[0]):\n",
    "                                if i==0:\n",
    "                                    #Camada de entrada para a camada oculta\n",
    "                                    entrada=np.concatenate((np.array([xtreino[j,:]\n",
    "                                    .dot(self.pesos[i])]),1),axis=None)\n",
    "                                    entrada2=MultiLayerPerceptronBackPropagation(self.epocas,self.alpha\n",
    "                                                            ,self.neuronios_por_camada).sigmoide(entrada)\n",
    "                                else: \n",
    "                                    #Camada oculta para a saída\n",
    "                                    ycalculado=entrada2.dot(self.pesos[i])\n",
    "                                    yestimado=MultiLayerPerceptronBackPropagation(self.epocas,self.alpha\n",
    "                                                                ,self.neuronios_por_camada).sigmoide(ycalculado)\n",
    "                                    previsoes.append(np.round(yestimado)[0])\n",
    "                            #Atualização dos pesos\n",
    "                            for w in range(len(self.pesos[1])):\n",
    "                                self.pesos[1][w]=self.pesos[1][w]+self.alpha*entrada2[w]*((ytreino[j]\n",
    "                                -MultiLayerPerceptronBackPropagation(self.epocas,self.alpha,self.neuronios_por_camada)\n",
    "                                .sigmoide(ycalculado))*MultiLayerPerceptronBackPropagation(self.epocas,self.alpha\n",
    "                                                ,self.neuronios_por_camada).dsigmoide(ycalculado))\n",
    "                            for a in range(self.pesos[0].shape[0]):\n",
    "                                for b in range(self.pesos[0].shape[1]):\n",
    "                                    self.pesos[0][a,b]=(self.pesos[0][a,b]+\n",
    "                            self.alpha*MultiLayerPerceptronBackPropagation(self.epocas,self.alpha\n",
    "                            ,self.neuronios_por_camada).dsigmoide(entrada[b])\n",
    "                            *((ytreino[j]-yestimado)*MultiLayerPerceptronBackPropagation(self.epocas,self.alpha\n",
    "                            ,self.neuronios_por_camada).dsigmoide(ycalculado)*self.pesos[1][b]*xtreino[j,a]))       \n",
    "            print(\"Função custo é: \",np.sum((ytreino-previsoes)**2),\"na\",e+1,\"época\")\n",
    "            \n",
    "    def predict(self,xteste):\n",
    "        #Com os pesos já passados pelo backpropagaion, agora só resta a previsões dos dados de teste.\n",
    "        previsoes=[]    \n",
    "        for j in range(xteste.shape[0]):   \n",
    "            for i in range(self.neuronios_por_camada.shape[0]):\n",
    "                if i==0:\n",
    "                    entrada=np.concatenate((np.array([xteste[j,:]\n",
    "                    .dot(self.pesos[i])]),1),axis=None)\n",
    "                    entrada2=MultiLayerPerceptronBackPropagation(self.epocas,self.alpha,self.neuronios_por_camada)\n",
    "                    .sigmoide(entrada)\n",
    "                else: \n",
    "                    ycalculado=entrada2.dot(self.pesos[i])\n",
    "                    yestimado=MultiLayerPerceptronBackPropagation(self.epocas,self.alpha,self.neuronios_por_camada)\n",
    "                    .sigmoide(ycalculado)\n",
    "                    previsoes.append(np.round(yestimado)[0])\n",
    "        return(np.array(previsoes))\n",
    "                    \n",
    "    def acuracia(self,a,b):\n",
    "        cont=0\n",
    "        for i in range(len(b)):\n",
    "            if a[i]==b[i]:\n",
    "                cont+=1\n",
    "        return(np.array([np.round(cont/len(b),3)])[0])\n",
    "    #Função sigmoide\n",
    "    def sigmoide(self,x):\n",
    "        return(1/(1+np.exp(-x)))\n",
    "    #Derivada da função sigmoide. \n",
    "    def dsigmoide(self,x):\n",
    "        return(np.exp(-x)/(1+np.exp(-x))**2)  "
   ]
  },
  {
   "cell_type": "markdown",
   "metadata": {},
   "source": [
    "# Partição dos dados em treino e teste estratificado pelas Classes."
   ]
  },
  {
   "cell_type": "code",
   "execution_count": 35,
   "metadata": {},
   "outputs": [],
   "source": [
    "xtreino,xteste,ytreino,yteste=train_test_split(x,y,test_size=0.3,stratify=y)"
   ]
  },
  {
   "cell_type": "markdown",
   "metadata": {},
   "source": [
    "# Exemplos de modelos "
   ]
  },
  {
   "cell_type": "markdown",
   "metadata": {},
   "source": [
    "# Exemplo 1, rede com camada oculta de 4 neurônios, com 30 épocas e taxa de aprendizagem de 0.01"
   ]
  },
  {
   "cell_type": "code",
   "execution_count": 36,
   "metadata": {},
   "outputs": [],
   "source": [
    "modelo=MultiLayerPerceptronBackPropagation(30,0.01,np.array([4,1]))"
   ]
  },
  {
   "cell_type": "code",
   "execution_count": 37,
   "metadata": {},
   "outputs": [
    {
     "name": "stdout",
     "output_type": "stream",
     "text": [
      "Função custo é:  132.0 na 1 época\n",
      "Função custo é:  102.0 na 2 época\n",
      "Função custo é:  83.0 na 3 época\n",
      "Função custo é:  59.0 na 4 época\n",
      "Função custo é:  48.0 na 5 época\n",
      "Função custo é:  54.0 na 6 época\n",
      "Função custo é:  53.0 na 7 época\n",
      "Função custo é:  55.0 na 8 época\n",
      "Função custo é:  57.0 na 9 época\n",
      "Função custo é:  56.0 na 10 época\n",
      "Função custo é:  56.0 na 11 época\n",
      "Função custo é:  56.0 na 12 época\n",
      "Função custo é:  55.0 na 13 época\n",
      "Função custo é:  55.0 na 14 época\n",
      "Função custo é:  55.0 na 15 época\n",
      "Função custo é:  54.0 na 16 época\n",
      "Função custo é:  55.0 na 17 época\n",
      "Função custo é:  54.0 na 18 época\n",
      "Função custo é:  54.0 na 19 época\n",
      "Função custo é:  55.0 na 20 época\n",
      "Função custo é:  55.0 na 21 época\n",
      "Função custo é:  55.0 na 22 época\n",
      "Função custo é:  54.0 na 23 época\n",
      "Função custo é:  54.0 na 24 época\n",
      "Função custo é:  54.0 na 25 época\n",
      "Função custo é:  54.0 na 26 época\n",
      "Função custo é:  54.0 na 27 época\n",
      "Função custo é:  54.0 na 28 época\n",
      "Função custo é:  54.0 na 29 época\n",
      "Função custo é:  54.0 na 30 época\n"
     ]
    }
   ],
   "source": [
    "modelo.fit(xtreino,ytreino)"
   ]
  },
  {
   "cell_type": "code",
   "execution_count": 38,
   "metadata": {},
   "outputs": [
    {
     "data": {
      "text/plain": [
       "array([1., 1., 0., 1., 1., 1., 1., 1., 1., 1., 1., 1., 1., 0., 1., 1., 1.,\n",
       "       1., 1., 1., 1., 1., 1., 1., 1., 1., 1., 1., 1., 1., 1., 1., 0., 1.,\n",
       "       1., 0., 0., 1., 1., 1., 1., 1., 1., 1., 1., 1., 1., 1., 1., 1., 1.,\n",
       "       1., 1., 1., 1., 1., 1., 1., 1., 0., 0., 1., 1., 1., 1., 1., 1., 0.,\n",
       "       0., 1., 1., 1., 1., 1., 1., 1., 1., 1., 1., 1., 1., 1., 1., 1., 0.,\n",
       "       1.])"
      ]
     },
     "execution_count": 38,
     "metadata": {},
     "output_type": "execute_result"
    }
   ],
   "source": [
    "modelo.predict(xteste)"
   ]
  },
  {
   "cell_type": "code",
   "execution_count": 39,
   "metadata": {},
   "outputs": [
    {
     "data": {
      "text/plain": [
       "0.651"
      ]
     },
     "execution_count": 39,
     "metadata": {},
     "output_type": "execute_result"
    }
   ],
   "source": [
    "modelo.acuracia(yteste,modelo.predict(xteste))"
   ]
  },
  {
   "cell_type": "markdown",
   "metadata": {},
   "source": [
    "# Exemplo 2, rede com camada oculta de 3 neurônios com 100 épocas e taxa de aprendizagem de 0.001"
   ]
  },
  {
   "cell_type": "code",
   "execution_count": 40,
   "metadata": {},
   "outputs": [],
   "source": [
    "modelo=MultiLayerPerceptronBackPropagation(100,0.001,np.array([3,1]))"
   ]
  },
  {
   "cell_type": "code",
   "execution_count": 41,
   "metadata": {},
   "outputs": [
    {
     "name": "stdout",
     "output_type": "stream",
     "text": [
      "Função custo é:  141.0 na 1 época\n",
      "Função custo é:  141.0 na 2 época\n",
      "Função custo é:  141.0 na 3 época\n",
      "Função custo é:  141.0 na 4 época\n",
      "Função custo é:  141.0 na 5 época\n",
      "Função custo é:  141.0 na 6 época\n",
      "Função custo é:  141.0 na 7 época\n",
      "Função custo é:  141.0 na 8 época\n",
      "Função custo é:  141.0 na 9 época\n",
      "Função custo é:  141.0 na 10 época\n",
      "Função custo é:  141.0 na 11 época\n",
      "Função custo é:  141.0 na 12 época\n",
      "Função custo é:  141.0 na 13 época\n",
      "Função custo é:  141.0 na 14 época\n",
      "Função custo é:  141.0 na 15 época\n",
      "Função custo é:  141.0 na 16 época\n",
      "Função custo é:  141.0 na 17 época\n",
      "Função custo é:  141.0 na 18 época\n",
      "Função custo é:  141.0 na 19 época\n",
      "Função custo é:  141.0 na 20 época\n",
      "Função custo é:  141.0 na 21 época\n",
      "Função custo é:  141.0 na 22 época\n",
      "Função custo é:  141.0 na 23 época\n",
      "Função custo é:  141.0 na 24 época\n",
      "Função custo é:  141.0 na 25 época\n",
      "Função custo é:  141.0 na 26 época\n",
      "Função custo é:  141.0 na 27 época\n",
      "Função custo é:  141.0 na 28 época\n",
      "Função custo é:  141.0 na 29 época\n",
      "Função custo é:  141.0 na 30 época\n",
      "Função custo é:  141.0 na 31 época\n",
      "Função custo é:  141.0 na 32 época\n",
      "Função custo é:  141.0 na 33 época\n",
      "Função custo é:  141.0 na 34 época\n",
      "Função custo é:  141.0 na 35 época\n",
      "Função custo é:  141.0 na 36 época\n",
      "Função custo é:  141.0 na 37 época\n",
      "Função custo é:  141.0 na 38 época\n",
      "Função custo é:  141.0 na 39 época\n",
      "Função custo é:  141.0 na 40 época\n",
      "Função custo é:  141.0 na 41 época\n",
      "Função custo é:  141.0 na 42 época\n",
      "Função custo é:  141.0 na 43 época\n",
      "Função custo é:  141.0 na 44 época\n",
      "Função custo é:  141.0 na 45 época\n",
      "Função custo é:  141.0 na 46 época\n",
      "Função custo é:  141.0 na 47 época\n",
      "Função custo é:  141.0 na 48 época\n",
      "Função custo é:  141.0 na 49 época\n",
      "Função custo é:  141.0 na 50 época\n",
      "Função custo é:  141.0 na 51 época\n",
      "Função custo é:  140.0 na 52 época\n",
      "Função custo é:  140.0 na 53 época\n",
      "Função custo é:  140.0 na 54 época\n",
      "Função custo é:  140.0 na 55 época\n",
      "Função custo é:  140.0 na 56 época\n",
      "Função custo é:  140.0 na 57 época\n",
      "Função custo é:  140.0 na 58 época\n",
      "Função custo é:  140.0 na 59 época\n",
      "Função custo é:  140.0 na 60 época\n",
      "Função custo é:  140.0 na 61 época\n",
      "Função custo é:  140.0 na 62 época\n",
      "Função custo é:  140.0 na 63 época\n",
      "Função custo é:  140.0 na 64 época\n",
      "Função custo é:  140.0 na 65 época\n",
      "Função custo é:  139.0 na 66 época\n",
      "Função custo é:  139.0 na 67 época\n",
      "Função custo é:  139.0 na 68 época\n",
      "Função custo é:  138.0 na 69 época\n",
      "Função custo é:  136.0 na 70 época\n",
      "Função custo é:  135.0 na 71 época\n",
      "Função custo é:  135.0 na 72 época\n",
      "Função custo é:  132.0 na 73 época\n",
      "Função custo é:  135.0 na 74 época\n",
      "Função custo é:  134.0 na 75 época\n",
      "Função custo é:  133.0 na 76 época\n",
      "Função custo é:  133.0 na 77 época\n",
      "Função custo é:  131.0 na 78 época\n",
      "Função custo é:  130.0 na 79 época\n",
      "Função custo é:  128.0 na 80 época\n",
      "Função custo é:  124.0 na 81 época\n",
      "Função custo é:  123.0 na 82 época\n",
      "Função custo é:  123.0 na 83 época\n",
      "Função custo é:  120.0 na 84 época\n",
      "Função custo é:  117.0 na 85 época\n",
      "Função custo é:  111.0 na 86 época\n",
      "Função custo é:  110.0 na 87 época\n",
      "Função custo é:  104.0 na 88 época\n",
      "Função custo é:  103.0 na 89 época\n",
      "Função custo é:  97.0 na 90 época\n",
      "Função custo é:  96.0 na 91 época\n",
      "Função custo é:  94.0 na 92 época\n",
      "Função custo é:  92.0 na 93 época\n",
      "Função custo é:  87.0 na 94 época\n",
      "Função custo é:  83.0 na 95 época\n",
      "Função custo é:  79.0 na 96 época\n",
      "Função custo é:  79.0 na 97 época\n",
      "Função custo é:  77.0 na 98 época\n",
      "Função custo é:  78.0 na 99 época\n",
      "Função custo é:  76.0 na 100 época\n"
     ]
    }
   ],
   "source": [
    "modelo.fit(xtreino,ytreino)"
   ]
  },
  {
   "cell_type": "code",
   "execution_count": 42,
   "metadata": {},
   "outputs": [
    {
     "data": {
      "text/plain": [
       "array([1., 1., 1., 0., 1., 1., 1., 1., 1., 0., 1., 1., 1., 0., 1., 0., 1.,\n",
       "       0., 1., 0., 1., 0., 0., 1., 0., 1., 0., 1., 1., 1., 1., 1., 0., 1.,\n",
       "       1., 0., 1., 1., 1., 1., 0., 1., 1., 1., 1., 1., 1., 1., 0., 0., 0.,\n",
       "       1., 1., 0., 1., 0., 1., 1., 0., 0., 0., 1., 1., 1., 0., 1., 1., 0.,\n",
       "       0., 1., 1., 1., 1., 1., 1., 0., 1., 0., 1., 1., 1., 1., 1., 1., 1.,\n",
       "       0.])"
      ]
     },
     "execution_count": 42,
     "metadata": {},
     "output_type": "execute_result"
    }
   ],
   "source": [
    "modelo.predict(xteste)"
   ]
  },
  {
   "cell_type": "code",
   "execution_count": 43,
   "metadata": {},
   "outputs": [
    {
     "data": {
      "text/plain": [
       "0.663"
      ]
     },
     "execution_count": 43,
     "metadata": {},
     "output_type": "execute_result"
    }
   ],
   "source": [
    "modelo.acuracia(yteste,modelo.predict(xteste))"
   ]
  },
  {
   "cell_type": "markdown",
   "metadata": {},
   "source": [
    "# Exemplo 3, rede com camada oculta de 5 neurônios com 200 épocas e taxa de aprendizagem de 0.001"
   ]
  },
  {
   "cell_type": "code",
   "execution_count": 44,
   "metadata": {},
   "outputs": [],
   "source": [
    "modelo=MultiLayerPerceptronBackPropagation(200,0.001,np.array([5,1]))"
   ]
  },
  {
   "cell_type": "code",
   "execution_count": 45,
   "metadata": {},
   "outputs": [
    {
     "name": "stdout",
     "output_type": "stream",
     "text": [
      "Função custo é:  111.0 na 1 época\n",
      "Função custo é:  106.0 na 2 época\n",
      "Função custo é:  105.0 na 3 época\n",
      "Função custo é:  106.0 na 4 época\n",
      "Função custo é:  106.0 na 5 época\n",
      "Função custo é:  105.0 na 6 época\n",
      "Função custo é:  102.0 na 7 época\n",
      "Função custo é:  99.0 na 8 época\n",
      "Função custo é:  98.0 na 9 época\n",
      "Função custo é:  97.0 na 10 época\n",
      "Função custo é:  94.0 na 11 época\n",
      "Função custo é:  91.0 na 12 época\n",
      "Função custo é:  91.0 na 13 época\n",
      "Função custo é:  89.0 na 14 época\n",
      "Função custo é:  87.0 na 15 época\n",
      "Função custo é:  87.0 na 16 época\n",
      "Função custo é:  88.0 na 17 época\n",
      "Função custo é:  86.0 na 18 época\n",
      "Função custo é:  86.0 na 19 época\n",
      "Função custo é:  81.0 na 20 época\n",
      "Função custo é:  81.0 na 21 época\n",
      "Função custo é:  81.0 na 22 época\n",
      "Função custo é:  79.0 na 23 época\n",
      "Função custo é:  77.0 na 24 época\n",
      "Função custo é:  79.0 na 25 época\n",
      "Função custo é:  78.0 na 26 época\n",
      "Função custo é:  76.0 na 27 época\n",
      "Função custo é:  74.0 na 28 época\n",
      "Função custo é:  69.0 na 29 época\n",
      "Função custo é:  70.0 na 30 época\n",
      "Função custo é:  67.0 na 31 época\n",
      "Função custo é:  66.0 na 32 época\n",
      "Função custo é:  68.0 na 33 época\n",
      "Função custo é:  67.0 na 34 época\n",
      "Função custo é:  64.0 na 35 época\n",
      "Função custo é:  64.0 na 36 época\n",
      "Função custo é:  63.0 na 37 época\n",
      "Função custo é:  63.0 na 38 época\n",
      "Função custo é:  61.0 na 39 época\n",
      "Função custo é:  59.0 na 40 época\n",
      "Função custo é:  60.0 na 41 época\n",
      "Função custo é:  61.0 na 42 época\n",
      "Função custo é:  57.0 na 43 época\n",
      "Função custo é:  57.0 na 44 época\n",
      "Função custo é:  57.0 na 45 época\n",
      "Função custo é:  57.0 na 46 época\n",
      "Função custo é:  56.0 na 47 época\n",
      "Função custo é:  57.0 na 48 época\n",
      "Função custo é:  57.0 na 49 época\n",
      "Função custo é:  57.0 na 50 época\n",
      "Função custo é:  55.0 na 51 época\n",
      "Função custo é:  54.0 na 52 época\n",
      "Função custo é:  54.0 na 53 época\n",
      "Função custo é:  55.0 na 54 época\n",
      "Função custo é:  55.0 na 55 época\n",
      "Função custo é:  54.0 na 56 época\n",
      "Função custo é:  55.0 na 57 época\n",
      "Função custo é:  55.0 na 58 época\n",
      "Função custo é:  55.0 na 59 época\n",
      "Função custo é:  55.0 na 60 época\n",
      "Função custo é:  54.0 na 61 época\n",
      "Função custo é:  53.0 na 62 época\n",
      "Função custo é:  53.0 na 63 época\n",
      "Função custo é:  53.0 na 64 época\n",
      "Função custo é:  53.0 na 65 época\n",
      "Função custo é:  53.0 na 66 época\n",
      "Função custo é:  53.0 na 67 época\n",
      "Função custo é:  53.0 na 68 época\n",
      "Função custo é:  53.0 na 69 época\n",
      "Função custo é:  53.0 na 70 época\n",
      "Função custo é:  52.0 na 71 época\n",
      "Função custo é:  50.0 na 72 época\n",
      "Função custo é:  51.0 na 73 época\n",
      "Função custo é:  52.0 na 74 época\n",
      "Função custo é:  52.0 na 75 época\n",
      "Função custo é:  52.0 na 76 época\n",
      "Função custo é:  52.0 na 77 época\n",
      "Função custo é:  54.0 na 78 época\n",
      "Função custo é:  54.0 na 79 época\n",
      "Função custo é:  54.0 na 80 época\n",
      "Função custo é:  54.0 na 81 época\n",
      "Função custo é:  54.0 na 82 época\n",
      "Função custo é:  55.0 na 83 época\n",
      "Função custo é:  55.0 na 84 época\n",
      "Função custo é:  55.0 na 85 época\n",
      "Função custo é:  55.0 na 86 época\n",
      "Função custo é:  55.0 na 87 época\n",
      "Função custo é:  55.0 na 88 época\n",
      "Função custo é:  55.0 na 89 época\n",
      "Função custo é:  55.0 na 90 época\n",
      "Função custo é:  55.0 na 91 época\n",
      "Função custo é:  55.0 na 92 época\n",
      "Função custo é:  55.0 na 93 época\n",
      "Função custo é:  55.0 na 94 época\n",
      "Função custo é:  54.0 na 95 época\n",
      "Função custo é:  55.0 na 96 época\n",
      "Função custo é:  55.0 na 97 época\n",
      "Função custo é:  55.0 na 98 época\n",
      "Função custo é:  55.0 na 99 época\n",
      "Função custo é:  55.0 na 100 época\n",
      "Função custo é:  55.0 na 101 época\n",
      "Função custo é:  55.0 na 102 época\n",
      "Função custo é:  55.0 na 103 época\n",
      "Função custo é:  55.0 na 104 época\n",
      "Função custo é:  55.0 na 105 época\n",
      "Função custo é:  55.0 na 106 época\n",
      "Função custo é:  55.0 na 107 época\n",
      "Função custo é:  55.0 na 108 época\n",
      "Função custo é:  55.0 na 109 época\n",
      "Função custo é:  55.0 na 110 época\n",
      "Função custo é:  55.0 na 111 época\n",
      "Função custo é:  56.0 na 112 época\n",
      "Função custo é:  56.0 na 113 época\n",
      "Função custo é:  56.0 na 114 época\n",
      "Função custo é:  55.0 na 115 época\n",
      "Função custo é:  55.0 na 116 época\n",
      "Função custo é:  55.0 na 117 época\n",
      "Função custo é:  55.0 na 118 época\n",
      "Função custo é:  55.0 na 119 época\n",
      "Função custo é:  55.0 na 120 época\n",
      "Função custo é:  54.0 na 121 época\n",
      "Função custo é:  54.0 na 122 época\n",
      "Função custo é:  54.0 na 123 época\n",
      "Função custo é:  54.0 na 124 época\n",
      "Função custo é:  54.0 na 125 época\n",
      "Função custo é:  54.0 na 126 época\n",
      "Função custo é:  54.0 na 127 época\n",
      "Função custo é:  54.0 na 128 época\n",
      "Função custo é:  54.0 na 129 época\n",
      "Função custo é:  54.0 na 130 época\n",
      "Função custo é:  54.0 na 131 época\n",
      "Função custo é:  54.0 na 132 época\n",
      "Função custo é:  54.0 na 133 época\n",
      "Função custo é:  54.0 na 134 época\n",
      "Função custo é:  54.0 na 135 época\n",
      "Função custo é:  54.0 na 136 época\n",
      "Função custo é:  54.0 na 137 época\n",
      "Função custo é:  54.0 na 138 época\n",
      "Função custo é:  54.0 na 139 época\n",
      "Função custo é:  54.0 na 140 época\n",
      "Função custo é:  54.0 na 141 época\n",
      "Função custo é:  54.0 na 142 época\n",
      "Função custo é:  54.0 na 143 época\n",
      "Função custo é:  54.0 na 144 época\n",
      "Função custo é:  54.0 na 145 época\n",
      "Função custo é:  54.0 na 146 época\n",
      "Função custo é:  54.0 na 147 época\n",
      "Função custo é:  54.0 na 148 época\n",
      "Função custo é:  54.0 na 149 época\n",
      "Função custo é:  54.0 na 150 época\n",
      "Função custo é:  54.0 na 151 época\n",
      "Função custo é:  54.0 na 152 época\n",
      "Função custo é:  54.0 na 153 época\n",
      "Função custo é:  54.0 na 154 época\n",
      "Função custo é:  54.0 na 155 época\n",
      "Função custo é:  54.0 na 156 época\n",
      "Função custo é:  54.0 na 157 época\n",
      "Função custo é:  54.0 na 158 época\n",
      "Função custo é:  54.0 na 159 época\n",
      "Função custo é:  54.0 na 160 época\n",
      "Função custo é:  54.0 na 161 época\n",
      "Função custo é:  54.0 na 162 época\n",
      "Função custo é:  54.0 na 163 época\n",
      "Função custo é:  54.0 na 164 época\n",
      "Função custo é:  54.0 na 165 época\n",
      "Função custo é:  54.0 na 166 época\n",
      "Função custo é:  54.0 na 167 época\n",
      "Função custo é:  54.0 na 168 época\n",
      "Função custo é:  54.0 na 169 época\n",
      "Função custo é:  54.0 na 170 época\n",
      "Função custo é:  54.0 na 171 época\n",
      "Função custo é:  54.0 na 172 época\n",
      "Função custo é:  54.0 na 173 época\n",
      "Função custo é:  54.0 na 174 época\n",
      "Função custo é:  54.0 na 175 época\n",
      "Função custo é:  54.0 na 176 época\n",
      "Função custo é:  54.0 na 177 época\n",
      "Função custo é:  54.0 na 178 época\n",
      "Função custo é:  54.0 na 179 época\n",
      "Função custo é:  54.0 na 180 época\n",
      "Função custo é:  54.0 na 181 época\n",
      "Função custo é:  54.0 na 182 época\n",
      "Função custo é:  54.0 na 183 época\n",
      "Função custo é:  54.0 na 184 época\n",
      "Função custo é:  54.0 na 185 época\n",
      "Função custo é:  54.0 na 186 época\n",
      "Função custo é:  54.0 na 187 época\n",
      "Função custo é:  54.0 na 188 época\n",
      "Função custo é:  54.0 na 189 época\n",
      "Função custo é:  54.0 na 190 época\n",
      "Função custo é:  54.0 na 191 época\n",
      "Função custo é:  54.0 na 192 época\n",
      "Função custo é:  54.0 na 193 época\n",
      "Função custo é:  54.0 na 194 época\n",
      "Função custo é:  54.0 na 195 época\n",
      "Função custo é:  54.0 na 196 época\n",
      "Função custo é:  54.0 na 197 época\n",
      "Função custo é:  54.0 na 198 época\n",
      "Função custo é:  54.0 na 199 época\n",
      "Função custo é:  54.0 na 200 época\n"
     ]
    }
   ],
   "source": [
    "modelo.fit(xtreino,ytreino)"
   ]
  },
  {
   "cell_type": "code",
   "execution_count": 46,
   "metadata": {},
   "outputs": [
    {
     "data": {
      "text/plain": [
       "array([1., 1., 1., 1., 1., 1., 1., 1., 1., 1., 1., 1., 1., 1., 1., 1., 1.,\n",
       "       1., 1., 1., 1., 1., 1., 1., 1., 1., 0., 1., 1., 1., 1., 1., 1., 1.,\n",
       "       1., 1., 0., 1., 1., 1., 1., 1., 1., 1., 1., 1., 1., 1., 1., 1., 1.,\n",
       "       1., 1., 1., 1., 1., 1., 1., 1., 1., 1., 1., 1., 1., 1., 1., 1., 0.,\n",
       "       1., 1., 1., 1., 1., 1., 1., 1., 1., 1., 1., 1., 1., 1., 1., 1., 1.,\n",
       "       1.])"
      ]
     },
     "execution_count": 46,
     "metadata": {},
     "output_type": "execute_result"
    }
   ],
   "source": [
    "modelo.predict(xteste)"
   ]
  },
  {
   "cell_type": "code",
   "execution_count": 47,
   "metadata": {},
   "outputs": [
    {
     "data": {
      "text/plain": [
       "0.686"
      ]
     },
     "execution_count": 47,
     "metadata": {},
     "output_type": "execute_result"
    }
   ],
   "source": [
    "modelo.acuracia(yteste,modelo.predict(xteste))"
   ]
  },
  {
   "cell_type": "markdown",
   "metadata": {},
   "source": [
    "# Exemplo 4, rede com camada oculta de 3 neurônios com 30 épocas e taxa de aprendizagem de 0.1"
   ]
  },
  {
   "cell_type": "code",
   "execution_count": 55,
   "metadata": {},
   "outputs": [],
   "source": [
    "modelo=MultiLayerPerceptronBackPropagation(30,0.1,np.array([3,1]))"
   ]
  },
  {
   "cell_type": "code",
   "execution_count": 56,
   "metadata": {},
   "outputs": [
    {
     "name": "stdout",
     "output_type": "stream",
     "text": [
      "Função custo é:  136.0 na 1 época\n",
      "Função custo é:  60.0 na 2 época\n",
      "Função custo é:  58.0 na 3 época\n",
      "Função custo é:  57.0 na 4 época\n",
      "Função custo é:  58.0 na 5 época\n",
      "Função custo é:  57.0 na 6 época\n",
      "Função custo é:  56.0 na 7 época\n",
      "Função custo é:  56.0 na 8 época\n",
      "Função custo é:  55.0 na 9 época\n",
      "Função custo é:  54.0 na 10 época\n",
      "Função custo é:  55.0 na 11 época\n",
      "Função custo é:  56.0 na 12 época\n",
      "Função custo é:  56.0 na 13 época\n",
      "Função custo é:  57.0 na 14 época\n",
      "Função custo é:  58.0 na 15 época\n",
      "Função custo é:  57.0 na 16 época\n",
      "Função custo é:  56.0 na 17 época\n",
      "Função custo é:  54.0 na 18 época\n",
      "Função custo é:  54.0 na 19 época\n",
      "Função custo é:  53.0 na 20 época\n",
      "Função custo é:  52.0 na 21 época\n",
      "Função custo é:  47.0 na 22 época\n",
      "Função custo é:  46.0 na 23 época\n",
      "Função custo é:  46.0 na 24 época\n",
      "Função custo é:  44.0 na 25 época\n",
      "Função custo é:  43.0 na 26 época\n",
      "Função custo é:  43.0 na 27 época\n",
      "Função custo é:  43.0 na 28 época\n",
      "Função custo é:  42.0 na 29 época\n",
      "Função custo é:  41.0 na 30 época\n"
     ]
    }
   ],
   "source": [
    "modelo.fit(xtreino,ytreino)"
   ]
  },
  {
   "cell_type": "code",
   "execution_count": 57,
   "metadata": {},
   "outputs": [
    {
     "data": {
      "text/plain": [
       "array([1., 1., 0., 0., 1., 1., 1., 1., 1., 1., 0., 1., 1., 0., 1., 1., 1.,\n",
       "       1., 1., 1., 1., 1., 1., 1., 1., 1., 0., 1., 1., 1., 1., 1., 0., 1.,\n",
       "       1., 1., 0., 1., 1., 1., 1., 1., 1., 1., 1., 1., 1., 1., 1., 1., 1.,\n",
       "       1., 1., 1., 1., 1., 1., 1., 1., 1., 0., 1., 1., 1., 1., 1., 1., 0.,\n",
       "       0., 1., 1., 1., 1., 1., 1., 1., 1., 1., 1., 1., 1., 1., 1., 1., 0.,\n",
       "       1.])"
      ]
     },
     "execution_count": 57,
     "metadata": {},
     "output_type": "execute_result"
    }
   ],
   "source": [
    "modelo.predict(xteste)"
   ]
  },
  {
   "cell_type": "code",
   "execution_count": 58,
   "metadata": {},
   "outputs": [
    {
     "data": {
      "text/plain": [
       "0.663"
      ]
     },
     "execution_count": 58,
     "metadata": {},
     "output_type": "execute_result"
    }
   ],
   "source": [
    "modelo.acuracia(yteste,modelo.predict(xteste))"
   ]
  },
  {
   "cell_type": "markdown",
   "metadata": {},
   "source": [
    "# Exemplo 5, rede com 150 épocas, taxa de aprendizagem 0.01 e 4 neurônios na camada oculta."
   ]
  },
  {
   "cell_type": "code",
   "execution_count": 72,
   "metadata": {},
   "outputs": [],
   "source": [
    "modelo=MultiLayerPerceptronBackPropagation(150,0.01,np.array([3,1]))"
   ]
  },
  {
   "cell_type": "code",
   "execution_count": 73,
   "metadata": {},
   "outputs": [
    {
     "name": "stdout",
     "output_type": "stream",
     "text": [
      "Função custo é:  141.0 na 1 época\n",
      "Função custo é:  142.0 na 2 época\n",
      "Função custo é:  137.0 na 3 época\n",
      "Função custo é:  87.0 na 4 época\n",
      "Função custo é:  59.0 na 5 época\n",
      "Função custo é:  59.0 na 6 época\n",
      "Função custo é:  59.0 na 7 época\n",
      "Função custo é:  59.0 na 8 época\n",
      "Função custo é:  59.0 na 9 época\n",
      "Função custo é:  59.0 na 10 época\n",
      "Função custo é:  59.0 na 11 época\n",
      "Função custo é:  59.0 na 12 época\n",
      "Função custo é:  59.0 na 13 época\n",
      "Função custo é:  59.0 na 14 época\n",
      "Função custo é:  59.0 na 15 época\n",
      "Função custo é:  59.0 na 16 época\n",
      "Função custo é:  59.0 na 17 época\n",
      "Função custo é:  59.0 na 18 época\n",
      "Função custo é:  59.0 na 19 época\n",
      "Função custo é:  59.0 na 20 época\n",
      "Função custo é:  59.0 na 21 época\n",
      "Função custo é:  59.0 na 22 época\n",
      "Função custo é:  59.0 na 23 época\n",
      "Função custo é:  59.0 na 24 época\n",
      "Função custo é:  59.0 na 25 época\n",
      "Função custo é:  59.0 na 26 época\n",
      "Função custo é:  59.0 na 27 época\n",
      "Função custo é:  59.0 na 28 época\n",
      "Função custo é:  59.0 na 29 época\n",
      "Função custo é:  59.0 na 30 época\n",
      "Função custo é:  59.0 na 31 época\n",
      "Função custo é:  59.0 na 32 época\n",
      "Função custo é:  59.0 na 33 época\n",
      "Função custo é:  59.0 na 34 época\n",
      "Função custo é:  59.0 na 35 época\n",
      "Função custo é:  59.0 na 36 época\n",
      "Função custo é:  59.0 na 37 época\n",
      "Função custo é:  59.0 na 38 época\n",
      "Função custo é:  59.0 na 39 época\n",
      "Função custo é:  59.0 na 40 época\n",
      "Função custo é:  59.0 na 41 época\n",
      "Função custo é:  59.0 na 42 época\n",
      "Função custo é:  59.0 na 43 época\n",
      "Função custo é:  59.0 na 44 época\n",
      "Função custo é:  59.0 na 45 época\n",
      "Função custo é:  59.0 na 46 época\n",
      "Função custo é:  59.0 na 47 época\n",
      "Função custo é:  59.0 na 48 época\n",
      "Função custo é:  59.0 na 49 época\n",
      "Função custo é:  59.0 na 50 época\n",
      "Função custo é:  59.0 na 51 época\n",
      "Função custo é:  59.0 na 52 época\n",
      "Função custo é:  59.0 na 53 época\n",
      "Função custo é:  59.0 na 54 época\n",
      "Função custo é:  59.0 na 55 época\n",
      "Função custo é:  59.0 na 56 época\n",
      "Função custo é:  59.0 na 57 época\n",
      "Função custo é:  59.0 na 58 época\n",
      "Função custo é:  59.0 na 59 época\n",
      "Função custo é:  59.0 na 60 época\n",
      "Função custo é:  59.0 na 61 época\n",
      "Função custo é:  59.0 na 62 época\n",
      "Função custo é:  59.0 na 63 época\n",
      "Função custo é:  59.0 na 64 época\n",
      "Função custo é:  59.0 na 65 época\n",
      "Função custo é:  59.0 na 66 época\n",
      "Função custo é:  59.0 na 67 época\n",
      "Função custo é:  59.0 na 68 época\n",
      "Função custo é:  59.0 na 69 época\n",
      "Função custo é:  59.0 na 70 época\n",
      "Função custo é:  59.0 na 71 época\n",
      "Função custo é:  59.0 na 72 época\n",
      "Função custo é:  59.0 na 73 época\n",
      "Função custo é:  59.0 na 74 época\n",
      "Função custo é:  59.0 na 75 época\n",
      "Função custo é:  59.0 na 76 época\n",
      "Função custo é:  59.0 na 77 época\n",
      "Função custo é:  59.0 na 78 época\n",
      "Função custo é:  59.0 na 79 época\n",
      "Função custo é:  59.0 na 80 época\n",
      "Função custo é:  59.0 na 81 época\n",
      "Função custo é:  59.0 na 82 época\n",
      "Função custo é:  59.0 na 83 época\n",
      "Função custo é:  59.0 na 84 época\n",
      "Função custo é:  59.0 na 85 época\n",
      "Função custo é:  59.0 na 86 época\n",
      "Função custo é:  59.0 na 87 época\n",
      "Função custo é:  59.0 na 88 época\n",
      "Função custo é:  59.0 na 89 época\n",
      "Função custo é:  59.0 na 90 época\n",
      "Função custo é:  59.0 na 91 época\n",
      "Função custo é:  59.0 na 92 época\n",
      "Função custo é:  59.0 na 93 época\n",
      "Função custo é:  59.0 na 94 época\n",
      "Função custo é:  59.0 na 95 época\n",
      "Função custo é:  59.0 na 96 época\n",
      "Função custo é:  59.0 na 97 época\n",
      "Função custo é:  59.0 na 98 época\n",
      "Função custo é:  59.0 na 99 época\n",
      "Função custo é:  59.0 na 100 época\n",
      "Função custo é:  59.0 na 101 época\n",
      "Função custo é:  59.0 na 102 época\n",
      "Função custo é:  59.0 na 103 época\n",
      "Função custo é:  59.0 na 104 época\n",
      "Função custo é:  59.0 na 105 época\n",
      "Função custo é:  59.0 na 106 época\n",
      "Função custo é:  59.0 na 107 época\n",
      "Função custo é:  59.0 na 108 época\n",
      "Função custo é:  59.0 na 109 época\n",
      "Função custo é:  59.0 na 110 época\n",
      "Função custo é:  59.0 na 111 época\n",
      "Função custo é:  59.0 na 112 época\n",
      "Função custo é:  59.0 na 113 época\n",
      "Função custo é:  59.0 na 114 época\n",
      "Função custo é:  59.0 na 115 época\n",
      "Função custo é:  59.0 na 116 época\n",
      "Função custo é:  59.0 na 117 época\n",
      "Função custo é:  59.0 na 118 época\n",
      "Função custo é:  59.0 na 119 época\n",
      "Função custo é:  59.0 na 120 época\n",
      "Função custo é:  59.0 na 121 época\n",
      "Função custo é:  59.0 na 122 época\n",
      "Função custo é:  59.0 na 123 época\n",
      "Função custo é:  59.0 na 124 época\n",
      "Função custo é:  59.0 na 125 época\n",
      "Função custo é:  59.0 na 126 época\n",
      "Função custo é:  59.0 na 127 época\n",
      "Função custo é:  59.0 na 128 época\n",
      "Função custo é:  59.0 na 129 época\n",
      "Função custo é:  59.0 na 130 época\n",
      "Função custo é:  59.0 na 131 época\n",
      "Função custo é:  59.0 na 132 época\n",
      "Função custo é:  59.0 na 133 época\n",
      "Função custo é:  59.0 na 134 época\n",
      "Função custo é:  59.0 na 135 época\n",
      "Função custo é:  59.0 na 136 época\n",
      "Função custo é:  59.0 na 137 época\n",
      "Função custo é:  59.0 na 138 época\n",
      "Função custo é:  59.0 na 139 época\n",
      "Função custo é:  59.0 na 140 época\n",
      "Função custo é:  58.0 na 141 época\n",
      "Função custo é:  58.0 na 142 época\n",
      "Função custo é:  58.0 na 143 época\n",
      "Função custo é:  58.0 na 144 época\n",
      "Função custo é:  58.0 na 145 época\n",
      "Função custo é:  58.0 na 146 época\n",
      "Função custo é:  58.0 na 147 época\n",
      "Função custo é:  58.0 na 148 época\n",
      "Função custo é:  58.0 na 149 época\n",
      "Função custo é:  58.0 na 150 época\n"
     ]
    }
   ],
   "source": [
    "modelo.fit(xtreino,ytreino)"
   ]
  },
  {
   "cell_type": "code",
   "execution_count": 74,
   "metadata": {},
   "outputs": [
    {
     "data": {
      "text/plain": [
       "array([1., 1., 1., 0., 1., 1., 1., 1., 1., 1., 1., 1., 1., 1., 1., 1., 1.,\n",
       "       1., 1., 1., 1., 1., 1., 1., 1., 1., 1., 1., 1., 1., 1., 1., 1., 1.,\n",
       "       1., 1., 1., 1., 1., 1., 1., 1., 1., 1., 1., 1., 1., 1., 1., 1., 1.,\n",
       "       1., 1., 1., 1., 1., 1., 1., 1., 1., 1., 1., 1., 1., 1., 1., 1., 1.,\n",
       "       1., 1., 1., 1., 1., 1., 1., 1., 1., 1., 1., 1., 1., 1., 1., 1., 1.,\n",
       "       1.])"
      ]
     },
     "execution_count": 74,
     "metadata": {},
     "output_type": "execute_result"
    }
   ],
   "source": [
    "modelo.predict(xteste)"
   ]
  },
  {
   "cell_type": "code",
   "execution_count": 75,
   "metadata": {},
   "outputs": [
    {
     "data": {
      "text/plain": [
       "0.709"
      ]
     },
     "execution_count": 75,
     "metadata": {},
     "output_type": "execute_result"
    }
   ],
   "source": [
    "modelo.acuracia(yteste,modelo.predict(xteste))"
   ]
  }
 ],
 "metadata": {
  "kernelspec": {
   "display_name": "Python 3",
   "language": "python",
   "name": "python3"
  },
  "language_info": {
   "codemirror_mode": {
    "name": "ipython",
    "version": 3
   },
   "file_extension": ".py",
   "mimetype": "text/x-python",
   "name": "python",
   "nbconvert_exporter": "python",
   "pygments_lexer": "ipython3",
   "version": "3.7.1"
  }
 },
 "nbformat": 4,
 "nbformat_minor": 2
}
