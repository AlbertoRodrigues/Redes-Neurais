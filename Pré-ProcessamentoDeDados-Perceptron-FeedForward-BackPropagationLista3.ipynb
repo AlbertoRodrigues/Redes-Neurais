{
 "cells": [
  {
   "cell_type": "markdown",
   "metadata": {},
   "source": [
    "# Nome : Alberto Rodrigues Ferreira\n",
    "# Matrícula : 391278"
   ]
  },
  {
   "cell_type": "code",
   "execution_count": 1,
   "metadata": {},
   "outputs": [
    {
     "name": "stderr",
     "output_type": "stream",
     "text": [
      "Loading required package: DMwR\n",
      "Loading required package: lattice\n",
      "Loading required package: grid\n",
      "Loading required package: ggplot2\n"
     ]
    }
   ],
   "source": [
    "require(DMwR)\n",
    "require(ggplot2)"
   ]
  },
  {
   "cell_type": "code",
   "execution_count": 2,
   "metadata": {},
   "outputs": [],
   "source": [
    "conexao=url(\"https://archive.ics.uci.edu/ml/machine-learning-databases/breast-cancer/breast-cancer.data\")"
   ]
  },
  {
   "cell_type": "code",
   "execution_count": 3,
   "metadata": {},
   "outputs": [],
   "source": [
    "dados=read.csv(conexao,header=F)"
   ]
  },
  {
   "cell_type": "code",
   "execution_count": 4,
   "metadata": {},
   "outputs": [
    {
     "data": {
      "text/html": [
       "<ol class=list-inline>\n",
       "\t<li>'class'</li>\n",
       "\t<li>'age'</li>\n",
       "\t<li>'menopause'</li>\n",
       "\t<li>'tumor-size'</li>\n",
       "\t<li>'inv-nodes'</li>\n",
       "\t<li>'node-caps'</li>\n",
       "\t<li>'deg-malig'</li>\n",
       "\t<li>'breast'</li>\n",
       "\t<li>'breast-quad'</li>\n",
       "\t<li>'irradiat'</li>\n",
       "</ol>\n"
      ],
      "text/latex": [
       "\\begin{enumerate*}\n",
       "\\item 'class'\n",
       "\\item 'age'\n",
       "\\item 'menopause'\n",
       "\\item 'tumor-size'\n",
       "\\item 'inv-nodes'\n",
       "\\item 'node-caps'\n",
       "\\item 'deg-malig'\n",
       "\\item 'breast'\n",
       "\\item 'breast-quad'\n",
       "\\item 'irradiat'\n",
       "\\end{enumerate*}\n"
      ],
      "text/markdown": [
       "1. 'class'\n",
       "2. 'age'\n",
       "3. 'menopause'\n",
       "4. 'tumor-size'\n",
       "5. 'inv-nodes'\n",
       "6. 'node-caps'\n",
       "7. 'deg-malig'\n",
       "8. 'breast'\n",
       "9. 'breast-quad'\n",
       "10. 'irradiat'\n",
       "\n",
       "\n"
      ],
      "text/plain": [
       " [1] \"class\"       \"age\"         \"menopause\"   \"tumor-size\"  \"inv-nodes\"  \n",
       " [6] \"node-caps\"   \"deg-malig\"   \"breast\"      \"breast-quad\" \"irradiat\"   "
      ]
     },
     "metadata": {},
     "output_type": "display_data"
    }
   ],
   "source": [
    "(colnames(dados)=c(\"class\",\"age\",\"menopause\",\"tumor-size\",\"inv-nodes\",\"node-caps\",\"deg-malig\"\n",
    "                   ,\"breast\",\"breast-quad\",\"irradiat\"))"
   ]
  },
  {
   "cell_type": "code",
   "execution_count": 5,
   "metadata": {},
   "outputs": [],
   "source": [
    "dados2=dados"
   ]
  },
  {
   "cell_type": "code",
   "execution_count": 6,
   "metadata": {},
   "outputs": [
    {
     "data": {
      "text/html": [
       "<table>\n",
       "<thead><tr><th scope=col>class</th><th scope=col>age</th><th scope=col>menopause</th><th scope=col>tumor-size</th><th scope=col>inv-nodes</th><th scope=col>node-caps</th><th scope=col>deg-malig</th><th scope=col>breast</th><th scope=col>breast-quad</th><th scope=col>irradiat</th></tr></thead>\n",
       "<tbody>\n",
       "\t<tr><td>no-recurrence-events</td><td>30-39               </td><td>premeno             </td><td>30-34               </td><td>0-2                 </td><td>no                  </td><td>3                   </td><td>left                </td><td>left_low            </td><td>no                  </td></tr>\n",
       "\t<tr><td>no-recurrence-events</td><td>40-49               </td><td>premeno             </td><td>20-24               </td><td>0-2                 </td><td>no                  </td><td>2                   </td><td>right               </td><td>right_up            </td><td>no                  </td></tr>\n",
       "\t<tr><td>no-recurrence-events</td><td>40-49               </td><td>premeno             </td><td>20-24               </td><td>0-2                 </td><td>no                  </td><td>2                   </td><td>left                </td><td>left_low            </td><td>no                  </td></tr>\n",
       "\t<tr><td>no-recurrence-events</td><td>60-69               </td><td>ge40                </td><td>15-19               </td><td>0-2                 </td><td>no                  </td><td>2                   </td><td>right               </td><td>left_up             </td><td>no                  </td></tr>\n",
       "\t<tr><td>no-recurrence-events</td><td>40-49               </td><td>premeno             </td><td>0-4                 </td><td>0-2                 </td><td>no                  </td><td>2                   </td><td>right               </td><td>right_low           </td><td>no                  </td></tr>\n",
       "\t<tr><td>no-recurrence-events</td><td>60-69               </td><td>ge40                </td><td>15-19               </td><td>0-2                 </td><td>no                  </td><td>2                   </td><td>left                </td><td>left_low            </td><td>no                  </td></tr>\n",
       "</tbody>\n",
       "</table>\n"
      ],
      "text/latex": [
       "\\begin{tabular}{r|llllllllll}\n",
       " class & age & menopause & tumor-size & inv-nodes & node-caps & deg-malig & breast & breast-quad & irradiat\\\\\n",
       "\\hline\n",
       "\t no-recurrence-events & 30-39                & premeno              & 30-34                & 0-2                  & no                   & 3                    & left                 & left\\_low           & no                  \\\\\n",
       "\t no-recurrence-events & 40-49                & premeno              & 20-24                & 0-2                  & no                   & 2                    & right                & right\\_up           & no                  \\\\\n",
       "\t no-recurrence-events & 40-49                & premeno              & 20-24                & 0-2                  & no                   & 2                    & left                 & left\\_low           & no                  \\\\\n",
       "\t no-recurrence-events & 60-69                & ge40                 & 15-19                & 0-2                  & no                   & 2                    & right                & left\\_up            & no                  \\\\\n",
       "\t no-recurrence-events & 40-49                & premeno              & 0-4                  & 0-2                  & no                   & 2                    & right                & right\\_low          & no                  \\\\\n",
       "\t no-recurrence-events & 60-69                & ge40                 & 15-19                & 0-2                  & no                   & 2                    & left                 & left\\_low           & no                  \\\\\n",
       "\\end{tabular}\n"
      ],
      "text/markdown": [
       "\n",
       "class | age | menopause | tumor-size | inv-nodes | node-caps | deg-malig | breast | breast-quad | irradiat | \n",
       "|---|---|---|---|---|---|\n",
       "| no-recurrence-events | 30-39                | premeno              | 30-34                | 0-2                  | no                   | 3                    | left                 | left_low             | no                   | \n",
       "| no-recurrence-events | 40-49                | premeno              | 20-24                | 0-2                  | no                   | 2                    | right                | right_up             | no                   | \n",
       "| no-recurrence-events | 40-49                | premeno              | 20-24                | 0-2                  | no                   | 2                    | left                 | left_low             | no                   | \n",
       "| no-recurrence-events | 60-69                | ge40                 | 15-19                | 0-2                  | no                   | 2                    | right                | left_up              | no                   | \n",
       "| no-recurrence-events | 40-49                | premeno              | 0-4                  | 0-2                  | no                   | 2                    | right                | right_low            | no                   | \n",
       "| no-recurrence-events | 60-69                | ge40                 | 15-19                | 0-2                  | no                   | 2                    | left                 | left_low             | no                   | \n",
       "\n",
       "\n"
      ],
      "text/plain": [
       "  class                age   menopause tumor-size inv-nodes node-caps deg-malig\n",
       "1 no-recurrence-events 30-39 premeno   30-34      0-2       no        3        \n",
       "2 no-recurrence-events 40-49 premeno   20-24      0-2       no        2        \n",
       "3 no-recurrence-events 40-49 premeno   20-24      0-2       no        2        \n",
       "4 no-recurrence-events 60-69 ge40      15-19      0-2       no        2        \n",
       "5 no-recurrence-events 40-49 premeno   0-4        0-2       no        2        \n",
       "6 no-recurrence-events 60-69 ge40      15-19      0-2       no        2        \n",
       "  breast breast-quad irradiat\n",
       "1 left   left_low    no      \n",
       "2 right  right_up    no      \n",
       "3 left   left_low    no      \n",
       "4 right  left_up     no      \n",
       "5 right  right_low   no      \n",
       "6 left   left_low    no      "
      ]
     },
     "metadata": {},
     "output_type": "display_data"
    }
   ],
   "source": [
    "head(dados2)"
   ]
  },
  {
   "cell_type": "markdown",
   "metadata": {},
   "source": [
    "# Alterando o valor faltante de \"?\" para NA que é como as funções do R interpretam valores faltantes."
   ]
  },
  {
   "cell_type": "code",
   "execution_count": 7,
   "metadata": {},
   "outputs": [],
   "source": [
    "for(i in 1:ncol(dados2))\n",
    "{\n",
    "  x=which(dados2[,i]==\"?\")\n",
    "  dados2[x,i]=NA\n",
    "}"
   ]
  },
  {
   "cell_type": "code",
   "execution_count": 8,
   "metadata": {
    "scrolled": true
   },
   "outputs": [
    {
     "data": {
      "text/plain": [
       "                  class        age       menopause     tumor-size inv-nodes  \n",
       " no-recurrence-events:201   20-29: 1   ge40   :129   30-34  :60   0-2  :213  \n",
       " recurrence-events   : 85   30-39:36   lt40   :  7   25-29  :54   12-14:  3  \n",
       "                            40-49:90   premeno:150   20-24  :50   15-17:  6  \n",
       "                            50-59:96                 15-19  :30   24-26:  1  \n",
       "                            60-69:57                 10-14  :28   3-5  : 36  \n",
       "                            70-79: 6                 40-44  :22   6-8  : 17  \n",
       "                                                     (Other):42   9-11 : 10  \n",
       " node-caps    deg-malig       breast       breast-quad  irradiat \n",
       " ?   :  0   Min.   :1.000   left :152   ?        :  0   no :218  \n",
       " no  :222   1st Qu.:2.000   right:134   central  : 21   yes: 68  \n",
       " yes : 56   Median :2.000               left_low :110            \n",
       " NA's:  8   Mean   :2.049               left_up  : 97            \n",
       "            3rd Qu.:3.000               right_low: 24            \n",
       "            Max.   :3.000               right_up : 33            \n",
       "                                        NA's     :  1            "
      ]
     },
     "metadata": {},
     "output_type": "display_data"
    }
   ],
   "source": [
    "summary(dados2)"
   ]
  },
  {
   "cell_type": "code",
   "execution_count": 9,
   "metadata": {},
   "outputs": [
    {
     "data": {
      "text/plain": [
       "\n",
       "FALSE  TRUE \n",
       " 2851     9 "
      ]
     },
     "metadata": {},
     "output_type": "display_data"
    }
   ],
   "source": [
    "table(is.na(dados2))"
   ]
  },
  {
   "cell_type": "code",
   "execution_count": 10,
   "metadata": {},
   "outputs": [
    {
     "data": {
      "text/html": [
       "<dl class=dl-horizontal>\n",
       "\t<dt>class</dt>\n",
       "\t\t<dd>0</dd>\n",
       "\t<dt>age</dt>\n",
       "\t\t<dd>0</dd>\n",
       "\t<dt>menopause</dt>\n",
       "\t\t<dd>0</dd>\n",
       "\t<dt>tumor-size</dt>\n",
       "\t\t<dd>0</dd>\n",
       "\t<dt>inv-nodes</dt>\n",
       "\t\t<dd>0</dd>\n",
       "\t<dt>node-caps</dt>\n",
       "\t\t<dd>8</dd>\n",
       "\t<dt>deg-malig</dt>\n",
       "\t\t<dd>0</dd>\n",
       "\t<dt>breast</dt>\n",
       "\t\t<dd>0</dd>\n",
       "\t<dt>breast-quad</dt>\n",
       "\t\t<dd>1</dd>\n",
       "\t<dt>irradiat</dt>\n",
       "\t\t<dd>0</dd>\n",
       "</dl>\n"
      ],
      "text/latex": [
       "\\begin{description*}\n",
       "\\item[class] 0\n",
       "\\item[age] 0\n",
       "\\item[menopause] 0\n",
       "\\item[tumor-size] 0\n",
       "\\item[inv-nodes] 0\n",
       "\\item[node-caps] 8\n",
       "\\item[deg-malig] 0\n",
       "\\item[breast] 0\n",
       "\\item[breast-quad] 1\n",
       "\\item[irradiat] 0\n",
       "\\end{description*}\n"
      ],
      "text/markdown": [
       "class\n",
       ":   0age\n",
       ":   0menopause\n",
       ":   0tumor-size\n",
       ":   0inv-nodes\n",
       ":   0node-caps\n",
       ":   8deg-malig\n",
       ":   0breast\n",
       ":   0breast-quad\n",
       ":   1irradiat\n",
       ":   0\n",
       "\n"
      ],
      "text/plain": [
       "      class         age   menopause  tumor-size   inv-nodes   node-caps \n",
       "          0           0           0           0           0           8 \n",
       "  deg-malig      breast breast-quad    irradiat \n",
       "          0           0           1           0 "
      ]
     },
     "metadata": {},
     "output_type": "display_data"
    }
   ],
   "source": [
    "apply(dados2,2,function (x) sum(is.na(x)))"
   ]
  },
  {
   "cell_type": "markdown",
   "metadata": {},
   "source": [
    "# A coluna breast-quad é algumas vezes inconsistente com a coluna breast, então decidi retirá-la."
   ]
  },
  {
   "cell_type": "code",
   "execution_count": 11,
   "metadata": {},
   "outputs": [
    {
     "data": {
      "text/html": [
       "<table>\n",
       "<thead><tr><th scope=col>breast</th><th scope=col>breast-quad</th></tr></thead>\n",
       "<tbody>\n",
       "\t<tr><td>left     </td><td>left_low </td></tr>\n",
       "\t<tr><td>right    </td><td>right_up </td></tr>\n",
       "\t<tr><td>left     </td><td>left_low </td></tr>\n",
       "\t<tr><td>right    </td><td>left_up  </td></tr>\n",
       "\t<tr><td>right    </td><td>right_low</td></tr>\n",
       "\t<tr><td>left     </td><td>left_low </td></tr>\n",
       "\t<tr><td>left     </td><td>left_low </td></tr>\n",
       "\t<tr><td>left     </td><td>left_low </td></tr>\n",
       "\t<tr><td>left     </td><td>left_low </td></tr>\n",
       "\t<tr><td>right    </td><td>left_up  </td></tr>\n",
       "\t<tr><td>left     </td><td>central  </td></tr>\n",
       "\t<tr><td>left     </td><td>left_low </td></tr>\n",
       "\t<tr><td>left     </td><td>right_up </td></tr>\n",
       "\t<tr><td>left     </td><td>right_up </td></tr>\n",
       "\t<tr><td>left     </td><td>left_up  </td></tr>\n",
       "\t<tr><td>left     </td><td>left_low </td></tr>\n",
       "\t<tr><td>left     </td><td>left_low </td></tr>\n",
       "\t<tr><td>left     </td><td>left_low </td></tr>\n",
       "\t<tr><td>left     </td><td>left_low </td></tr>\n",
       "\t<tr><td>right    </td><td>right_up </td></tr>\n",
       "\t<tr><td>left     </td><td>left_low </td></tr>\n",
       "\t<tr><td>left     </td><td>left_low </td></tr>\n",
       "\t<tr><td>right    </td><td>left_low </td></tr>\n",
       "\t<tr><td>left     </td><td>left_up  </td></tr>\n",
       "\t<tr><td>right    </td><td>left_up  </td></tr>\n",
       "\t<tr><td>left     </td><td>left_up  </td></tr>\n",
       "\t<tr><td>left     </td><td>left_low </td></tr>\n",
       "\t<tr><td>right    </td><td>left_up  </td></tr>\n",
       "\t<tr><td>right    </td><td>left_low </td></tr>\n",
       "\t<tr><td>left     </td><td>left_low </td></tr>\n",
       "\t<tr><td>...</td><td>...</td></tr>\n",
       "\t<tr><td>left     </td><td>left_low </td></tr>\n",
       "\t<tr><td>left     </td><td>left_low </td></tr>\n",
       "\t<tr><td>left     </td><td>right_low</td></tr>\n",
       "\t<tr><td>right    </td><td>left_up  </td></tr>\n",
       "\t<tr><td>right    </td><td>right_up </td></tr>\n",
       "\t<tr><td>left     </td><td>right_low</td></tr>\n",
       "\t<tr><td>left     </td><td>left_up  </td></tr>\n",
       "\t<tr><td>left     </td><td>left_up  </td></tr>\n",
       "\t<tr><td>left     </td><td>left_low </td></tr>\n",
       "\t<tr><td>left     </td><td>left_low </td></tr>\n",
       "\t<tr><td>left     </td><td>right_up </td></tr>\n",
       "\t<tr><td>left     </td><td>left_low </td></tr>\n",
       "\t<tr><td>left     </td><td>left_low </td></tr>\n",
       "\t<tr><td>left     </td><td>left_low </td></tr>\n",
       "\t<tr><td>left     </td><td>right_low</td></tr>\n",
       "\t<tr><td>right    </td><td>left_low </td></tr>\n",
       "\t<tr><td>right    </td><td>left_up  </td></tr>\n",
       "\t<tr><td>right    </td><td>right_up </td></tr>\n",
       "\t<tr><td>left     </td><td>central  </td></tr>\n",
       "\t<tr><td>right    </td><td>left_up  </td></tr>\n",
       "\t<tr><td>left     </td><td>right_low</td></tr>\n",
       "\t<tr><td>left     </td><td>left_up  </td></tr>\n",
       "\t<tr><td>right    </td><td>right_up </td></tr>\n",
       "\t<tr><td>left     </td><td>left_low </td></tr>\n",
       "\t<tr><td>left     </td><td>left_low </td></tr>\n",
       "\t<tr><td>left     </td><td>left_up  </td></tr>\n",
       "\t<tr><td>left     </td><td>left_up  </td></tr>\n",
       "\t<tr><td>right    </td><td>left_up  </td></tr>\n",
       "\t<tr><td>left     </td><td>left_low </td></tr>\n",
       "\t<tr><td>left     </td><td>left_low </td></tr>\n",
       "</tbody>\n",
       "</table>\n"
      ],
      "text/latex": [
       "\\begin{tabular}{r|ll}\n",
       " breast & breast-quad\\\\\n",
       "\\hline\n",
       "\t left        & left\\_low \\\\\n",
       "\t right       & right\\_up \\\\\n",
       "\t left        & left\\_low \\\\\n",
       "\t right       & left\\_up  \\\\\n",
       "\t right       & right\\_low\\\\\n",
       "\t left        & left\\_low \\\\\n",
       "\t left        & left\\_low \\\\\n",
       "\t left        & left\\_low \\\\\n",
       "\t left        & left\\_low \\\\\n",
       "\t right       & left\\_up  \\\\\n",
       "\t left      & central  \\\\\n",
       "\t left        & left\\_low \\\\\n",
       "\t left        & right\\_up \\\\\n",
       "\t left        & right\\_up \\\\\n",
       "\t left        & left\\_up  \\\\\n",
       "\t left        & left\\_low \\\\\n",
       "\t left        & left\\_low \\\\\n",
       "\t left        & left\\_low \\\\\n",
       "\t left        & left\\_low \\\\\n",
       "\t right       & right\\_up \\\\\n",
       "\t left        & left\\_low \\\\\n",
       "\t left        & left\\_low \\\\\n",
       "\t right       & left\\_low \\\\\n",
       "\t left        & left\\_up  \\\\\n",
       "\t right       & left\\_up  \\\\\n",
       "\t left        & left\\_up  \\\\\n",
       "\t left        & left\\_low \\\\\n",
       "\t right       & left\\_up  \\\\\n",
       "\t right       & left\\_low \\\\\n",
       "\t left        & left\\_low \\\\\n",
       "\t ... & ...\\\\\n",
       "\t left        & left\\_low \\\\\n",
       "\t left        & left\\_low \\\\\n",
       "\t left        & right\\_low\\\\\n",
       "\t right       & left\\_up  \\\\\n",
       "\t right       & right\\_up \\\\\n",
       "\t left        & right\\_low\\\\\n",
       "\t left        & left\\_up  \\\\\n",
       "\t left        & left\\_up  \\\\\n",
       "\t left        & left\\_low \\\\\n",
       "\t left        & left\\_low \\\\\n",
       "\t left        & right\\_up \\\\\n",
       "\t left        & left\\_low \\\\\n",
       "\t left        & left\\_low \\\\\n",
       "\t left        & left\\_low \\\\\n",
       "\t left        & right\\_low\\\\\n",
       "\t right       & left\\_low \\\\\n",
       "\t right       & left\\_up  \\\\\n",
       "\t right       & right\\_up \\\\\n",
       "\t left      & central  \\\\\n",
       "\t right       & left\\_up  \\\\\n",
       "\t left        & right\\_low\\\\\n",
       "\t left        & left\\_up  \\\\\n",
       "\t right       & right\\_up \\\\\n",
       "\t left        & left\\_low \\\\\n",
       "\t left        & left\\_low \\\\\n",
       "\t left        & left\\_up  \\\\\n",
       "\t left        & left\\_up  \\\\\n",
       "\t right       & left\\_up  \\\\\n",
       "\t left        & left\\_low \\\\\n",
       "\t left        & left\\_low \\\\\n",
       "\\end{tabular}\n"
      ],
      "text/markdown": [
       "\n",
       "breast | breast-quad | \n",
       "|---|---|---|---|---|---|---|---|---|---|---|---|---|---|---|---|---|---|---|---|---|---|---|---|---|---|---|---|---|---|---|---|---|---|---|---|---|---|---|---|---|---|---|---|---|---|---|---|---|---|---|---|---|---|---|---|---|---|---|---|---|\n",
       "| left      | left_low  | \n",
       "| right     | right_up  | \n",
       "| left      | left_low  | \n",
       "| right     | left_up   | \n",
       "| right     | right_low | \n",
       "| left      | left_low  | \n",
       "| left      | left_low  | \n",
       "| left      | left_low  | \n",
       "| left      | left_low  | \n",
       "| right     | left_up   | \n",
       "| left      | central   | \n",
       "| left      | left_low  | \n",
       "| left      | right_up  | \n",
       "| left      | right_up  | \n",
       "| left      | left_up   | \n",
       "| left      | left_low  | \n",
       "| left      | left_low  | \n",
       "| left      | left_low  | \n",
       "| left      | left_low  | \n",
       "| right     | right_up  | \n",
       "| left      | left_low  | \n",
       "| left      | left_low  | \n",
       "| right     | left_low  | \n",
       "| left      | left_up   | \n",
       "| right     | left_up   | \n",
       "| left      | left_up   | \n",
       "| left      | left_low  | \n",
       "| right     | left_up   | \n",
       "| right     | left_low  | \n",
       "| left      | left_low  | \n",
       "| ... | ... | \n",
       "| left      | left_low  | \n",
       "| left      | left_low  | \n",
       "| left      | right_low | \n",
       "| right     | left_up   | \n",
       "| right     | right_up  | \n",
       "| left      | right_low | \n",
       "| left      | left_up   | \n",
       "| left      | left_up   | \n",
       "| left      | left_low  | \n",
       "| left      | left_low  | \n",
       "| left      | right_up  | \n",
       "| left      | left_low  | \n",
       "| left      | left_low  | \n",
       "| left      | left_low  | \n",
       "| left      | right_low | \n",
       "| right     | left_low  | \n",
       "| right     | left_up   | \n",
       "| right     | right_up  | \n",
       "| left      | central   | \n",
       "| right     | left_up   | \n",
       "| left      | right_low | \n",
       "| left      | left_up   | \n",
       "| right     | right_up  | \n",
       "| left      | left_low  | \n",
       "| left      | left_low  | \n",
       "| left      | left_up   | \n",
       "| left      | left_up   | \n",
       "| right     | left_up   | \n",
       "| left      | left_low  | \n",
       "| left      | left_low  | \n",
       "\n",
       "\n"
      ],
      "text/plain": [
       "    breast breast-quad\n",
       "1   left   left_low   \n",
       "2   right  right_up   \n",
       "3   left   left_low   \n",
       "4   right  left_up    \n",
       "5   right  right_low  \n",
       "6   left   left_low   \n",
       "7   left   left_low   \n",
       "8   left   left_low   \n",
       "9   left   left_low   \n",
       "10  right  left_up    \n",
       "11  left   central    \n",
       "12  left   left_low   \n",
       "13  left   right_up   \n",
       "14  left   right_up   \n",
       "15  left   left_up    \n",
       "16  left   left_low   \n",
       "17  left   left_low   \n",
       "18  left   left_low   \n",
       "19  left   left_low   \n",
       "20  right  right_up   \n",
       "21  left   left_low   \n",
       "22  left   left_low   \n",
       "23  right  left_low   \n",
       "24  left   left_up    \n",
       "25  right  left_up    \n",
       "26  left   left_up    \n",
       "27  left   left_low   \n",
       "28  right  left_up    \n",
       "29  right  left_low   \n",
       "30  left   left_low   \n",
       "... ...    ...        \n",
       "257 left   left_low   \n",
       "258 left   left_low   \n",
       "259 left   right_low  \n",
       "260 right  left_up    \n",
       "261 right  right_up   \n",
       "262 left   right_low  \n",
       "263 left   left_up    \n",
       "264 left   left_up    \n",
       "265 left   left_low   \n",
       "266 left   left_low   \n",
       "267 left   right_up   \n",
       "268 left   left_low   \n",
       "269 left   left_low   \n",
       "270 left   left_low   \n",
       "271 left   right_low  \n",
       "272 right  left_low   \n",
       "273 right  left_up    \n",
       "274 right  right_up   \n",
       "275 left   central    \n",
       "276 right  left_up    \n",
       "277 left   right_low  \n",
       "278 left   left_up    \n",
       "279 right  right_up   \n",
       "280 left   left_low   \n",
       "281 left   left_low   \n",
       "282 left   left_up    \n",
       "283 left   left_up    \n",
       "284 right  left_up    \n",
       "285 left   left_low   \n",
       "286 left   left_low   "
      ]
     },
     "metadata": {},
     "output_type": "display_data"
    }
   ],
   "source": [
    "dados[,c(8,9)]"
   ]
  },
  {
   "cell_type": "code",
   "execution_count": 12,
   "metadata": {},
   "outputs": [],
   "source": [
    "dados2=dados2[,-which(colnames(dados2)==\"breast-quad\")]"
   ]
  },
  {
   "cell_type": "markdown",
   "metadata": {},
   "source": [
    "# Função de imputação por knn"
   ]
  },
  {
   "cell_type": "code",
   "execution_count": 13,
   "metadata": {},
   "outputs": [],
   "source": [
    "dados2=knnImputation(dados2,k=10,scale=T)"
   ]
  },
  {
   "cell_type": "code",
   "execution_count": 14,
   "metadata": {},
   "outputs": [
    {
     "data": {
      "text/plain": [
       "\n",
       "FALSE \n",
       " 2574 "
      ]
     },
     "metadata": {},
     "output_type": "display_data"
    }
   ],
   "source": [
    "table(is.na(dados2))"
   ]
  },
  {
   "cell_type": "code",
   "execution_count": 15,
   "metadata": {},
   "outputs": [
    {
     "data": {
      "text/html": [
       "<dl class=dl-horizontal>\n",
       "\t<dt>class</dt>\n",
       "\t\t<dd>0</dd>\n",
       "\t<dt>age</dt>\n",
       "\t\t<dd>0</dd>\n",
       "\t<dt>menopause</dt>\n",
       "\t\t<dd>0</dd>\n",
       "\t<dt>tumor-size</dt>\n",
       "\t\t<dd>0</dd>\n",
       "\t<dt>inv-nodes</dt>\n",
       "\t\t<dd>0</dd>\n",
       "\t<dt>node-caps</dt>\n",
       "\t\t<dd>0</dd>\n",
       "\t<dt>deg-malig</dt>\n",
       "\t\t<dd>0</dd>\n",
       "\t<dt>breast</dt>\n",
       "\t\t<dd>0</dd>\n",
       "\t<dt>irradiat</dt>\n",
       "\t\t<dd>0</dd>\n",
       "</dl>\n"
      ],
      "text/latex": [
       "\\begin{description*}\n",
       "\\item[class] 0\n",
       "\\item[age] 0\n",
       "\\item[menopause] 0\n",
       "\\item[tumor-size] 0\n",
       "\\item[inv-nodes] 0\n",
       "\\item[node-caps] 0\n",
       "\\item[deg-malig] 0\n",
       "\\item[breast] 0\n",
       "\\item[irradiat] 0\n",
       "\\end{description*}\n"
      ],
      "text/markdown": [
       "class\n",
       ":   0age\n",
       ":   0menopause\n",
       ":   0tumor-size\n",
       ":   0inv-nodes\n",
       ":   0node-caps\n",
       ":   0deg-malig\n",
       ":   0breast\n",
       ":   0irradiat\n",
       ":   0\n",
       "\n"
      ],
      "text/plain": [
       "     class        age  menopause tumor-size  inv-nodes  node-caps  deg-malig \n",
       "         0          0          0          0          0          0          0 \n",
       "    breast   irradiat \n",
       "         0          0 "
      ]
     },
     "metadata": {},
     "output_type": "display_data"
    }
   ],
   "source": [
    "apply(dados2,2,function (x) sum(is.na(x)))"
   ]
  },
  {
   "cell_type": "code",
   "execution_count": 16,
   "metadata": {},
   "outputs": [
    {
     "data": {
      "text/html": [
       "<table>\n",
       "<tbody>\n",
       "\t<tr><td>factor    </td><td>class     </td></tr>\n",
       "\t<tr><td>factor    </td><td>age       </td></tr>\n",
       "\t<tr><td>factor    </td><td>menopause </td></tr>\n",
       "\t<tr><td>factor    </td><td>tumor-size</td></tr>\n",
       "\t<tr><td>factor    </td><td>inv-nodes </td></tr>\n",
       "\t<tr><td>factor    </td><td>node-caps </td></tr>\n",
       "\t<tr><td>integer   </td><td>deg-malig </td></tr>\n",
       "\t<tr><td>factor    </td><td>breast    </td></tr>\n",
       "\t<tr><td>factor    </td><td>irradiat  </td></tr>\n",
       "</tbody>\n",
       "</table>\n"
      ],
      "text/latex": [
       "\\begin{tabular}{ll}\n",
       "\t factor     & class     \\\\\n",
       "\t factor     & age       \\\\\n",
       "\t factor     & menopause \\\\\n",
       "\t factor     & tumor-size\\\\\n",
       "\t factor     & inv-nodes \\\\\n",
       "\t factor     & node-caps \\\\\n",
       "\t integer    & deg-malig \\\\\n",
       "\t factor     & breast    \\\\\n",
       "\t factor     & irradiat  \\\\\n",
       "\\end{tabular}\n"
      ],
      "text/markdown": [
       "\n",
       "| factor     | class      | \n",
       "| factor     | age        | \n",
       "| factor     | menopause  | \n",
       "| factor     | tumor-size | \n",
       "| factor     | inv-nodes  | \n",
       "| factor     | node-caps  | \n",
       "| integer    | deg-malig  | \n",
       "| factor     | breast     | \n",
       "| factor     | irradiat   | \n",
       "\n",
       "\n"
      ],
      "text/plain": [
       "      [,1]    [,2]      \n",
       " [1,] factor  class     \n",
       " [2,] factor  age       \n",
       " [3,] factor  menopause \n",
       " [4,] factor  tumor-size\n",
       " [5,] factor  inv-nodes \n",
       " [6,] factor  node-caps \n",
       " [7,] integer deg-malig \n",
       " [8,] factor  breast    \n",
       " [9,] factor  irradiat  "
      ]
     },
     "metadata": {},
     "output_type": "display_data"
    }
   ],
   "source": [
    "a=c()\n",
    "for(i in 1:ncol(dados2))\n",
    "{\n",
    "  x=cbind(class(dados2[,i]),colnames(dados2)[i])\n",
    "  a=rbind(a,x)\n",
    "}\n",
    "a"
   ]
  },
  {
   "cell_type": "code",
   "execution_count": 17,
   "metadata": {},
   "outputs": [
    {
     "data": {},
     "metadata": {},
     "output_type": "display_data"
    },
    {
     "data": {
      "image/png": "[encoded data removed]",
      "text/plain": [
       "plot without title"
      ]
     },
     "metadata": {},
     "output_type": "display_data"
    }
   ],
   "source": [
    "ggplot(dados2)+aes(class)+geom_bar(fill=\"blue\",color=\"black\")"
   ]
  },
  {
   "cell_type": "code",
   "execution_count": 18,
   "metadata": {},
   "outputs": [
    {
     "data": {},
     "metadata": {},
     "output_type": "display_data"
    },
    {
     "data": {
      "image/png": "[encoded data removed]",
      "text/plain": [
       "plot without title"
      ]
     },
     "metadata": {},
     "output_type": "display_data"
    }
   ],
   "source": [
    "ggplot(dados2)+aes(age)+geom_bar(fill=\"blue\",color=\"black\")"
   ]
  },
  {
   "cell_type": "code",
   "execution_count": 19,
   "metadata": {},
   "outputs": [
    {
     "data": {},
     "metadata": {},
     "output_type": "display_data"
    },
    {
     "data": {
      "image/png": "[encoded data removed]",
      "text/plain": [
       "plot without title"
      ]
     },
     "metadata": {},
     "output_type": "display_data"
    }
   ],
   "source": [
    "ggplot(dados2)+aes(menopause)+geom_bar(fill=\"blue\",color=\"black\")"
   ]
  },
  {
   "cell_type": "code",
   "execution_count": 20,
   "metadata": {},
   "outputs": [
    {
     "data": {},
     "metadata": {},
     "output_type": "display_data"
    },
    {
     "data": {
      "image/png": "[encoded data removed]",
      "text/plain": [
       "plot without title"
      ]
     },
     "metadata": {},
     "output_type": "display_data"
    }
   ],
   "source": [
    "ggplot(dados2)+aes(`tumor-size`)+geom_bar(fill=\"blue\",color=\"black\")"
   ]
  },
  {
   "cell_type": "code",
   "execution_count": 21,
   "metadata": {},
   "outputs": [
    {
     "data": {},
     "metadata": {},
     "output_type": "display_data"
    },
    {
     "data": {
      "image/png": "[encoded data removed]",
      "text/plain": [
       "plot without title"
      ]
     },
     "metadata": {},
     "output_type": "display_data"
    }
   ],
   "source": [
    "ggplot(dados2)+aes(`inv-nodes`)+geom_bar(fill=\"blue\",color=\"black\")"
   ]
  },
  {
   "cell_type": "code",
   "execution_count": 22,
   "metadata": {},
   "outputs": [
    {
     "data": {},
     "metadata": {},
     "output_type": "display_data"
    },
    {
     "data": {
      "image/png": "[encoded data removed]",
      "text/plain": [
       "plot without title"
      ]
     },
     "metadata": {},
     "output_type": "display_data"
    }
   ],
   "source": [
    "ggplot(dados2)+aes(`node-caps`)+geom_bar(fill=\"blue\",color=\"black\")"
   ]
  },
  {
   "cell_type": "code",
   "execution_count": 23,
   "metadata": {},
   "outputs": [
    {
     "data": {},
     "metadata": {},
     "output_type": "display_data"
    },
    {
     "data": {
      "image/png": "[encoded data removed]",
      "text/plain": [
       "plot without title"
      ]
     },
     "metadata": {},
     "output_type": "display_data"
    }
   ],
   "source": [
    "ggplot(dados2)+aes(`deg-malig`)+geom_bar(fill=\"blue\",color=\"black\")"
   ]
  },
  {
   "cell_type": "code",
   "execution_count": 24,
   "metadata": {},
   "outputs": [
    {
     "data": {},
     "metadata": {},
     "output_type": "display_data"
    },
    {
     "data": {
      "image/png": "[encoded data removed]",
      "text/plain": [
       "plot without title"
      ]
     },
     "metadata": {},
     "output_type": "display_data"
    }
   ],
   "source": [
    "ggplot(dados2)+aes(breast)+geom_bar(fill=\"blue\",color=\"black\")"
   ]
  },
  {
   "cell_type": "code",
   "execution_count": 25,
   "metadata": {},
   "outputs": [
    {
     "data": {},
     "metadata": {},
     "output_type": "display_data"
    },
    {
     "data": {
      "image/png": "[encoded data removed]",
      "text/plain": [
       "plot without title"
      ]
     },
     "metadata": {},
     "output_type": "display_data"
    }
   ],
   "source": [
    "ggplot(dados2)+aes(irradiat)+geom_bar(fill=\"blue\",color=\"black\")"
   ]
  }
 ],
 "metadata": {
  "kernelspec": {
   "display_name": "R",
   "language": "R",
   "name": "ir"
  },
  "language_info": {
   "codemirror_mode": "r",
   "file_extension": ".r",
   "mimetype": "text/x-r-source",
   "name": "R",
   "pygments_lexer": "r",
   "version": "3.5.1"
  }
 },
 "nbformat": 4,
 "nbformat_minor": 2
}
