{
 "cells": [
  {
   "cell_type": "markdown",
   "metadata": {},
   "source": [
    "# Nome: Alberto Rodrigues Ferreira\n",
    "# Matrícula: 391278"
   ]
  },
  {
   "cell_type": "code",
   "execution_count": 0,
   "metadata": {
    "colab": {},
    "colab_type": "code",
    "id": "bkkhilgX8mMb"
   },
   "outputs": [],
   "source": [
    "import tensorflow as tf\n",
    "import numpy as np\n",
    "import pandas as pd\n",
    "import seaborn as sea\n",
    "from sklearn.model_selection import train_test_split\n",
    "from sklearn.preprocessing import scale\n",
    "from sklearn.metrics import confusion_matrix,classification_report\n",
    "from sklearn.utils import resample"
   ]
  },
  {
   "cell_type": "code",
   "execution_count": 440,
   "metadata": {
    "colab": {
     "base_uri": "https://localhost:8080/",
     "height": 35
    },
    "colab_type": "code",
    "id": "ZtTER6KUM4cm",
    "outputId": "af806eaf-d701-45c5-9395-1c65b0b2bf43"
   },
   "outputs": [
    {
     "name": "stdout",
     "output_type": "stream",
     "text": [
      "Drive already mounted at /content/gdrive; to attempt to forcibly remount, call drive.mount(\"/content/gdrive\", force_remount=True).\n"
     ]
    }
   ],
   "source": [
    "from google.colab import drive \n",
    "drive.mount('/content/gdrive')"
   ]
  },
  {
   "cell_type": "code",
   "execution_count": 0,
   "metadata": {
    "colab": {},
    "colab_type": "code",
    "id": "OzXaFIoyM4zW"
   },
   "outputs": [],
   "source": [
    "dados=pd.read_csv('gdrive/My Drive/DadosDeCancer.csv')"
   ]
  },
  {
   "cell_type": "code",
   "execution_count": 442,
   "metadata": {
    "colab": {
     "base_uri": "https://localhost:8080/",
     "height": 206
    },
    "colab_type": "code",
    "id": "7oKNFZwIM42l",
    "outputId": "e9ac2f88-817a-4199-ef8e-80a393b2e197"
   },
   "outputs": [
    {
     "data": {
      "text/html": [
       "<div>\n",
       "<style scoped>\n",
       "    .dataframe tbody tr th:only-of-type {\n",
       "        vertical-align: middle;\n",
       "    }\n",
       "\n",
       "    .dataframe tbody tr th {\n",
       "        vertical-align: top;\n",
       "    }\n",
       "\n",
       "    .dataframe thead th {\n",
       "        text-align: right;\n",
       "    }\n",
       "</style>\n",
       "<table border=\"1\" class=\"dataframe\">\n",
       "  <thead>\n",
       "    <tr style=\"text-align: right;\">\n",
       "      <th></th>\n",
       "      <th>class</th>\n",
       "      <th>age</th>\n",
       "      <th>menopause</th>\n",
       "      <th>tumor-size</th>\n",
       "      <th>inv-nodes</th>\n",
       "      <th>node-caps</th>\n",
       "      <th>deg-malig</th>\n",
       "      <th>breast</th>\n",
       "      <th>irradiat</th>\n",
       "    </tr>\n",
       "  </thead>\n",
       "  <tbody>\n",
       "    <tr>\n",
       "      <th>0</th>\n",
       "      <td>no-recurrence-events</td>\n",
       "      <td>30-39</td>\n",
       "      <td>premeno</td>\n",
       "      <td>30-34</td>\n",
       "      <td>0-2</td>\n",
       "      <td>no</td>\n",
       "      <td>3</td>\n",
       "      <td>left</td>\n",
       "      <td>no</td>\n",
       "    </tr>\n",
       "    <tr>\n",
       "      <th>1</th>\n",
       "      <td>no-recurrence-events</td>\n",
       "      <td>40-49</td>\n",
       "      <td>premeno</td>\n",
       "      <td>20-24</td>\n",
       "      <td>0-2</td>\n",
       "      <td>no</td>\n",
       "      <td>2</td>\n",
       "      <td>right</td>\n",
       "      <td>no</td>\n",
       "    </tr>\n",
       "    <tr>\n",
       "      <th>2</th>\n",
       "      <td>no-recurrence-events</td>\n",
       "      <td>40-49</td>\n",
       "      <td>premeno</td>\n",
       "      <td>20-24</td>\n",
       "      <td>0-2</td>\n",
       "      <td>no</td>\n",
       "      <td>2</td>\n",
       "      <td>left</td>\n",
       "      <td>no</td>\n",
       "    </tr>\n",
       "    <tr>\n",
       "      <th>3</th>\n",
       "      <td>no-recurrence-events</td>\n",
       "      <td>60-69</td>\n",
       "      <td>ge40</td>\n",
       "      <td>15-19</td>\n",
       "      <td>0-2</td>\n",
       "      <td>no</td>\n",
       "      <td>2</td>\n",
       "      <td>right</td>\n",
       "      <td>no</td>\n",
       "    </tr>\n",
       "    <tr>\n",
       "      <th>4</th>\n",
       "      <td>no-recurrence-events</td>\n",
       "      <td>40-49</td>\n",
       "      <td>premeno</td>\n",
       "      <td>0-4</td>\n",
       "      <td>0-2</td>\n",
       "      <td>no</td>\n",
       "      <td>2</td>\n",
       "      <td>right</td>\n",
       "      <td>no</td>\n",
       "    </tr>\n",
       "  </tbody>\n",
       "</table>\n",
       "</div>"
      ],
      "text/plain": [
       "                  class    age menopause tumor-size inv-nodes node-caps  \\\n",
       "0  no-recurrence-events  30-39   premeno      30-34       0-2        no   \n",
       "1  no-recurrence-events  40-49   premeno      20-24       0-2        no   \n",
       "2  no-recurrence-events  40-49   premeno      20-24       0-2        no   \n",
       "3  no-recurrence-events  60-69      ge40      15-19       0-2        no   \n",
       "4  no-recurrence-events  40-49   premeno        0-4       0-2        no   \n",
       "\n",
       "   deg-malig breast irradiat  \n",
       "0          3   left       no  \n",
       "1          2  right       no  \n",
       "2          2   left       no  \n",
       "3          2  right       no  \n",
       "4          2  right       no  "
      ]
     },
     "execution_count": 442,
     "metadata": {
      "tags": []
     },
     "output_type": "execute_result"
    }
   ],
   "source": [
    "dados.head()"
   ]
  },
  {
   "cell_type": "code",
   "execution_count": 0,
   "metadata": {
    "colab": {},
    "colab_type": "code",
    "id": "F1wRaRTVxHDq"
   },
   "outputs": [],
   "source": [
    "dados2=dados"
   ]
  },
  {
   "cell_type": "markdown",
   "metadata": {
    "colab_type": "text",
    "id": "i-_ZfZYrbeWu"
   },
   "source": [
    "Função para transformar as variáveis categóricas em numéricas."
   ]
  },
  {
   "cell_type": "code",
   "execution_count": 0,
   "metadata": {
    "colab": {},
    "colab_type": "code",
    "id": "rFVBz8RCvalG"
   },
   "outputs": [],
   "source": [
    "#Essa função irá fazer parte da matriz X para cada variável categórica, ela irá percorrer todas as observações dessa variável\n",
    "# e dizer 1 se ela for de um tipo específico e 0 se não for, e faz por coluna.\n",
    "def CaselaDeReferencia(x):\n",
    "    #Criando matriz para cada variável categórica com o número de linhas igual ao número de observações e o número de colunas\n",
    "    #igual ao número de categorias únicas - 1.\n",
    "    matriz=np.empty(shape=(len(x),len(np.unique(x))-1),dtype=int)\n",
    "    #Andando pelas indices das colunas.\n",
    "    for i in range(matriz.shape[1]):\n",
    "        #Andando pelo indice das linhas (observações).\n",
    "        for j in range(len(x)):\n",
    "            if x[j]==np.unique(x)[1:][i]:\n",
    "            #Se for o tipo específico dos tipos da variável a linha vai ser 1 ou 0 caso contrário.\n",
    "                matriz[j,i]=1\n",
    "            else:\n",
    "                matriz[j,i]=0\n",
    "    return matriz"
   ]
  },
  {
   "cell_type": "code",
   "execution_count": 445,
   "metadata": {
    "colab": {
     "base_uri": "https://localhost:8080/",
     "height": 72
    },
    "colab_type": "code",
    "id": "zUp3q5fowHEd",
    "outputId": "9fe06b0a-9247-4806-9802-58b77b003731"
   },
   "outputs": [
    {
     "data": {
      "text/plain": [
       "Index(['class', 'age', 'menopause', 'tumor-size', 'inv-nodes', 'node-caps',\n",
       "       'deg-malig', 'breast', 'irradiat'],\n",
       "      dtype='object')"
      ]
     },
     "execution_count": 445,
     "metadata": {
      "tags": []
     },
     "output_type": "execute_result"
    }
   ],
   "source": [
    "dados2.columns"
   ]
  },
  {
   "cell_type": "markdown",
   "metadata": {
    "colab_type": "text",
    "id": "zvScMXGUcv01"
   },
   "source": [
    "Matriz X que irá compor as variáveis escolhidas e uma coluna de uns representando o intercepto, e também padronizei a variável numérica."
   ]
  },
  {
   "cell_type": "code",
   "execution_count": 446,
   "metadata": {
    "colab": {
     "base_uri": "https://localhost:8080/",
     "height": 1082
    },
    "colab_type": "code",
    "id": "KY_4ZK-eva1R",
    "outputId": "dcf86059-cf5d-4b30-f3a3-063795789ddb"
   },
   "outputs": [
    {
     "data": {
      "text/plain": [
       "array([ 1.29056424, -0.0664261 , -0.0664261 , -0.0664261 , -0.0664261 ,\n",
       "       -0.0664261 , -0.0664261 , -1.42341644, -0.0664261 , -0.0664261 ,\n",
       "        1.29056424, -0.0664261 , -1.42341644,  1.29056424,  1.29056424,\n",
       "       -1.42341644, -0.0664261 ,  1.29056424,  1.29056424, -1.42341644,\n",
       "       -0.0664261 , -0.0664261 , -0.0664261 , -0.0664261 , -0.0664261 ,\n",
       "       -0.0664261 , -1.42341644,  1.29056424, -0.0664261 , -0.0664261 ,\n",
       "        1.29056424, -0.0664261 ,  1.29056424, -1.42341644, -1.42341644,\n",
       "       -0.0664261 , -0.0664261 , -1.42341644, -0.0664261 , -1.42341644,\n",
       "       -1.42341644, -0.0664261 , -1.42341644, -0.0664261 , -1.42341644,\n",
       "       -1.42341644, -0.0664261 , -1.42341644, -1.42341644, -1.42341644,\n",
       "       -0.0664261 , -0.0664261 , -1.42341644,  1.29056424, -1.42341644,\n",
       "       -1.42341644, -1.42341644, -0.0664261 , -1.42341644, -1.42341644,\n",
       "       -0.0664261 , -1.42341644, -1.42341644, -0.0664261 , -1.42341644,\n",
       "       -1.42341644, -1.42341644,  1.29056424,  1.29056424, -0.0664261 ,\n",
       "       -1.42341644, -0.0664261 , -0.0664261 , -0.0664261 , -0.0664261 ,\n",
       "       -1.42341644, -0.0664261 , -1.42341644, -0.0664261 , -0.0664261 ,\n",
       "       -0.0664261 , -1.42341644, -0.0664261 , -0.0664261 , -1.42341644,\n",
       "        1.29056424, -0.0664261 , -1.42341644,  1.29056424, -1.42341644,\n",
       "       -0.0664261 ,  1.29056424, -0.0664261 , -0.0664261 , -1.42341644,\n",
       "       -0.0664261 , -0.0664261 , -0.0664261 , -1.42341644, -0.0664261 ,\n",
       "        1.29056424,  1.29056424, -0.0664261 , -0.0664261 , -0.0664261 ,\n",
       "       -1.42341644, -0.0664261 , -0.0664261 ,  1.29056424, -1.42341644,\n",
       "       -1.42341644, -1.42341644, -0.0664261 , -1.42341644, -0.0664261 ,\n",
       "       -0.0664261 , -1.42341644,  1.29056424, -1.42341644, -1.42341644,\n",
       "       -1.42341644, -0.0664261 ,  1.29056424, -1.42341644, -1.42341644,\n",
       "       -0.0664261 , -0.0664261 , -0.0664261 , -0.0664261 , -0.0664261 ,\n",
       "       -0.0664261 ,  1.29056424, -0.0664261 ,  1.29056424, -0.0664261 ,\n",
       "       -0.0664261 ,  1.29056424, -1.42341644, -0.0664261 , -0.0664261 ,\n",
       "       -0.0664261 , -0.0664261 , -1.42341644, -0.0664261 ,  1.29056424,\n",
       "       -0.0664261 , -0.0664261 , -0.0664261 ,  1.29056424,  1.29056424,\n",
       "        1.29056424,  1.29056424,  1.29056424,  1.29056424,  1.29056424,\n",
       "       -0.0664261 ,  1.29056424, -1.42341644, -1.42341644, -1.42341644,\n",
       "        1.29056424, -0.0664261 , -0.0664261 , -1.42341644, -1.42341644,\n",
       "       -0.0664261 , -0.0664261 , -0.0664261 , -0.0664261 , -0.0664261 ,\n",
       "       -0.0664261 , -1.42341644, -0.0664261 , -0.0664261 , -0.0664261 ,\n",
       "       -0.0664261 , -0.0664261 , -0.0664261 , -0.0664261 ,  1.29056424,\n",
       "        1.29056424,  1.29056424, -1.42341644,  1.29056424,  1.29056424,\n",
       "       -0.0664261 , -1.42341644, -0.0664261 , -0.0664261 , -0.0664261 ,\n",
       "        1.29056424, -0.0664261 , -0.0664261 , -0.0664261 , -0.0664261 ,\n",
       "       -0.0664261 , -1.42341644, -0.0664261 , -0.0664261 , -1.42341644,\n",
       "        1.29056424, -0.0664261 , -1.42341644, -0.0664261 , -0.0664261 ,\n",
       "       -0.0664261 ,  1.29056424, -0.0664261 ,  1.29056424, -1.42341644,\n",
       "       -0.0664261 , -0.0664261 ,  1.29056424, -1.42341644, -0.0664261 ,\n",
       "       -0.0664261 , -0.0664261 , -0.0664261 ,  1.29056424, -1.42341644,\n",
       "        1.29056424, -1.42341644,  1.29056424,  1.29056424,  1.29056424,\n",
       "        1.29056424,  1.29056424,  1.29056424,  1.29056424, -1.42341644,\n",
       "       -0.0664261 , -0.0664261 ,  1.29056424, -1.42341644,  1.29056424,\n",
       "        1.29056424, -0.0664261 , -0.0664261 ,  1.29056424, -0.0664261 ,\n",
       "       -0.0664261 ,  1.29056424,  1.29056424,  1.29056424,  1.29056424,\n",
       "       -0.0664261 ,  1.29056424,  1.29056424,  1.29056424, -0.0664261 ,\n",
       "        1.29056424, -0.0664261 , -1.42341644,  1.29056424,  1.29056424,\n",
       "        1.29056424, -1.42341644, -0.0664261 , -0.0664261 ,  1.29056424,\n",
       "       -0.0664261 ,  1.29056424,  1.29056424, -1.42341644, -1.42341644,\n",
       "        1.29056424, -0.0664261 ,  1.29056424,  1.29056424, -0.0664261 ,\n",
       "        1.29056424,  1.29056424,  1.29056424, -0.0664261 , -0.0664261 ,\n",
       "        1.29056424,  1.29056424,  1.29056424,  1.29056424,  1.29056424,\n",
       "        1.29056424, -0.0664261 ,  1.29056424, -1.42341644,  1.29056424,\n",
       "        1.29056424])"
      ]
     },
     "execution_count": 446,
     "metadata": {
      "tags": []
     },
     "output_type": "execute_result"
    }
   ],
   "source": [
    "X=(np.column_stack((np.ones(dados2.shape[0]),CaselaDeReferencia(dados2[\"age\"]),CaselaDeReferencia(dados2[\"menopause\"]),CaselaDeReferencia(dados2[\"tumor-size\"])\n",
    "                  ,CaselaDeReferencia(dados2[\"inv-nodes\"]),CaselaDeReferencia(dados2[\"node-caps\"]),CaselaDeReferencia(dados2[\"breast\"])\n",
    "                  ,CaselaDeReferencia(dados2[\"irradiat\"]),dados2[\"deg-malig\"])))\n",
    "\n",
    "X[:,-1]=scale(X[:,-1])\n",
    "X[:,-1]"
   ]
  },
  {
   "cell_type": "code",
   "execution_count": 447,
   "metadata": {
    "colab": {
     "base_uri": "https://localhost:8080/",
     "height": 256
    },
    "colab_type": "code",
    "id": "zI9W5IrawxUN",
    "outputId": "ea2a22de-8498-4ba5-8264-f4a7d14a696f"
   },
   "outputs": [
    {
     "data": {
      "text/plain": [
       "array([1, 1, 1, 1, 1, 1, 1, 1, 1, 1, 1, 1, 1, 1, 1, 1, 1, 1, 1, 1, 1, 1,\n",
       "       1, 1, 1, 1, 1, 1, 1, 1, 1, 1, 1, 1, 1, 1, 1, 1, 1, 1, 1, 1, 1, 1,\n",
       "       1, 1, 1, 1, 1, 1, 1, 1, 1, 1, 1, 1, 1, 1, 1, 1, 1, 1, 1, 1, 1, 1,\n",
       "       1, 1, 1, 1, 1, 1, 1, 1, 1, 1, 1, 1, 1, 1, 1, 1, 1, 1, 1, 1, 1, 1,\n",
       "       1, 1, 1, 1, 1, 1, 1, 1, 1, 1, 1, 1, 1, 1, 1, 1, 1, 1, 1, 1, 1, 1,\n",
       "       1, 1, 1, 1, 1, 1, 1, 1, 1, 1, 1, 1, 1, 1, 1, 1, 1, 1, 1, 1, 1, 1,\n",
       "       1, 1, 1, 1, 1, 1, 1, 1, 1, 1, 1, 1, 1, 1, 1, 1, 1, 1, 1, 1, 1, 1,\n",
       "       1, 1, 1, 1, 1, 1, 1, 1, 1, 1, 1, 1, 1, 1, 1, 1, 1, 1, 1, 1, 1, 1,\n",
       "       1, 1, 1, 1, 1, 1, 1, 1, 1, 1, 1, 1, 1, 1, 1, 1, 1, 1, 1, 1, 1, 1,\n",
       "       1, 1, 1, 0, 0, 0, 0, 0, 0, 0, 0, 0, 0, 0, 0, 0, 0, 0, 0, 0, 0, 0,\n",
       "       0, 0, 0, 0, 0, 0, 0, 0, 0, 0, 0, 0, 0, 0, 0, 0, 0, 0, 0, 0, 0, 0,\n",
       "       0, 0, 0, 0, 0, 0, 0, 0, 0, 0, 0, 0, 0, 0, 0, 0, 0, 0, 0, 0, 0, 0,\n",
       "       0, 0, 0, 0, 0, 0, 0, 0, 0, 0, 0, 0, 0, 0, 0, 0, 0, 0, 0, 0, 0, 0])"
      ]
     },
     "execution_count": 447,
     "metadata": {
      "tags": []
     },
     "output_type": "execute_result"
    }
   ],
   "source": [
    "Y=dados2[\"class\"].values\n",
    "Y=np.array([1 if i==\"no-recurrence-events\" else 0 for i in dados[\"class\"]])\n",
    "Y"
   ]
  },
  {
   "cell_type": "code",
   "execution_count": 0,
   "metadata": {
    "colab": {},
    "colab_type": "code",
    "id": "gq9w0gOL7p1B"
   },
   "outputs": [],
   "source": [
    "xtreino,xteste,ytreino,yteste=train_test_split(X,Y,test_size=0.3,random_state=7)\n",
    "ytreino=ytreino.reshape(-1,1)\n",
    "yteste=yteste.reshape(-1,1)"
   ]
  },
  {
   "cell_type": "code",
   "execution_count": 0,
   "metadata": {
    "colab": {},
    "colab_type": "code",
    "id": "LPJdD-mBM4-v"
   },
   "outputs": [],
   "source": [
    "#Hiperparâmetros do modelo.\n",
    "Taxa=0.05\n",
    "Epocas=20000\n",
    "Passos=2000"
   ]
  },
  {
   "cell_type": "code",
   "execution_count": 0,
   "metadata": {
    "colab": {},
    "colab_type": "code",
    "id": "xhWWHiVMM5CC"
   },
   "outputs": [],
   "source": [
    "x= tf.placeholder(tf.float32)\n",
    "y = tf.placeholder(tf.float32)\n",
    "#Pesos com inicializações aleatórias.\n",
    "Beta = tf.Variable(np.random.randn(xtreino.shape[1],1),dtype=tf.float32)"
   ]
  },
  {
   "cell_type": "code",
   "execution_count": 0,
   "metadata": {
    "colab": {},
    "colab_type": "code",
    "id": "BNSvY-16M5It"
   },
   "outputs": [],
   "source": [
    "#Modelo que preve a probabilidade de ocorrência de sucesso nesse caso é a ocorrência de cancêr não-recorrente.\n",
    "Modelo = 1/(1+tf.math.exp(-tf.matmul(x,Beta)))\n",
    " \n",
    "#Função Custo\n",
    "Custo = (tf.reduce_sum(-y*(tf.math.log(Modelo))-(1-y)*tf.math.log(1-Modelo)) / (2*dados.shape[0]))\n",
    " \n",
    "#Otimização com Gradiente Descendente\n",
    "Treino = tf.train.GradientDescentOptimizer(Taxa).minimize(Custo)"
   ]
  },
  {
   "cell_type": "markdown",
   "metadata": {
    "colab_type": "text",
    "id": "CYdCDaSLh-mW"
   },
   "source": [
    "Aprendizado com o gradiente descente que no final dá todos os parâmetros do modelo convergindo."
   ]
  },
  {
   "cell_type": "code",
   "execution_count": 452,
   "metadata": {
    "colab": {
     "base_uri": "https://localhost:8080/",
     "height": 6298
    },
    "colab_type": "code",
    "id": "xHif5tk_M5L0",
    "outputId": "5f9b8644-c167-48e1-81bb-50183f5208c1"
   },
   "outputs": [
    {
     "name": "stdout",
     "output_type": "stream",
     "text": [
      "2000 \n",
      " 0.1918206 \n",
      " [[ 0.38847053]\n",
      " [-1.4680929 ]\n",
      " [ 0.45065674]\n",
      " [ 0.54654205]\n",
      " [ 0.06795641]\n",
      " [ 0.0676682 ]\n",
      " [ 0.12966648]\n",
      " [ 0.03307079]\n",
      " [ 0.6616117 ]\n",
      " [ 0.15204675]\n",
      " [-0.12966873]\n",
      " [-0.21044265]\n",
      " [-0.34537962]\n",
      " [ 0.8096144 ]\n",
      " [ 0.5813156 ]\n",
      " [ 0.56700104]\n",
      " [ 0.4546299 ]\n",
      " [-0.9546574 ]\n",
      " [ 1.0342262 ]\n",
      " [-1.6056944 ]\n",
      " [ 1.1275625 ]\n",
      " [ 0.20400167]\n",
      " [-0.13649954]\n",
      " [-1.2299215 ]\n",
      " [ 0.6464412 ]\n",
      " [-0.69420844]\n",
      " [ 0.17218566]\n",
      " [ 0.35964048]\n",
      " [-0.48339462]]\n",
      "4000 \n",
      " 0.18302286 \n",
      " [[ 0.48846617]\n",
      " [-1.1082414 ]\n",
      " [ 0.25512332]\n",
      " [ 0.2647777 ]\n",
      " [ 0.27069396]\n",
      " [ 0.06364974]\n",
      " [-0.05525071]\n",
      " [ 0.06203619]\n",
      " [ 0.8615677 ]\n",
      " [ 0.08402461]\n",
      " [-0.15491767]\n",
      " [-0.35558203]\n",
      " [-0.30257764]\n",
      " [ 0.6867771 ]\n",
      " [ 0.63062805]\n",
      " [ 0.6684318 ]\n",
      " [ 0.48048815]\n",
      " [-0.9400211 ]\n",
      " [ 0.9408382 ]\n",
      " [-1.4920292 ]\n",
      " [ 1.0154645 ]\n",
      " [-0.01153762]\n",
      " [-0.03826639]\n",
      " [-1.0998416 ]\n",
      " [ 0.61434263]\n",
      " [-0.37653628]\n",
      " [ 0.25638914]\n",
      " [-0.05481663]\n",
      " [-0.4448859 ]]\n",
      "6000 \n",
      " 0.1805925 \n",
      " [[ 0.53465945]\n",
      " [-0.9862596 ]\n",
      " [ 0.21792391]\n",
      " [ 0.17564543]\n",
      " [ 0.30530933]\n",
      " [ 0.0608498 ]\n",
      " [-0.2138117 ]\n",
      " [ 0.04946597]\n",
      " [ 0.9951078 ]\n",
      " [ 0.01649342]\n",
      " [-0.16577592]\n",
      " [-0.37163392]\n",
      " [-0.32446918]\n",
      " [ 0.5628584 ]\n",
      " [ 0.6514946 ]\n",
      " [ 0.7496333 ]\n",
      " [ 0.50808674]\n",
      " [-0.92930126]\n",
      " [ 0.85938966]\n",
      " [-1.393907  ]\n",
      " [ 0.90268487]\n",
      " [-0.16203354]\n",
      " [-0.02918474]\n",
      " [-0.96959525]\n",
      " [ 0.6271721 ]\n",
      " [-0.2025687 ]\n",
      " [ 0.29032326]\n",
      " [-0.24587226]\n",
      " [-0.43245688]]\n",
      "8000 \n",
      " 0.17933293 \n",
      " [[ 0.5563833 ]\n",
      " [-0.9373298 ]\n",
      " [ 0.21774432]\n",
      " [ 0.140636  ]\n",
      " [ 0.29914448]\n",
      " [ 0.05514449]\n",
      " [-0.35029134]\n",
      " [ 0.02223705]\n",
      " [ 1.0930922 ]\n",
      " [-0.03933059]\n",
      " [-0.17217742]\n",
      " [-0.36350876]\n",
      " [-0.34889662]\n",
      " [ 0.44898134]\n",
      " [ 0.6605847 ]\n",
      " [ 0.8218388 ]\n",
      " [ 0.5361976 ]\n",
      " [-0.92686397]\n",
      " [ 0.78645515]\n",
      " [-1.3100944 ]\n",
      " [ 0.7924719 ]\n",
      " [-0.26181844]\n",
      " [-0.05230457]\n",
      " [-0.8572206 ]\n",
      " [ 0.65295565]\n",
      " [-0.09238908]\n",
      " [ 0.30585012]\n",
      " [-0.33604395]\n",
      " [-0.42722297]]\n",
      "10000 \n",
      " 0.1784986 \n",
      " [[ 0.5670752 ]\n",
      " [-0.9116613 ]\n",
      " [ 0.22352992]\n",
      " [ 0.12312564]\n",
      " [ 0.2838625 ]\n",
      " [ 0.04585671]\n",
      " [-0.4675331 ]\n",
      " [-0.00520596]\n",
      " [ 1.1685437 ]\n",
      " [-0.0829033 ]\n",
      " [-0.1757518 ]\n",
      " [-0.3553645 ]\n",
      " [-0.36753985]\n",
      " [ 0.35048133]\n",
      " [ 0.66241306]\n",
      " [ 0.88869214]\n",
      " [ 0.5640613 ]\n",
      " [-0.9314618 ]\n",
      " [ 0.7199798 ]\n",
      " [-1.2377313 ]\n",
      " [ 0.68543655]\n",
      " [-0.3282198 ]\n",
      " [-0.08613918]\n",
      " [-0.76553047]\n",
      " [ 0.6804881 ]\n",
      " [-0.01349129]\n",
      " [ 0.3140234 ]\n",
      " [-0.38111064]\n",
      " [-0.42496243]]\n",
      "12000 \n",
      " 0.17789556 \n",
      " [[ 0.5726989 ]\n",
      " [-0.895054  ]\n",
      " [ 0.22831699]\n",
      " [ 0.1125973 ]\n",
      " [ 0.2682391 ]\n",
      " [ 0.03347003]\n",
      " [-0.567947  ]\n",
      " [-0.02884383]\n",
      " [ 1.2281797 ]\n",
      " [-0.11635203]\n",
      " [-0.17736652]\n",
      " [-0.35092956]\n",
      " [-0.38176683]\n",
      " [ 0.26777637]\n",
      " [ 0.6590481 ]\n",
      " [ 0.9516459 ]\n",
      " [ 0.5913652 ]\n",
      " [-0.94102806]\n",
      " [ 0.6588056 ]\n",
      " [-1.1747106 ]\n",
      " [ 0.58166   ]\n",
      " [-0.373465  ]\n",
      " [-0.12226431]\n",
      " [-0.6929691 ]\n",
      " [ 0.7062229 ]\n",
      " [ 0.04777364]\n",
      " [ 0.3187572 ]\n",
      " [-0.4048629 ]\n",
      " [-0.42422995]]\n",
      "14000 \n",
      " 0.17743875 \n",
      " [[ 0.5759633 ]\n",
      " [-0.8831838 ]\n",
      " [ 0.23112836]\n",
      " [ 0.10545864]\n",
      " [ 0.2546    ]\n",
      " [ 0.01875668]\n",
      " [-0.6537367 ]\n",
      " [-0.04823909]\n",
      " [ 1.276009  ]\n",
      " [-0.14203268]\n",
      " [-0.1777693 ]\n",
      " [-0.34978512]\n",
      " [-0.39327553]\n",
      " [ 0.19917218]\n",
      " [ 0.65200967]\n",
      " [ 1.0114001 ]\n",
      " [ 0.6179716 ]\n",
      " [-0.9537825 ]\n",
      " [ 0.6022113 ]\n",
      " [-1.1196064 ]\n",
      " [ 0.4810923 ]\n",
      " [-0.40530467]\n",
      " [-0.15724012]\n",
      " [-0.6367091 ]\n",
      " [ 0.72921836]\n",
      " [ 0.09780066]\n",
      " [ 0.32162187]\n",
      " [-0.4176407 ]\n",
      " [-0.42432895]]\n",
      "16000 \n",
      " 0.17708035 \n",
      " [[ 0.57814115]\n",
      " [-0.8744477 ]\n",
      " [ 0.23224252]\n",
      " [ 0.10020545]\n",
      " [ 0.24327223]\n",
      " [ 0.00246687]\n",
      " [-0.72690654]\n",
      " [-0.06393164]\n",
      " [ 1.3146818 ]\n",
      " [-0.16190915]\n",
      " [-0.17750828]\n",
      " [-0.3510034 ]\n",
      " [-0.40306413]\n",
      " [ 0.1423923 ]\n",
      " [ 0.6425373 ]\n",
      " [ 1.0683424 ]\n",
      " [ 0.64383054]\n",
      " [-0.968389  ]\n",
      " [ 0.54967624]\n",
      " [-1.0713965 ]\n",
      " [ 0.38365158]\n",
      " [-0.4285334 ]\n",
      " [-0.18974818]\n",
      " [-0.5937908 ]\n",
      " [ 0.7494486 ]\n",
      " [ 0.13994321]\n",
      " [ 0.32336214]\n",
      " [-0.42421535]\n",
      " [-0.42487556]]\n",
      "18000 \n",
      " 0.17679079 \n",
      " [[ 0.5798638 ]\n",
      " [-0.86804813]\n",
      " [ 0.23206715]\n",
      " [ 0.09607515]\n",
      " [ 0.233975  ]\n",
      " [-0.0147679 ]\n",
      " [-0.7892455 ]\n",
      " [-0.07661832]\n",
      " [ 1.3460767 ]\n",
      " [-0.17748058]\n",
      " [-0.17693122]\n",
      " [-0.35382155]\n",
      " [-0.41166168]\n",
      " [ 0.09523869]\n",
      " [ 0.63160485]\n",
      " [ 1.1227367 ]\n",
      " [ 0.6689317 ]\n",
      " [-0.98390186]\n",
      " [ 0.5007854 ]\n",
      " [-1.0292801 ]\n",
      " [ 0.28924835]\n",
      " [-0.44612357]\n",
      " [-0.21942365]\n",
      " [-0.5615449 ]\n",
      " [ 0.7671812 ]\n",
      " [ 0.17617509]\n",
      " [ 0.3243872 ]\n",
      " [-0.42698464]\n",
      " [-0.4256502 ]]\n",
      "20000 \n",
      " 0.1765509 \n",
      " [[ 0.58141905]\n",
      " [-0.8634727 ]\n",
      " [ 0.23093031]\n",
      " [ 0.09262782]\n",
      " [ 0.22629637]\n",
      " [-0.03244964]\n",
      " [-0.84232485]\n",
      " [-0.08691538]\n",
      " [ 1.3715881 ]\n",
      " [-0.18984975]\n",
      " [-0.17623633]\n",
      " [-0.35768825]\n",
      " [-0.41935405]\n",
      " [ 0.0558202 ]\n",
      " [ 0.6199401 ]\n",
      " [ 1.1747836 ]\n",
      " [ 0.6932854 ]\n",
      " [-0.9996375 ]\n",
      " [ 0.4551896 ]\n",
      " [-0.99258137]\n",
      " [ 0.19779527]\n",
      " [-0.45993948]\n",
      " [-0.24632616]\n",
      " [-0.5377156 ]\n",
      " [ 0.7827641 ]\n",
      " [ 0.2077891 ]\n",
      " [ 0.32495138]\n",
      " [-0.42727438]\n",
      " [-0.4265054 ]]\n",
      "Custo Final de Treinamento: 0.1765509 \n",
      " Parâmetros:\n",
      " [[ 0.58141905]\n",
      " [-0.8634727 ]\n",
      " [ 0.23093031]\n",
      " [ 0.09262782]\n",
      " [ 0.22629637]\n",
      " [-0.03244964]\n",
      " [-0.84232485]\n",
      " [-0.08691538]\n",
      " [ 1.3715881 ]\n",
      " [-0.18984975]\n",
      " [-0.17623633]\n",
      " [-0.35768825]\n",
      " [-0.41935405]\n",
      " [ 0.0558202 ]\n",
      " [ 0.6199401 ]\n",
      " [ 1.1747836 ]\n",
      " [ 0.6932854 ]\n",
      " [-0.9996375 ]\n",
      " [ 0.4551896 ]\n",
      " [-0.99258137]\n",
      " [ 0.19779527]\n",
      " [-0.45993948]\n",
      " [-0.24632616]\n",
      " [-0.5377156 ]\n",
      " [ 0.7827641 ]\n",
      " [ 0.2077891 ]\n",
      " [ 0.32495138]\n",
      " [-0.42727438]\n",
      " [-0.4265054 ]]\n",
      "Custo Final em Teste: 0.09472461\n"
     ]
    }
   ],
   "source": [
    "init=tf.global_variables_initializer()\n",
    "# Iniciando a sessão\n",
    "with tf.Session() as sess:\n",
    "    # Iniciando as variáveis\n",
    "    sess.run(init)\n",
    "    # Treinamento do modelo\n",
    "    for i in range(Epocas):\n",
    "        sess.run(Treino, feed_dict={x: xtreino, y: ytreino})\n",
    "        if (i+1) % Passos == 0:\n",
    "            c = sess.run(Custo, feed_dict={x: xtreino, y: ytreino})\n",
    "            print(i+1,\"\\n\", c,\"\\n\" ,sess.run(Beta))\n",
    "    # Imprimindo os parâmetros finais do modelo\n",
    "    custo_treinamento = sess.run(Custo, feed_dict={x: xtreino, y: ytreino})\n",
    "    print(\"Custo Final de Treinamento:\", custo_treinamento, \"\\n Parâmetros:\\n\", sess.run(Beta))\n",
    "    # Testando o modelo\n",
    "    custo_teste = sess.run(tf.reduce_sum(tf.square(Modelo - y)) / (2 * xteste.shape[0]), feed_dict={x: xteste, y: yteste})     \n",
    "    print(\"Custo Final em Teste:\", custo_teste)\n",
    "    ypredito=sess.run(1/(1+tf.math.exp(-tf.matmul(xteste.astype(\"float32\"),Beta))))"
   ]
  },
  {
   "cell_type": "markdown",
   "metadata": {
    "colab_type": "text",
    "id": "BnLIX4FsiTKs"
   },
   "source": [
    "Comparação entre o valor predito e o valor real, usando como ponto de corte p=0.5.\n",
    "\n",
    "\n"
   ]
  },
  {
   "cell_type": "code",
   "execution_count": 453,
   "metadata": {
    "colab": {
     "base_uri": "https://localhost:8080/",
     "height": 1597
    },
    "colab_type": "code",
    "id": "-MumZWuBM5FT",
    "outputId": "de0976f6-82c9-4366-9e49-32ec8c0926ed"
   },
   "outputs": [
    {
     "data": {
      "text/plain": [
       "array([[1., 0.],\n",
       "       [1., 1.],\n",
       "       [1., 0.],\n",
       "       [1., 1.],\n",
       "       [1., 1.],\n",
       "       [1., 0.],\n",
       "       [0., 0.],\n",
       "       [0., 1.],\n",
       "       [0., 1.],\n",
       "       [1., 0.],\n",
       "       [1., 1.],\n",
       "       [1., 0.],\n",
       "       [0., 1.],\n",
       "       [1., 0.],\n",
       "       [1., 1.],\n",
       "       [1., 1.],\n",
       "       [1., 1.],\n",
       "       [0., 0.],\n",
       "       [1., 0.],\n",
       "       [1., 1.],\n",
       "       [1., 1.],\n",
       "       [1., 1.],\n",
       "       [1., 1.],\n",
       "       [1., 1.],\n",
       "       [1., 1.],\n",
       "       [1., 0.],\n",
       "       [1., 1.],\n",
       "       [1., 1.],\n",
       "       [1., 1.],\n",
       "       [1., 1.],\n",
       "       [1., 1.],\n",
       "       [1., 1.],\n",
       "       [1., 1.],\n",
       "       [1., 1.],\n",
       "       [0., 0.],\n",
       "       [1., 1.],\n",
       "       [0., 1.],\n",
       "       [1., 1.],\n",
       "       [1., 1.],\n",
       "       [1., 1.],\n",
       "       [1., 0.],\n",
       "       [1., 1.],\n",
       "       [1., 0.],\n",
       "       [1., 1.],\n",
       "       [0., 1.],\n",
       "       [0., 0.],\n",
       "       [1., 1.],\n",
       "       [0., 0.],\n",
       "       [1., 1.],\n",
       "       [1., 0.],\n",
       "       [1., 1.],\n",
       "       [1., 1.],\n",
       "       [1., 1.],\n",
       "       [1., 1.],\n",
       "       [1., 1.],\n",
       "       [1., 0.],\n",
       "       [1., 1.],\n",
       "       [1., 1.],\n",
       "       [1., 1.],\n",
       "       [1., 1.],\n",
       "       [1., 1.],\n",
       "       [1., 1.],\n",
       "       [1., 0.],\n",
       "       [1., 0.],\n",
       "       [1., 0.],\n",
       "       [1., 1.],\n",
       "       [1., 0.],\n",
       "       [1., 1.],\n",
       "       [1., 1.],\n",
       "       [1., 1.],\n",
       "       [1., 1.],\n",
       "       [1., 0.],\n",
       "       [1., 1.],\n",
       "       [1., 0.],\n",
       "       [1., 0.],\n",
       "       [1., 1.],\n",
       "       [1., 1.],\n",
       "       [1., 0.],\n",
       "       [1., 0.],\n",
       "       [1., 1.],\n",
       "       [1., 1.],\n",
       "       [0., 0.],\n",
       "       [1., 1.],\n",
       "       [1., 1.],\n",
       "       [1., 1.],\n",
       "       [1., 0.]])"
      ]
     },
     "execution_count": 453,
     "metadata": {
      "tags": []
     },
     "output_type": "execute_result"
    }
   ],
   "source": [
    "np.column_stack((np.round(ypredito),yteste))"
   ]
  },
  {
   "cell_type": "code",
   "execution_count": 454,
   "metadata": {
    "colab": {
     "base_uri": "https://localhost:8080/",
     "height": 54
    },
    "colab_type": "code",
    "id": "rEXqlz2vAw5x",
    "outputId": "cb04af5b-ba7b-42e4-9613-40b05023fba1"
   },
   "outputs": [
    {
     "data": {
      "text/plain": [
       "array([[ 6, 22],\n",
       "       [ 5, 53]])"
      ]
     },
     "execution_count": 454,
     "metadata": {
      "tags": []
     },
     "output_type": "execute_result"
    }
   ],
   "source": [
    "#Matriz de confusão\n",
    "confusion_matrix(yteste,np.round(ypredito))"
   ]
  },
  {
   "cell_type": "code",
   "execution_count": 455,
   "metadata": {
    "colab": {
     "base_uri": "https://localhost:8080/",
     "height": 182
    },
    "colab_type": "code",
    "id": "bLquJ8CmBsMf",
    "outputId": "6110ce5a-afb8-4ddb-a631-0b04e79f8a58"
   },
   "outputs": [
    {
     "name": "stdout",
     "output_type": "stream",
     "text": [
      "              precision    recall  f1-score   support\n",
      "\n",
      "           0       0.55      0.21      0.31        28\n",
      "           1       0.71      0.91      0.80        58\n",
      "\n",
      "   micro avg       0.69      0.69      0.69        86\n",
      "   macro avg       0.63      0.56      0.55        86\n",
      "weighted avg       0.65      0.69      0.64        86\n",
      "\n"
     ]
    }
   ],
   "source": [
    "#Métricas de acurácia\n",
    "print(classification_report(yteste,np.round(ypredito)))"
   ]
  }
 ],
 "metadata": {
  "colab": {
   "collapsed_sections": [],
   "name": "RegressãoLogísticaLista2RedesNeurais.ipynb",
   "provenance": [],
   "version": "0.3.2"
  },
  "kernelspec": {
   "display_name": "Python 3",
   "language": "python",
   "name": "python3"
  },
  "language_info": {
   "codemirror_mode": {
    "name": "ipython",
    "version": 3
   },
   "file_extension": ".py",
   "mimetype": "text/x-python",
   "name": "python",
   "nbconvert_exporter": "python",
   "pygments_lexer": "ipython3",
   "version": "3.7.1"
  }
 },
 "nbformat": 4,
 "nbformat_minor": 1
}
